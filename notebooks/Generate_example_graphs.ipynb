{
 "cells": [
  {
   "cell_type": "code",
   "execution_count": 1,
   "id": "a50742f3",
   "metadata": {},
   "outputs": [],
   "source": [
    "import pandas as pd\n",
    "import matplotlib.pyplot as plt\n",
    "from collections import defaultdict\n",
    "%matplotlib inline\n",
    "plt.style.use(\"seaborn\")"
   ]
  },
  {
   "cell_type": "code",
   "execution_count": 3,
   "id": "08a3701e",
   "metadata": {
    "scrolled": true
   },
   "outputs": [
    {
     "data": {
      "text/html": [
       "<div>\n",
       "<style scoped>\n",
       "    .dataframe tbody tr th:only-of-type {\n",
       "        vertical-align: middle;\n",
       "    }\n",
       "\n",
       "    .dataframe tbody tr th {\n",
       "        vertical-align: top;\n",
       "    }\n",
       "\n",
       "    .dataframe thead th {\n",
       "        text-align: right;\n",
       "    }\n",
       "</style>\n",
       "<table border=\"1\" class=\"dataframe\">\n",
       "  <thead>\n",
       "    <tr style=\"text-align: right;\">\n",
       "      <th></th>\n",
       "      <th>no-lang</th>\n",
       "      <th>target-lang</th>\n",
       "      <th>low-ttr</th>\n",
       "      <th>high-ttr</th>\n",
       "      <th>low-mattr</th>\n",
       "      <th>high-mattr</th>\n",
       "    </tr>\n",
       "  </thead>\n",
       "  <tbody>\n",
       "    <tr>\n",
       "      <th>amh</th>\n",
       "      <td>5.7</td>\n",
       "      <td>11.1</td>\n",
       "      <td>12.9</td>\n",
       "      <td>11.3</td>\n",
       "      <td>10.5</td>\n",
       "      <td>8.3</td>\n",
       "    </tr>\n",
       "    <tr>\n",
       "      <th>chm</th>\n",
       "      <td>14.3</td>\n",
       "      <td>15.4</td>\n",
       "      <td>10.3</td>\n",
       "      <td>15.0</td>\n",
       "      <td>8.7</td>\n",
       "      <td>19.3</td>\n",
       "    </tr>\n",
       "    <tr>\n",
       "      <th>fra</th>\n",
       "      <td>60.3</td>\n",
       "      <td>53.0</td>\n",
       "      <td>25.7</td>\n",
       "      <td>48.6</td>\n",
       "      <td>22.8</td>\n",
       "      <td>12.3</td>\n",
       "    </tr>\n",
       "    <tr>\n",
       "      <th>hun</th>\n",
       "      <td>32.0</td>\n",
       "      <td>44.8</td>\n",
       "      <td>13.8</td>\n",
       "      <td>36.4</td>\n",
       "      <td>19.7</td>\n",
       "      <td>37.3</td>\n",
       "    </tr>\n",
       "    <tr>\n",
       "      <th>ind</th>\n",
       "      <td>48.3</td>\n",
       "      <td>57.1</td>\n",
       "      <td>22.6</td>\n",
       "      <td>51.9</td>\n",
       "      <td>32.7</td>\n",
       "      <td>22.0</td>\n",
       "    </tr>\n",
       "    <tr>\n",
       "      <th>isl</th>\n",
       "      <td>20.2</td>\n",
       "      <td>38.6</td>\n",
       "      <td>29.8</td>\n",
       "      <td>40.2</td>\n",
       "      <td>19.8</td>\n",
       "      <td>16.7</td>\n",
       "    </tr>\n",
       "    <tr>\n",
       "      <th>sme</th>\n",
       "      <td>15.1</td>\n",
       "      <td>19.1</td>\n",
       "      <td>14.6</td>\n",
       "      <td>19.6</td>\n",
       "      <td>19.0</td>\n",
       "      <td>22.3</td>\n",
       "    </tr>\n",
       "    <tr>\n",
       "      <th>vie</th>\n",
       "      <td>50.3</td>\n",
       "      <td>62.2</td>\n",
       "      <td>54.7</td>\n",
       "      <td>51.8</td>\n",
       "      <td>33.6</td>\n",
       "      <td>26.3</td>\n",
       "    </tr>\n",
       "  </tbody>\n",
       "</table>\n",
       "</div>"
      ],
      "text/plain": [
       "     no-lang  target-lang  low-ttr  high-ttr  low-mattr  high-mattr\n",
       "amh      5.7         11.1     12.9      11.3       10.5         8.3\n",
       "chm     14.3         15.4     10.3      15.0        8.7        19.3\n",
       "fra     60.3         53.0     25.7      48.6       22.8        12.3\n",
       "hun     32.0         44.8     13.8      36.4       19.7        37.3\n",
       "ind     48.3         57.1     22.6      51.9       32.7        22.0\n",
       "isl     20.2         38.6     29.8      40.2       19.8        16.7\n",
       "sme     15.1         19.1     14.6      19.6       19.0        22.3\n",
       "vie     50.3         62.2     54.7      51.8       33.6        26.3"
      ]
     },
     "execution_count": 3,
     "metadata": {},
     "output_type": "execute_result"
    }
   ],
   "source": [
    "all_accuracies = pd.read_csv(\"../results/tables/all_results/accuracy.csv\",\n",
    "                            sep=\";\", index_col=0)\n",
    "\n",
    "all_accuracies"
   ]
  },
  {
   "cell_type": "code",
   "execution_count": 4,
   "id": "6b214aa0",
   "metadata": {},
   "outputs": [
    {
     "data": {
      "text/html": [
       "<div>\n",
       "<style scoped>\n",
       "    .dataframe tbody tr th:only-of-type {\n",
       "        vertical-align: middle;\n",
       "    }\n",
       "\n",
       "    .dataframe tbody tr th {\n",
       "        vertical-align: top;\n",
       "    }\n",
       "\n",
       "    .dataframe thead th {\n",
       "        text-align: right;\n",
       "    }\n",
       "</style>\n",
       "<table border=\"1\" class=\"dataframe\">\n",
       "  <thead>\n",
       "    <tr style=\"text-align: right;\">\n",
       "      <th></th>\n",
       "      <th>target-lang</th>\n",
       "      <th>low-ttr</th>\n",
       "      <th>high-mattr</th>\n",
       "    </tr>\n",
       "  </thead>\n",
       "  <tbody>\n",
       "    <tr>\n",
       "      <th>amh</th>\n",
       "      <td>11.1</td>\n",
       "      <td>12.9</td>\n",
       "      <td>8.3</td>\n",
       "    </tr>\n",
       "    <tr>\n",
       "      <th>chm</th>\n",
       "      <td>15.4</td>\n",
       "      <td>10.3</td>\n",
       "      <td>19.3</td>\n",
       "    </tr>\n",
       "  </tbody>\n",
       "</table>\n",
       "</div>"
      ],
      "text/plain": [
       "     target-lang  low-ttr  high-mattr\n",
       "amh         11.1     12.9         8.3\n",
       "chm         15.4     10.3        19.3"
      ]
     },
     "execution_count": 4,
     "metadata": {},
     "output_type": "execute_result"
    }
   ],
   "source": [
    "lr_df = all_accuracies.loc[[\"amh\", \"chm\"]]\n",
    "lr_df = lr_df[[\"target-lang\", \"low-ttr\", \"high-mattr\"]]\n",
    "lr_df"
   ]
  },
  {
   "cell_type": "code",
   "execution_count": 5,
   "id": "a1252e9a",
   "metadata": {},
   "outputs": [],
   "source": [
    "lr_df.rename(index={\"amh\": \"Amharic\", \"chm\": \"Meadow Mari\"},\n",
    "            inplace=True)\n",
    "lr_df.rename(columns={\"target-lang\": \"using only target language adapter\",\n",
    "                     \"low-ttr\": \"stacking morphologically similar language\",\n",
    "                     \"high-mattr\": \"stacking morphologically distant language\"}, inplace=True)"
   ]
  },
  {
   "cell_type": "code",
   "execution_count": 6,
   "id": "93b9898c",
   "metadata": {},
   "outputs": [
    {
     "data": {
      "image/png": "[encoded data removed]",
      "text/plain": [
       "<Figure size 576x396 with 1 Axes>"
      ]
     },
     "metadata": {},
     "output_type": "display_data"
    }
   ],
   "source": [
    "ax = lr_df.plot.bar(rot=0, ylabel=\"Accuracy\", title=\"Cross-lingual sentence retrieval\")"
   ]
  },
  {
   "cell_type": "code",
   "execution_count": 7,
   "id": "14932041",
   "metadata": {},
   "outputs": [],
   "source": [
    "fig = ax.get_figure()\n",
    "fig.savefig(\"../results/figures/thesis_examples/amh_chm.pdf\")"
   ]
  },
  {
   "cell_type": "code",
   "execution_count": 8,
   "id": "1319197c",
   "metadata": {},
   "outputs": [
    {
     "data": {
      "text/plain": [
       "<AxesSubplot:>"
      ]
     },
     "execution_count": 8,
     "metadata": {},
     "output_type": "execute_result"
    },
    {
     "data": {
      "image/png": "[encoded data removed]",
      "text/plain": [
       "<Figure size 576x396 with 1 Axes>"
      ]
     },
     "metadata": {},
     "output_type": "display_data"
    }
   ],
   "source": [
    "all_accuracies.plot.bar()"
   ]
  },
  {
   "cell_type": "code",
   "execution_count": 9,
   "id": "1cda35c0",
   "metadata": {},
   "outputs": [],
   "source": [
    "language_dict = {\n",
    "    \"amh\": \"Amharic\", \"chm\": \"Meadow Mari\", \"fra\": \"French\", \"hun\": \"Hungarian\", \"ind\": \"Indonesian\",\n",
    "    \"isl\": \"Icelandic\", \"sme\": \"Northern\\nSami\", \"vie\": \"Vietnamese\"\n",
    "}"
   ]
  },
  {
   "cell_type": "code",
   "execution_count": 20,
   "id": "757e393b",
   "metadata": {},
   "outputs": [
    {
     "data": {
      "text/html": [
       "<div>\n",
       "<style scoped>\n",
       "    .dataframe tbody tr th:only-of-type {\n",
       "        vertical-align: middle;\n",
       "    }\n",
       "\n",
       "    .dataframe tbody tr th {\n",
       "        vertical-align: top;\n",
       "    }\n",
       "\n",
       "    .dataframe thead th {\n",
       "        text-align: right;\n",
       "    }\n",
       "</style>\n",
       "<table border=\"1\" class=\"dataframe\">\n",
       "  <thead>\n",
       "    <tr style=\"text-align: right;\">\n",
       "      <th></th>\n",
       "      <th>no-lang</th>\n",
       "      <th>target-lang</th>\n",
       "    </tr>\n",
       "  </thead>\n",
       "  <tbody>\n",
       "    <tr>\n",
       "      <th>Amharic</th>\n",
       "      <td>5.7</td>\n",
       "      <td>11.1</td>\n",
       "    </tr>\n",
       "    <tr>\n",
       "      <th>Meadow Mari</th>\n",
       "      <td>14.3</td>\n",
       "      <td>15.4</td>\n",
       "    </tr>\n",
       "    <tr>\n",
       "      <th>French</th>\n",
       "      <td>60.3</td>\n",
       "      <td>53.0</td>\n",
       "    </tr>\n",
       "    <tr>\n",
       "      <th>Hungarian</th>\n",
       "      <td>32.0</td>\n",
       "      <td>44.8</td>\n",
       "    </tr>\n",
       "    <tr>\n",
       "      <th>Indonesian</th>\n",
       "      <td>48.3</td>\n",
       "      <td>57.1</td>\n",
       "    </tr>\n",
       "    <tr>\n",
       "      <th>Icelandic</th>\n",
       "      <td>20.2</td>\n",
       "      <td>38.6</td>\n",
       "    </tr>\n",
       "    <tr>\n",
       "      <th>Northern\\nSami</th>\n",
       "      <td>15.1</td>\n",
       "      <td>19.1</td>\n",
       "    </tr>\n",
       "    <tr>\n",
       "      <th>Vietnamese</th>\n",
       "      <td>50.3</td>\n",
       "      <td>62.2</td>\n",
       "    </tr>\n",
       "  </tbody>\n",
       "</table>\n",
       "</div>"
      ],
      "text/plain": [
       "                no-lang  target-lang\n",
       "Amharic             5.7         11.1\n",
       "Meadow Mari        14.3         15.4\n",
       "French             60.3         53.0\n",
       "Hungarian          32.0         44.8\n",
       "Indonesian         48.3         57.1\n",
       "Icelandic          20.2         38.6\n",
       "Northern\\nSami     15.1         19.1\n",
       "Vietnamese         50.3         62.2"
      ]
     },
     "execution_count": 20,
     "metadata": {},
     "output_type": "execute_result"
    }
   ],
   "source": [
    "no_target_lang_df = all_accuracies.filter(items=[\"no-lang\", \"target-lang\"])\n",
    "no_target_lang_df.rename(index=language_dict, inplace=True)\n",
    "# no_target_lang_df[\"target-lang\"] = no_target_lang_df[\"target-lang\"] - no_target_lang_df[\"no-lang\"]\n",
    "# no_target_lang_df.loc[\"French\"][\"target-lang\"] = 0\n",
    "no_target_lang_df"
   ]
  },
  {
   "cell_type": "code",
   "execution_count": 13,
   "id": "2792e47c",
   "metadata": {},
   "outputs": [
    {
     "data": {
      "image/png": "[encoded data removed]",
      "text/plain": [
       "<Figure size 576x396 with 1 Axes>"
      ]
     },
     "metadata": {},
     "output_type": "display_data"
    }
   ],
   "source": [
    "ax = no_target_lang_df.plot.bar(ylabel=\"Accuracy (out of 100)\", stacked=True, rot=0)\n",
    "ax.autoscale()"
   ]
  },
  {
   "cell_type": "code",
   "execution_count": 14,
   "id": "a1e00e70",
   "metadata": {},
   "outputs": [],
   "source": [
    "fig = ax.get_figure()\n",
    "fig.savefig(f\"../results/figures/thesis_examples/accuracy_no_vs_target.pdf\")"
   ]
  },
  {
   "cell_type": "code",
   "execution_count": 22,
   "id": "1e35f6de",
   "metadata": {},
   "outputs": [],
   "source": [
    "eng = [8.3, 19.3, 50.7, 37.3, 49.1, 48.1, 22.3, 54.7]\n",
    "\n",
    "no_target_lang_df[\"stacked with English\"] = eng"
   ]
  },
  {
   "cell_type": "code",
   "execution_count": 16,
   "id": "3e63f22d",
   "metadata": {},
   "outputs": [
    {
     "data": {
      "text/plain": [
       "9.5"
      ]
     },
     "execution_count": 16,
     "metadata": {},
     "output_type": "execute_result"
    }
   ],
   "source": [
    "48.1-38.6"
   ]
  },
  {
   "cell_type": "code",
   "execution_count": 17,
   "id": "c36dd2f1",
   "metadata": {},
   "outputs": [
    {
     "data": {
      "text/plain": [
       "0.24611398963730569"
      ]
     },
     "execution_count": 17,
     "metadata": {},
     "output_type": "execute_result"
    }
   ],
   "source": [
    "9.5/38.6"
   ]
  },
  {
   "cell_type": "code",
   "execution_count": 23,
   "id": "4bb4f8ab",
   "metadata": {},
   "outputs": [
    {
     "data": {
      "text/html": [
       "<div>\n",
       "<style scoped>\n",
       "    .dataframe tbody tr th:only-of-type {\n",
       "        vertical-align: middle;\n",
       "    }\n",
       "\n",
       "    .dataframe tbody tr th {\n",
       "        vertical-align: top;\n",
       "    }\n",
       "\n",
       "    .dataframe thead th {\n",
       "        text-align: right;\n",
       "    }\n",
       "</style>\n",
       "<table border=\"1\" class=\"dataframe\">\n",
       "  <thead>\n",
       "    <tr style=\"text-align: right;\">\n",
       "      <th></th>\n",
       "      <th>no-lang</th>\n",
       "      <th>target-lang</th>\n",
       "      <th>stacked with English</th>\n",
       "    </tr>\n",
       "  </thead>\n",
       "  <tbody>\n",
       "    <tr>\n",
       "      <th>Amharic</th>\n",
       "      <td>5.7</td>\n",
       "      <td>11.1</td>\n",
       "      <td>8.3</td>\n",
       "    </tr>\n",
       "    <tr>\n",
       "      <th>Meadow Mari</th>\n",
       "      <td>14.3</td>\n",
       "      <td>15.4</td>\n",
       "      <td>19.3</td>\n",
       "    </tr>\n",
       "    <tr>\n",
       "      <th>French</th>\n",
       "      <td>60.3</td>\n",
       "      <td>53.0</td>\n",
       "      <td>50.7</td>\n",
       "    </tr>\n",
       "    <tr>\n",
       "      <th>Hungarian</th>\n",
       "      <td>32.0</td>\n",
       "      <td>44.8</td>\n",
       "      <td>37.3</td>\n",
       "    </tr>\n",
       "    <tr>\n",
       "      <th>Indonesian</th>\n",
       "      <td>48.3</td>\n",
       "      <td>57.1</td>\n",
       "      <td>49.1</td>\n",
       "    </tr>\n",
       "    <tr>\n",
       "      <th>Icelandic</th>\n",
       "      <td>20.2</td>\n",
       "      <td>38.6</td>\n",
       "      <td>48.1</td>\n",
       "    </tr>\n",
       "    <tr>\n",
       "      <th>Northern\\nSami</th>\n",
       "      <td>15.1</td>\n",
       "      <td>19.1</td>\n",
       "      <td>22.3</td>\n",
       "    </tr>\n",
       "    <tr>\n",
       "      <th>Vietnamese</th>\n",
       "      <td>50.3</td>\n",
       "      <td>62.2</td>\n",
       "      <td>54.7</td>\n",
       "    </tr>\n",
       "  </tbody>\n",
       "</table>\n",
       "</div>"
      ],
      "text/plain": [
       "                no-lang  target-lang  stacked with English\n",
       "Amharic             5.7         11.1                   8.3\n",
       "Meadow Mari        14.3         15.4                  19.3\n",
       "French             60.3         53.0                  50.7\n",
       "Hungarian          32.0         44.8                  37.3\n",
       "Indonesian         48.3         57.1                  49.1\n",
       "Icelandic          20.2         38.6                  48.1\n",
       "Northern\\nSami     15.1         19.1                  22.3\n",
       "Vietnamese         50.3         62.2                  54.7"
      ]
     },
     "execution_count": 23,
     "metadata": {},
     "output_type": "execute_result"
    }
   ],
   "source": [
    "no_target_lang_df"
   ]
  },
  {
   "cell_type": "code",
   "execution_count": 24,
   "id": "312f2ce2",
   "metadata": {},
   "outputs": [
    {
     "data": {
      "image/png": "[encoded data removed]",
      "text/plain": [
       "<Figure size 576x396 with 1 Axes>"
      ]
     },
     "metadata": {},
     "output_type": "display_data"
    }
   ],
   "source": [
    "ax = no_target_lang_df.plot.bar(ylabel=\"Accuracy (out of 100)\", rot=0)"
   ]
  },
  {
   "cell_type": "code",
   "execution_count": 25,
   "id": "ae4d1fa5",
   "metadata": {},
   "outputs": [],
   "source": [
    "fig = ax.get_figure()\n",
    "fig.savefig(f\"../results/figures/thesis_examples/eng-lang.pdf\")"
   ]
  },
  {
   "cell_type": "code",
   "execution_count": 26,
   "id": "b873d7e3",
   "metadata": {},
   "outputs": [
    {
     "data": {
      "text/plain": [
       "<AxesSubplot:>"
      ]
     },
     "execution_count": 26,
     "metadata": {},
     "output_type": "execute_result"
    },
    {
     "data": {
      "image/png": "[encoded data removed]",
      "text/plain": [
       "<Figure size 576x396 with 1 Axes>"
      ]
     },
     "metadata": {},
     "output_type": "display_data"
    }
   ],
   "source": [
    "all_accuracies.plot.bar()"
   ]
  },
  {
   "cell_type": "code",
   "execution_count": 28,
   "id": "0c6c5612",
   "metadata": {},
   "outputs": [
    {
     "data": {
      "text/html": [
       "<div>\n",
       "<style scoped>\n",
       "    .dataframe tbody tr th:only-of-type {\n",
       "        vertical-align: middle;\n",
       "    }\n",
       "\n",
       "    .dataframe tbody tr th {\n",
       "        vertical-align: top;\n",
       "    }\n",
       "\n",
       "    .dataframe thead th {\n",
       "        text-align: right;\n",
       "    }\n",
       "</style>\n",
       "<table border=\"1\" class=\"dataframe\">\n",
       "  <thead>\n",
       "    <tr style=\"text-align: right;\">\n",
       "      <th></th>\n",
       "      <th>no-lang</th>\n",
       "      <th>target-lang</th>\n",
       "      <th>low-ttr</th>\n",
       "      <th>high-ttr</th>\n",
       "      <th>low-mattr</th>\n",
       "      <th>high-mattr</th>\n",
       "    </tr>\n",
       "  </thead>\n",
       "  <tbody>\n",
       "    <tr>\n",
       "      <th>amh</th>\n",
       "      <td>9.3</td>\n",
       "      <td>15.3</td>\n",
       "      <td>15.8</td>\n",
       "      <td>14.9</td>\n",
       "      <td>14.9</td>\n",
       "      <td>11.5</td>\n",
       "    </tr>\n",
       "    <tr>\n",
       "      <th>chm</th>\n",
       "      <td>20.2</td>\n",
       "      <td>22.6</td>\n",
       "      <td>14.8</td>\n",
       "      <td>23.3</td>\n",
       "      <td>13.3</td>\n",
       "      <td>29.1</td>\n",
       "    </tr>\n",
       "    <tr>\n",
       "      <th>fra</th>\n",
       "      <td>70.5</td>\n",
       "      <td>64.6</td>\n",
       "      <td>38.7</td>\n",
       "      <td>60.2</td>\n",
       "      <td>34.5</td>\n",
       "      <td>21.1</td>\n",
       "    </tr>\n",
       "    <tr>\n",
       "      <th>hun</th>\n",
       "      <td>43.5</td>\n",
       "      <td>59.5</td>\n",
       "      <td>21.0</td>\n",
       "      <td>50.5</td>\n",
       "      <td>30.5</td>\n",
       "      <td>48.2</td>\n",
       "    </tr>\n",
       "    <tr>\n",
       "      <th>ind</th>\n",
       "      <td>61.6</td>\n",
       "      <td>71.1</td>\n",
       "      <td>31.0</td>\n",
       "      <td>64.6</td>\n",
       "      <td>44.3</td>\n",
       "      <td>32.3</td>\n",
       "    </tr>\n",
       "    <tr>\n",
       "      <th>isl</th>\n",
       "      <td>33.8</td>\n",
       "      <td>52.0</td>\n",
       "      <td>43.1</td>\n",
       "      <td>54.6</td>\n",
       "      <td>30.7</td>\n",
       "      <td>27.3</td>\n",
       "    </tr>\n",
       "    <tr>\n",
       "      <th>sme</th>\n",
       "      <td>19.9</td>\n",
       "      <td>28.8</td>\n",
       "      <td>20.4</td>\n",
       "      <td>29.0</td>\n",
       "      <td>27.2</td>\n",
       "      <td>31.6</td>\n",
       "    </tr>\n",
       "    <tr>\n",
       "      <th>vie</th>\n",
       "      <td>62.6</td>\n",
       "      <td>74.6</td>\n",
       "      <td>68.4</td>\n",
       "      <td>64.8</td>\n",
       "      <td>44.3</td>\n",
       "      <td>36.9</td>\n",
       "    </tr>\n",
       "  </tbody>\n",
       "</table>\n",
       "</div>"
      ],
      "text/plain": [
       "     no-lang  target-lang  low-ttr  high-ttr  low-mattr  high-mattr\n",
       "amh      9.3         15.3     15.8      14.9       14.9        11.5\n",
       "chm     20.2         22.6     14.8      23.3       13.3        29.1\n",
       "fra     70.5         64.6     38.7      60.2       34.5        21.1\n",
       "hun     43.5         59.5     21.0      50.5       30.5        48.2\n",
       "ind     61.6         71.1     31.0      64.6       44.3        32.3\n",
       "isl     33.8         52.0     43.1      54.6       30.7        27.3\n",
       "sme     19.9         28.8     20.4      29.0       27.2        31.6\n",
       "vie     62.6         74.6     68.4      64.8       44.3        36.9"
      ]
     },
     "execution_count": 28,
     "metadata": {},
     "output_type": "execute_result"
    }
   ],
   "source": [
    "k3_accuracies = pd.read_csv(\"../results/tables/all_results/k_3_accuracy.csv\",\n",
    "                            sep=\";\", index_col=0)\n",
    "\n",
    "k3_accuracies"
   ]
  },
  {
   "cell_type": "code",
   "execution_count": 29,
   "id": "2ee36811",
   "metadata": {},
   "outputs": [],
   "source": [
    "df_dict = defaultdict(dict)\n",
    "\n",
    "for idx, row in all_accuracies.iterrows():\n",
    "    lg = language_dict[idx]\n",
    "#     print(idx)\n",
    "#     print(row.max())\n",
    "#     print(row.idxmax())\n",
    "    df_dict[lg][\"highest score\"] = row.max()\n",
    "    df_dict[lg][\"best setup\"] = row.idxmax()"
   ]
  },
  {
   "cell_type": "code",
   "execution_count": 30,
   "id": "98b284cb",
   "metadata": {},
   "outputs": [],
   "source": [
    "df_dict = defaultdict(dict)\n",
    "\n",
    "for idx, row in all_accuracies.iterrows():\n",
    "    lg = language_dict[idx]\n",
    "#     print(idx)\n",
    "#     print(row.max())\n",
    "#     print(row.idxmax())\n",
    "    df_dict[lg][\"lowest score\"] = row.min()\n",
    "    df_dict[lg][\"worst setup\"] = row.idxmin()"
   ]
  },
  {
   "cell_type": "code",
   "execution_count": 31,
   "id": "33accb67",
   "metadata": {},
   "outputs": [],
   "source": [
    "df_dict3 = defaultdict(dict)\n",
    "\n",
    "for idx, row in k3_accuracies.iterrows():\n",
    "    lg = language_dict[idx]\n",
    "#     print(idx)\n",
    "#     print(row.max())\n",
    "#     print(row.idxmax())\n",
    "    df_dict3[lg][\"lowest score\"] = row.min()\n",
    "    df_dict3[lg][\"worst setup\"] = row.idxmin()"
   ]
  },
  {
   "cell_type": "code",
   "execution_count": 32,
   "id": "47bed327",
   "metadata": {},
   "outputs": [
    {
     "data": {
      "text/plain": [
       "defaultdict(dict,\n",
       "            {'Amharic': {'lowest score': 9.3, 'worst setup': 'no-lang'},\n",
       "             'Meadow Mari': {'lowest score': 13.3, 'worst setup': 'low-mattr'},\n",
       "             'French': {'lowest score': 21.1, 'worst setup': 'high-mattr'},\n",
       "             'Hungarian': {'lowest score': 21.0, 'worst setup': 'low-ttr'},\n",
       "             'Indonesian': {'lowest score': 31.0, 'worst setup': 'low-ttr'},\n",
       "             'Icelandic': {'lowest score': 27.3, 'worst setup': 'high-mattr'},\n",
       "             'Northern\\nSami': {'lowest score': 19.9,\n",
       "              'worst setup': 'no-lang'},\n",
       "             'Vietnamese': {'lowest score': 36.9,\n",
       "              'worst setup': 'high-mattr'}})"
      ]
     },
     "execution_count": 32,
     "metadata": {},
     "output_type": "execute_result"
    }
   ],
   "source": [
    "df_dict3"
   ]
  },
  {
   "cell_type": "code",
   "execution_count": 33,
   "id": "cf35a78f",
   "metadata": {},
   "outputs": [
    {
     "data": {
      "text/html": [
       "<div>\n",
       "<style scoped>\n",
       "    .dataframe tbody tr th:only-of-type {\n",
       "        vertical-align: middle;\n",
       "    }\n",
       "\n",
       "    .dataframe tbody tr th {\n",
       "        vertical-align: top;\n",
       "    }\n",
       "\n",
       "    .dataframe thead th {\n",
       "        text-align: right;\n",
       "    }\n",
       "</style>\n",
       "<table border=\"1\" class=\"dataframe\">\n",
       "  <thead>\n",
       "    <tr style=\"text-align: right;\">\n",
       "      <th></th>\n",
       "      <th>lowest score</th>\n",
       "      <th>worst setup</th>\n",
       "    </tr>\n",
       "  </thead>\n",
       "  <tbody>\n",
       "    <tr>\n",
       "      <th>Amharic</th>\n",
       "      <td>9.3</td>\n",
       "      <td>no-lang</td>\n",
       "    </tr>\n",
       "    <tr>\n",
       "      <th>Meadow Mari</th>\n",
       "      <td>13.3</td>\n",
       "      <td>low-mattr</td>\n",
       "    </tr>\n",
       "    <tr>\n",
       "      <th>French</th>\n",
       "      <td>21.1</td>\n",
       "      <td>high-mattr</td>\n",
       "    </tr>\n",
       "    <tr>\n",
       "      <th>Hungarian</th>\n",
       "      <td>21.0</td>\n",
       "      <td>low-ttr</td>\n",
       "    </tr>\n",
       "    <tr>\n",
       "      <th>Indonesian</th>\n",
       "      <td>31.0</td>\n",
       "      <td>low-ttr</td>\n",
       "    </tr>\n",
       "    <tr>\n",
       "      <th>Icelandic</th>\n",
       "      <td>27.3</td>\n",
       "      <td>high-mattr</td>\n",
       "    </tr>\n",
       "    <tr>\n",
       "      <th>Northern\\nSami</th>\n",
       "      <td>19.9</td>\n",
       "      <td>no-lang</td>\n",
       "    </tr>\n",
       "    <tr>\n",
       "      <th>Vietnamese</th>\n",
       "      <td>36.9</td>\n",
       "      <td>high-mattr</td>\n",
       "    </tr>\n",
       "  </tbody>\n",
       "</table>\n",
       "</div>"
      ],
      "text/plain": [
       "               lowest score worst setup\n",
       "Amharic                 9.3     no-lang\n",
       "Meadow Mari            13.3   low-mattr\n",
       "French                 21.1  high-mattr\n",
       "Hungarian              21.0     low-ttr\n",
       "Indonesian             31.0     low-ttr\n",
       "Icelandic              27.3  high-mattr\n",
       "Northern\\nSami         19.9     no-lang\n",
       "Vietnamese             36.9  high-mattr"
      ]
     },
     "execution_count": 33,
     "metadata": {},
     "output_type": "execute_result"
    }
   ],
   "source": [
    "pd.DataFrame(df_dict3).T"
   ]
  },
  {
   "cell_type": "code",
   "execution_count": 34,
   "id": "a2f170a2",
   "metadata": {},
   "outputs": [
    {
     "data": {
      "text/plain": [
       "defaultdict(dict,\n",
       "            {'Amharic': {'lowest score': 5.7, 'worst setup': 'no-lang'},\n",
       "             'Meadow Mari': {'lowest score': 8.7, 'worst setup': 'low-mattr'},\n",
       "             'French': {'lowest score': 12.3, 'worst setup': 'high-mattr'},\n",
       "             'Hungarian': {'lowest score': 13.8, 'worst setup': 'low-ttr'},\n",
       "             'Indonesian': {'lowest score': 22.0, 'worst setup': 'high-mattr'},\n",
       "             'Icelandic': {'lowest score': 16.7, 'worst setup': 'high-mattr'},\n",
       "             'Northern\\nSami': {'lowest score': 14.6,\n",
       "              'worst setup': 'low-ttr'},\n",
       "             'Vietnamese': {'lowest score': 26.3,\n",
       "              'worst setup': 'high-mattr'}})"
      ]
     },
     "execution_count": 34,
     "metadata": {},
     "output_type": "execute_result"
    }
   ],
   "source": [
    "df_dict"
   ]
  },
  {
   "cell_type": "code",
   "execution_count": 35,
   "id": "0b8f5cf5",
   "metadata": {},
   "outputs": [
    {
     "data": {
      "text/html": [
       "<div>\n",
       "<style scoped>\n",
       "    .dataframe tbody tr th:only-of-type {\n",
       "        vertical-align: middle;\n",
       "    }\n",
       "\n",
       "    .dataframe tbody tr th {\n",
       "        vertical-align: top;\n",
       "    }\n",
       "\n",
       "    .dataframe thead th {\n",
       "        text-align: right;\n",
       "    }\n",
       "</style>\n",
       "<table border=\"1\" class=\"dataframe\">\n",
       "  <thead>\n",
       "    <tr style=\"text-align: right;\">\n",
       "      <th></th>\n",
       "      <th>lowest score</th>\n",
       "      <th>worst setup</th>\n",
       "    </tr>\n",
       "  </thead>\n",
       "  <tbody>\n",
       "    <tr>\n",
       "      <th>Amharic</th>\n",
       "      <td>5.7</td>\n",
       "      <td>no-lang</td>\n",
       "    </tr>\n",
       "    <tr>\n",
       "      <th>Meadow Mari</th>\n",
       "      <td>8.7</td>\n",
       "      <td>low-mattr</td>\n",
       "    </tr>\n",
       "    <tr>\n",
       "      <th>French</th>\n",
       "      <td>12.3</td>\n",
       "      <td>high-mattr</td>\n",
       "    </tr>\n",
       "    <tr>\n",
       "      <th>Hungarian</th>\n",
       "      <td>13.8</td>\n",
       "      <td>low-ttr</td>\n",
       "    </tr>\n",
       "    <tr>\n",
       "      <th>Indonesian</th>\n",
       "      <td>22.0</td>\n",
       "      <td>high-mattr</td>\n",
       "    </tr>\n",
       "    <tr>\n",
       "      <th>Icelandic</th>\n",
       "      <td>16.7</td>\n",
       "      <td>high-mattr</td>\n",
       "    </tr>\n",
       "    <tr>\n",
       "      <th>Northern\\nSami</th>\n",
       "      <td>14.6</td>\n",
       "      <td>low-ttr</td>\n",
       "    </tr>\n",
       "    <tr>\n",
       "      <th>Vietnamese</th>\n",
       "      <td>26.3</td>\n",
       "      <td>high-mattr</td>\n",
       "    </tr>\n",
       "  </tbody>\n",
       "</table>\n",
       "</div>"
      ],
      "text/plain": [
       "               lowest score worst setup\n",
       "Amharic                 5.7     no-lang\n",
       "Meadow Mari             8.7   low-mattr\n",
       "French                 12.3  high-mattr\n",
       "Hungarian              13.8     low-ttr\n",
       "Indonesian             22.0  high-mattr\n",
       "Icelandic              16.7  high-mattr\n",
       "Northern\\nSami         14.6     low-ttr\n",
       "Vietnamese             26.3  high-mattr"
      ]
     },
     "execution_count": 35,
     "metadata": {},
     "output_type": "execute_result"
    }
   ],
   "source": [
    "pd.DataFrame(df_dict).T"
   ]
  },
  {
   "cell_type": "code",
   "execution_count": 36,
   "id": "2ec74b7f",
   "metadata": {},
   "outputs": [
    {
     "data": {
      "text/html": [
       "<div>\n",
       "<style scoped>\n",
       "    .dataframe tbody tr th:only-of-type {\n",
       "        vertical-align: middle;\n",
       "    }\n",
       "\n",
       "    .dataframe tbody tr th {\n",
       "        vertical-align: top;\n",
       "    }\n",
       "\n",
       "    .dataframe thead th {\n",
       "        text-align: right;\n",
       "    }\n",
       "</style>\n",
       "<table border=\"1\" class=\"dataframe\">\n",
       "  <thead>\n",
       "    <tr style=\"text-align: right;\">\n",
       "      <th></th>\n",
       "      <th>no-lang</th>\n",
       "      <th>target-lang</th>\n",
       "    </tr>\n",
       "  </thead>\n",
       "  <tbody>\n",
       "    <tr>\n",
       "      <th>Amharic</th>\n",
       "      <td>9.3</td>\n",
       "      <td>15.3</td>\n",
       "    </tr>\n",
       "    <tr>\n",
       "      <th>Meadow Mari</th>\n",
       "      <td>20.2</td>\n",
       "      <td>22.6</td>\n",
       "    </tr>\n",
       "    <tr>\n",
       "      <th>French</th>\n",
       "      <td>70.5</td>\n",
       "      <td>64.6</td>\n",
       "    </tr>\n",
       "    <tr>\n",
       "      <th>Hungarian</th>\n",
       "      <td>43.5</td>\n",
       "      <td>59.5</td>\n",
       "    </tr>\n",
       "    <tr>\n",
       "      <th>Indonesian</th>\n",
       "      <td>61.6</td>\n",
       "      <td>71.1</td>\n",
       "    </tr>\n",
       "    <tr>\n",
       "      <th>Icelandic</th>\n",
       "      <td>33.8</td>\n",
       "      <td>52.0</td>\n",
       "    </tr>\n",
       "    <tr>\n",
       "      <th>Northern\\nSami</th>\n",
       "      <td>19.9</td>\n",
       "      <td>28.8</td>\n",
       "    </tr>\n",
       "    <tr>\n",
       "      <th>Vietnamese</th>\n",
       "      <td>62.6</td>\n",
       "      <td>74.6</td>\n",
       "    </tr>\n",
       "  </tbody>\n",
       "</table>\n",
       "</div>"
      ],
      "text/plain": [
       "                no-lang  target-lang\n",
       "Amharic             9.3         15.3\n",
       "Meadow Mari        20.2         22.6\n",
       "French             70.5         64.6\n",
       "Hungarian          43.5         59.5\n",
       "Indonesian         61.6         71.1\n",
       "Icelandic          33.8         52.0\n",
       "Northern\\nSami     19.9         28.8\n",
       "Vietnamese         62.6         74.6"
      ]
     },
     "execution_count": 36,
     "metadata": {},
     "output_type": "execute_result"
    }
   ],
   "source": [
    "no_target_lang_df3 = k3_accuracies.filter(items=[\"no-lang\", \"target-lang\"])\n",
    "no_target_lang_df3.rename(index=language_dict, inplace=True)\n",
    "# no_target_lang_df3[\"target-lang\"] = no_target_lang_df3[\"target-lang\"] - no_target_lang_df3[\"no-lang\"]\n",
    "# no_target_lang_df3.loc[\"French\"][\"target-lang\"] = 0\n",
    "no_target_lang_df3"
   ]
  },
  {
   "cell_type": "code",
   "execution_count": 37,
   "id": "64e32d93",
   "metadata": {},
   "outputs": [
    {
     "data": {
      "image/png": "[encoded data removed]",
      "text/plain": [
       "<Figure size 576x396 with 1 Axes>"
      ]
     },
     "metadata": {},
     "output_type": "display_data"
    }
   ],
   "source": [
    "ax = no_target_lang_df3.plot.bar(ylabel=\"Accuracy (out of 100)\",\n",
    "                                                              stacked=True, rot=0)"
   ]
  },
  {
   "cell_type": "code",
   "execution_count": 39,
   "id": "5b396228",
   "metadata": {},
   "outputs": [
    {
     "data": {
      "text/html": [
       "<div>\n",
       "<style scoped>\n",
       "    .dataframe tbody tr th:only-of-type {\n",
       "        vertical-align: middle;\n",
       "    }\n",
       "\n",
       "    .dataframe tbody tr th {\n",
       "        vertical-align: top;\n",
       "    }\n",
       "\n",
       "    .dataframe thead th {\n",
       "        text-align: right;\n",
       "    }\n",
       "</style>\n",
       "<table border=\"1\" class=\"dataframe\">\n",
       "  <thead>\n",
       "    <tr style=\"text-align: right;\">\n",
       "      <th></th>\n",
       "      <th>no-lang</th>\n",
       "      <th>target-lang</th>\n",
       "      <th>stacked with English</th>\n",
       "    </tr>\n",
       "  </thead>\n",
       "  <tbody>\n",
       "    <tr>\n",
       "      <th>Amharic</th>\n",
       "      <td>9.3</td>\n",
       "      <td>15.3</td>\n",
       "      <td>11.5</td>\n",
       "    </tr>\n",
       "    <tr>\n",
       "      <th>Meadow Mari</th>\n",
       "      <td>20.2</td>\n",
       "      <td>22.6</td>\n",
       "      <td>29.1</td>\n",
       "    </tr>\n",
       "    <tr>\n",
       "      <th>French</th>\n",
       "      <td>70.5</td>\n",
       "      <td>64.6</td>\n",
       "      <td>62.9</td>\n",
       "    </tr>\n",
       "    <tr>\n",
       "      <th>Hungarian</th>\n",
       "      <td>43.5</td>\n",
       "      <td>59.5</td>\n",
       "      <td>48.2</td>\n",
       "    </tr>\n",
       "    <tr>\n",
       "      <th>Indonesian</th>\n",
       "      <td>61.6</td>\n",
       "      <td>71.1</td>\n",
       "      <td>61.4</td>\n",
       "    </tr>\n",
       "    <tr>\n",
       "      <th>Icelandic</th>\n",
       "      <td>33.8</td>\n",
       "      <td>52.0</td>\n",
       "      <td>62.8</td>\n",
       "    </tr>\n",
       "    <tr>\n",
       "      <th>Northern\\nSami</th>\n",
       "      <td>19.9</td>\n",
       "      <td>28.8</td>\n",
       "      <td>31.6</td>\n",
       "    </tr>\n",
       "    <tr>\n",
       "      <th>Vietnamese</th>\n",
       "      <td>62.6</td>\n",
       "      <td>74.6</td>\n",
       "      <td>68.4</td>\n",
       "    </tr>\n",
       "  </tbody>\n",
       "</table>\n",
       "</div>"
      ],
      "text/plain": [
       "                no-lang  target-lang  stacked with English\n",
       "Amharic             9.3         15.3                  11.5\n",
       "Meadow Mari        20.2         22.6                  29.1\n",
       "French             70.5         64.6                  62.9\n",
       "Hungarian          43.5         59.5                  48.2\n",
       "Indonesian         61.6         71.1                  61.4\n",
       "Icelandic          33.8         52.0                  62.8\n",
       "Northern\\nSami     19.9         28.8                  31.6\n",
       "Vietnamese         62.6         74.6                  68.4"
      ]
     },
     "execution_count": 39,
     "metadata": {},
     "output_type": "execute_result"
    }
   ],
   "source": [
    "eng3 = [11.5, 29.1, 62.9, 48.2, 61.4, 62.8, 31.6, 68.4]\n",
    "\n",
    "no_target_lang_df3[\"stacked with English\"] = eng3\n",
    "no_target_lang_df3"
   ]
  },
  {
   "cell_type": "code",
   "execution_count": 40,
   "id": "f1aeccf3",
   "metadata": {},
   "outputs": [
    {
     "data": {
      "image/png": "[encoded data removed]",
      "text/plain": [
       "<Figure size 576x396 with 1 Axes>"
      ]
     },
     "metadata": {},
     "output_type": "display_data"
    }
   ],
   "source": [
    "ax = no_target_lang_df3.plot.bar(ylabel=\"Accuracy (out of 100)\", rot=0)"
   ]
  },
  {
   "cell_type": "code",
   "execution_count": 41,
   "id": "fb918a9f",
   "metadata": {},
   "outputs": [],
   "source": [
    "df3_dict = defaultdict(dict)\n",
    "\n",
    "for idx, row in k3_accuracies.iterrows():\n",
    "    lg = language_dict[idx]\n",
    "#     print(idx)\n",
    "#     print(row.max())\n",
    "#     print(row.idxmax())\n",
    "    df3_dict[lg][\"highest score\"] = row.max()\n",
    "    df3_dict[lg][\"best setup\"] = row.idxmax()"
   ]
  },
  {
   "cell_type": "code",
   "execution_count": 42,
   "id": "6fc33679",
   "metadata": {},
   "outputs": [
    {
     "data": {
      "text/html": [
       "<div>\n",
       "<style scoped>\n",
       "    .dataframe tbody tr th:only-of-type {\n",
       "        vertical-align: middle;\n",
       "    }\n",
       "\n",
       "    .dataframe tbody tr th {\n",
       "        vertical-align: top;\n",
       "    }\n",
       "\n",
       "    .dataframe thead th {\n",
       "        text-align: right;\n",
       "    }\n",
       "</style>\n",
       "<table border=\"1\" class=\"dataframe\">\n",
       "  <thead>\n",
       "    <tr style=\"text-align: right;\">\n",
       "      <th></th>\n",
       "      <th>highest score</th>\n",
       "      <th>best setup</th>\n",
       "    </tr>\n",
       "  </thead>\n",
       "  <tbody>\n",
       "    <tr>\n",
       "      <th>Amharic</th>\n",
       "      <td>15.8</td>\n",
       "      <td>low-ttr</td>\n",
       "    </tr>\n",
       "    <tr>\n",
       "      <th>Meadow Mari</th>\n",
       "      <td>29.1</td>\n",
       "      <td>high-mattr</td>\n",
       "    </tr>\n",
       "    <tr>\n",
       "      <th>French</th>\n",
       "      <td>70.5</td>\n",
       "      <td>no-lang</td>\n",
       "    </tr>\n",
       "    <tr>\n",
       "      <th>Hungarian</th>\n",
       "      <td>59.5</td>\n",
       "      <td>target-lang</td>\n",
       "    </tr>\n",
       "    <tr>\n",
       "      <th>Indonesian</th>\n",
       "      <td>71.1</td>\n",
       "      <td>target-lang</td>\n",
       "    </tr>\n",
       "    <tr>\n",
       "      <th>Icelandic</th>\n",
       "      <td>54.6</td>\n",
       "      <td>high-ttr</td>\n",
       "    </tr>\n",
       "    <tr>\n",
       "      <th>Northern\\nSami</th>\n",
       "      <td>31.6</td>\n",
       "      <td>high-mattr</td>\n",
       "    </tr>\n",
       "    <tr>\n",
       "      <th>Vietnamese</th>\n",
       "      <td>74.6</td>\n",
       "      <td>target-lang</td>\n",
       "    </tr>\n",
       "  </tbody>\n",
       "</table>\n",
       "</div>"
      ],
      "text/plain": [
       "               highest score   best setup\n",
       "Amharic                 15.8      low-ttr\n",
       "Meadow Mari             29.1   high-mattr\n",
       "French                  70.5      no-lang\n",
       "Hungarian               59.5  target-lang\n",
       "Indonesian              71.1  target-lang\n",
       "Icelandic               54.6     high-ttr\n",
       "Northern\\nSami          31.6   high-mattr\n",
       "Vietnamese              74.6  target-lang"
      ]
     },
     "execution_count": 42,
     "metadata": {},
     "output_type": "execute_result"
    }
   ],
   "source": [
    "pd.DataFrame(df3_dict).T"
   ]
  },
  {
   "cell_type": "code",
   "execution_count": 43,
   "id": "ddc80945",
   "metadata": {},
   "outputs": [
    {
     "data": {
      "text/html": [
       "<div>\n",
       "<style scoped>\n",
       "    .dataframe tbody tr th:only-of-type {\n",
       "        vertical-align: middle;\n",
       "    }\n",
       "\n",
       "    .dataframe tbody tr th {\n",
       "        vertical-align: top;\n",
       "    }\n",
       "\n",
       "    .dataframe thead th {\n",
       "        text-align: right;\n",
       "    }\n",
       "</style>\n",
       "<table border=\"1\" class=\"dataframe\">\n",
       "  <thead>\n",
       "    <tr style=\"text-align: right;\">\n",
       "      <th></th>\n",
       "      <th>lowest score</th>\n",
       "      <th>worst setup</th>\n",
       "    </tr>\n",
       "  </thead>\n",
       "  <tbody>\n",
       "    <tr>\n",
       "      <th>Amharic</th>\n",
       "      <td>5.7</td>\n",
       "      <td>no-lang</td>\n",
       "    </tr>\n",
       "    <tr>\n",
       "      <th>Meadow Mari</th>\n",
       "      <td>8.7</td>\n",
       "      <td>low-mattr</td>\n",
       "    </tr>\n",
       "    <tr>\n",
       "      <th>French</th>\n",
       "      <td>12.3</td>\n",
       "      <td>high-mattr</td>\n",
       "    </tr>\n",
       "    <tr>\n",
       "      <th>Hungarian</th>\n",
       "      <td>13.8</td>\n",
       "      <td>low-ttr</td>\n",
       "    </tr>\n",
       "    <tr>\n",
       "      <th>Indonesian</th>\n",
       "      <td>22.0</td>\n",
       "      <td>high-mattr</td>\n",
       "    </tr>\n",
       "    <tr>\n",
       "      <th>Icelandic</th>\n",
       "      <td>16.7</td>\n",
       "      <td>high-mattr</td>\n",
       "    </tr>\n",
       "    <tr>\n",
       "      <th>Northern\\nSami</th>\n",
       "      <td>14.6</td>\n",
       "      <td>low-ttr</td>\n",
       "    </tr>\n",
       "    <tr>\n",
       "      <th>Vietnamese</th>\n",
       "      <td>26.3</td>\n",
       "      <td>high-mattr</td>\n",
       "    </tr>\n",
       "  </tbody>\n",
       "</table>\n",
       "</div>"
      ],
      "text/plain": [
       "               lowest score worst setup\n",
       "Amharic                 5.7     no-lang\n",
       "Meadow Mari             8.7   low-mattr\n",
       "French                 12.3  high-mattr\n",
       "Hungarian              13.8     low-ttr\n",
       "Indonesian             22.0  high-mattr\n",
       "Icelandic              16.7  high-mattr\n",
       "Northern\\nSami         14.6     low-ttr\n",
       "Vietnamese             26.3  high-mattr"
      ]
     },
     "execution_count": 43,
     "metadata": {},
     "output_type": "execute_result"
    }
   ],
   "source": [
    "pd.DataFrame(df_dict).T"
   ]
  },
  {
   "cell_type": "code",
   "execution_count": 47,
   "id": "65397845",
   "metadata": {},
   "outputs": [],
   "source": [
    "def get_colour(column_name):\n",
    "    if column_name == \"low-dttr\":\n",
    "        return \"tab:green\"\n",
    "    elif column_name == \"high-dttr\":\n",
    "        return \"tab:red\"\n",
    "    elif column_name == \"low-dmattr\":\n",
    "        return \"tab:purple\"\n",
    "    elif column_name == \"high-dmattr\":\n",
    "        return \"tab:gray\"\n",
    "\n",
    "\n",
    "def get_worst_best_results(language, worst_result_column, best_result_column):\n",
    "    language_df = all_accuracies.loc[language]\n",
    "    language_df.rename(index={\"low-ttr\": \"low-dttr\", \"high-ttr\": \"high-dttr\",\n",
    "                 \"low-mattr\": \"low-dmattr\", \"high-mattr\": \"high-dmattr\"}, inplace=True)\n",
    "    language_df = language_df.filter(items=[\"no-lang\", \"target-lang\", worst_result_column, best_result_column])\n",
    "    \n",
    "    colours = [\"tab:blue\", \"tab:orange\"]\n",
    "    \n",
    "    # select the 3rd colour\n",
    "    colour3 = get_colour(worst_result_column)\n",
    "    # select the 4th colour\n",
    "    colour4 = get_colour(best_result_column)\n",
    "    \n",
    "    colours.append(colour3)\n",
    "    colours.append(colour4)\n",
    "    \n",
    "    ax = language_df.plot.bar(color=colours,\n",
    "                             rot=0,\n",
    "                             ylabel=\"Accuracy scores (out of 100)\")\n",
    "    \n",
    "    for p, s in zip(ax.patches, language_df):\n",
    "        ax.annotate(str(f\"{s}%\"),\n",
    "                   (p.get_x() + p.get_width() / 2, p.get_height()),\n",
    "                   xytext=(0, 0), textcoords=\"offset points\",\n",
    "                   ha=\"center\", va=\"bottom\")\n",
    "        \n",
    "    fig = ax.get_figure()\n",
    "    fig.savefig(f\"../results/figures/thesis_examples/individual_languages/{language}_best_worst.pdf\")"
   ]
  },
  {
   "cell_type": "code",
   "execution_count": 48,
   "id": "f188d6b3",
   "metadata": {},
   "outputs": [
    {
     "data": {
      "image/png": "[encoded data removed]",
      "text/plain": [
       "<Figure size 576x396 with 1 Axes>"
      ]
     },
     "metadata": {},
     "output_type": "display_data"
    }
   ],
   "source": [
    "get_worst_best_results(\"amh\", \"low-dttr\", \"high-dmattr\")"
   ]
  },
  {
   "cell_type": "code",
   "execution_count": null,
   "id": "22f3832a",
   "metadata": {},
   "outputs": [],
   "source": [
    "# ax = hun_dmattr.plot.bar(color=[\"tab:blue\", \"tab:orange\", \"tab:purple\", \"tab:gray\"],\n",
    "#                       rot=0,\n",
    "#                       ylabel=\"Accuracy scores (out of 100)\")\n",
    "\n",
    "# for p, s in zip(ax.patches, hun_dmattr):\n",
    "#     ax.annotate(str(f\"{s}%\"), (p.get_x() + p.get_width() / 2, p.get_height()),\n",
    "#                 xytext=(0, 0), textcoords=\"offset points\", ha=\"center\", va=\"bottom\")\n",
    "    \n",
    "# fig = ax.get_figure()\n",
    "# fig.savefig('/Users/marcellfekete/Downloads/hungarian_dmattr.pdf')\n",
    "\n",
    "# plt.show()"
   ]
  },
  {
   "cell_type": "code",
   "execution_count": 49,
   "id": "d787b62a",
   "metadata": {},
   "outputs": [
    {
     "data": {
      "text/plain": [
       "no-lang         5.7\n",
       "target-lang    11.1\n",
       "low-dttr       12.9\n",
       "high-dttr      11.3\n",
       "low-dmattr     10.5\n",
       "high-dmattr     8.3\n",
       "Name: amh, dtype: float64"
      ]
     },
     "execution_count": 49,
     "metadata": {},
     "output_type": "execute_result"
    }
   ],
   "source": [
    "amh = all_accuracies.loc[\"amh\"]\n",
    "amh.rename(index={\"low-ttr\": \"low-dttr\", \"high-ttr\": \"high-dttr\",\n",
    "                 \"low-mattr\": \"low-dmattr\", \"high-mattr\": \"high-dmattr\"}, inplace=True)\n",
    "amh"
   ]
  },
  {
   "cell_type": "code",
   "execution_count": 50,
   "id": "ae6d9dc5",
   "metadata": {},
   "outputs": [
    {
     "data": {
      "text/plain": [
       "no-lang        32.0\n",
       "target-lang    44.8\n",
       "low-dttr       13.8\n",
       "high-dttr      36.4\n",
       "low-dmattr     19.7\n",
       "high-dmattr    37.3\n",
       "Name: hun, dtype: float64"
      ]
     },
     "execution_count": 50,
     "metadata": {},
     "output_type": "execute_result"
    }
   ],
   "source": [
    "hun = all_accuracies.loc[\"hun\"]\n",
    "hun.rename(index={\"low-ttr\": \"low-dttr\", \"high-ttr\": \"high-dttr\",\n",
    "                 \"low-mattr\": \"low-dmattr\", \"high-mattr\": \"high-dmattr\"}, inplace=True)\n",
    "hun"
   ]
  },
  {
   "cell_type": "code",
   "execution_count": 51,
   "id": "20b26c8a",
   "metadata": {},
   "outputs": [
    {
     "data": {
      "text/plain": [
       "no-lang        32.0\n",
       "target-lang    44.8\n",
       "Name: hun, dtype: float64"
      ]
     },
     "execution_count": 51,
     "metadata": {},
     "output_type": "execute_result"
    }
   ],
   "source": [
    "# generate no-lang vs target-lang\n",
    "hun_no_target = hun.filter(items=[\"no-lang\", \"target-lang\"])\n",
    "hun_no_target"
   ]
  },
  {
   "cell_type": "code",
   "execution_count": 52,
   "id": "849f1970",
   "metadata": {},
   "outputs": [
    {
     "data": {
      "image/png": "[encoded data removed]",
      "text/plain": [
       "<Figure size 576x396 with 1 Axes>"
      ]
     },
     "metadata": {},
     "output_type": "display_data"
    }
   ],
   "source": [
    "ax = hun_no_target.plot.bar(color=[\"tab:blue\", \"tab:orange\"],\n",
    "                            rot=0,\n",
    "#                             title=\"Comparing two baseline setups for Hungarian\",\n",
    "                           ylabel=\"Accuracy scores (out of 100)\",\n",
    "#                            xlabel=\"Experimental setup name\"\n",
    "                           )\n",
    "\n",
    "for p, s in zip(ax.patches, hun_no_target):\n",
    "    ax.annotate(str(f\"{s}%\"), (p.get_x() + p.get_width() / 2, p.get_height()),\n",
    "                xytext=(0, 0), textcoords=\"offset points\", ha=\"center\", va=\"bottom\")\n",
    "    \n",
    "fig = ax.get_figure()\n",
    "fig.savefig('../results/figures/thesis_examples/individual_languages/hungarian_baseline.pdf')\n",
    "\n",
    "plt.show()"
   ]
  },
  {
   "cell_type": "code",
   "execution_count": 53,
   "id": "e0d98c1a",
   "metadata": {},
   "outputs": [
    {
     "name": "stdout",
     "output_type": "stream",
     "text": [
      "<class 'pandas.core.series.Series'>\n"
     ]
    },
    {
     "data": {
      "text/plain": [
       "no-lang        32.0\n",
       "target-lang    44.8\n",
       "low-dttr       13.8\n",
       "high-dttr      36.4\n",
       "Name: hun, dtype: float64"
      ]
     },
     "execution_count": 53,
     "metadata": {},
     "output_type": "execute_result"
    }
   ],
   "source": [
    "hun_dttr = hun.filter(items=[\"no-lang\", \"target-lang\", \"low-dttr\", \"high-dttr\"])\n",
    "print(type(hun_dttr))\n",
    "# hun_dttr.rename(index={\"low-ttr\": \"low-dttr\", \"high-ttr\": \"high-dttr\"}, inplace=True)\n",
    "hun_dttr"
   ]
  },
  {
   "cell_type": "code",
   "execution_count": 54,
   "id": "4cf8cbf1",
   "metadata": {},
   "outputs": [
    {
     "data": {
      "image/png": "[encoded data removed]",
      "text/plain": [
       "<Figure size 576x396 with 1 Axes>"
      ]
     },
     "metadata": {},
     "output_type": "display_data"
    }
   ],
   "source": [
    "ax = hun_dttr.plot.bar(color=[\"tab:blue\", \"tab:orange\", \"tab:green\", \"tab:red\"],\n",
    "                      rot=0,\n",
    "                      ylabel=\"Accuracy scores (out of 100)\")\n",
    "\n",
    "for p, s in zip(ax.patches, hun_dttr):\n",
    "    ax.annotate(str(f\"{s}%\"), (p.get_x() + p.get_width() / 2, p.get_height()),\n",
    "                xytext=(0, 0), textcoords=\"offset points\", ha=\"center\", va=\"bottom\")\n",
    "    \n",
    "fig = ax.get_figure()\n",
    "fig.savefig('../results/figures/thesis_examples/individual_languages/hungarian_dttr.pdf')\n",
    "\n",
    "plt.show()"
   ]
  },
  {
   "cell_type": "code",
   "execution_count": 55,
   "id": "eead2eb8",
   "metadata": {},
   "outputs": [
    {
     "name": "stdout",
     "output_type": "stream",
     "text": [
      "<class 'pandas.core.series.Series'>\n"
     ]
    },
    {
     "data": {
      "text/plain": [
       "no-lang        32.0\n",
       "target-lang    44.8\n",
       "low-dmattr     19.7\n",
       "high-dmattr    37.3\n",
       "Name: hun, dtype: float64"
      ]
     },
     "execution_count": 55,
     "metadata": {},
     "output_type": "execute_result"
    }
   ],
   "source": [
    "hun_dmattr = hun.filter(items=[\"no-lang\", \"target-lang\", \"low-dmattr\", \"high-dmattr\"])\n",
    "print(type(hun_dttr))\n",
    "# hun_dmattr.rename(index={\"low-mattr\": \"low-dmattr\", \"high-mattr\": \"high-dmattr\"}, inplace=True)\n",
    "hun_dmattr"
   ]
  },
  {
   "cell_type": "code",
   "execution_count": 56,
   "id": "53aa67ab",
   "metadata": {},
   "outputs": [
    {
     "data": {
      "image/png": "[encoded data removed]",
      "text/plain": [
       "<Figure size 576x396 with 1 Axes>"
      ]
     },
     "metadata": {},
     "output_type": "display_data"
    }
   ],
   "source": [
    "ax = hun_dmattr.plot.bar(color=[\"tab:blue\", \"tab:orange\", \"tab:purple\", \"tab:gray\"],\n",
    "                      rot=0,\n",
    "                      ylabel=\"Accuracy scores (out of 100)\")\n",
    "\n",
    "for p, s in zip(ax.patches, hun_dmattr):\n",
    "    ax.annotate(str(f\"{s}%\"), (p.get_x() + p.get_width() / 2, p.get_height()),\n",
    "                xytext=(0, 0), textcoords=\"offset points\", ha=\"center\", va=\"bottom\")\n",
    "    \n",
    "fig = ax.get_figure()\n",
    "fig.savefig('../results/figures/thesis_examples/individual_languages/hungarian_dmattr.pdf')\n",
    "\n",
    "plt.show()"
   ]
  },
  {
   "cell_type": "code",
   "execution_count": 57,
   "id": "168b0742",
   "metadata": {},
   "outputs": [],
   "source": [
    "hun.rename(index={\"low-dttr\": \"low-dttr\\nFinnish\",\n",
    "                 \"high-dttr\": \"high-dttr\\nVietnamese\",\n",
    "                 \"low-dmattr\": \"low-dmattr\\nRussian\",\n",
    "                 \"high-dmattr\": \"high-dmattr\\nEnglish\"},\n",
    "          inplace=True)"
   ]
  },
  {
   "cell_type": "code",
   "execution_count": 58,
   "id": "e485efed",
   "metadata": {},
   "outputs": [
    {
     "data": {
      "image/png": "[encoded data removed]",
      "text/plain": [
       "<Figure size 576x396 with 1 Axes>"
      ]
     },
     "metadata": {},
     "output_type": "display_data"
    }
   ],
   "source": [
    "ax = hun.plot.bar(color=[\"tab:blue\", \"tab:orange\", \"tab:green\", \"tab:red\", \"tab:purple\", \"tab:gray\"],\n",
    "            rot=0,\n",
    "            ylabel=\"Accuracy scores (out of 100)\")\n",
    "\n",
    "for p, s in zip(ax.patches, hun):\n",
    "    ax.annotate(str(f\"{s}%\"), (p.get_x() + p.get_width() / 2, p.get_height()),\n",
    "                xytext=(0, 0), textcoords=\"offset points\", ha=\"center\", va=\"bottom\")\n",
    "    \n",
    "fig = ax.get_figure()\n",
    "fig.savefig('../results/figures/thesis_examples/individual_languages/all_hungarian.pdf')\n",
    "\n",
    "plt.show()"
   ]
  },
  {
   "cell_type": "code",
   "execution_count": 59,
   "id": "d3f40cd3",
   "metadata": {},
   "outputs": [
    {
     "data": {
      "text/html": [
       "<div>\n",
       "<style scoped>\n",
       "    .dataframe tbody tr th:only-of-type {\n",
       "        vertical-align: middle;\n",
       "    }\n",
       "\n",
       "    .dataframe tbody tr th {\n",
       "        vertical-align: top;\n",
       "    }\n",
       "\n",
       "    .dataframe thead th {\n",
       "        text-align: right;\n",
       "    }\n",
       "</style>\n",
       "<table border=\"1\" class=\"dataframe\">\n",
       "  <thead>\n",
       "    <tr style=\"text-align: right;\">\n",
       "      <th></th>\n",
       "      <th>scores</th>\n",
       "      <th>languages</th>\n",
       "    </tr>\n",
       "  </thead>\n",
       "  <tbody>\n",
       "    <tr>\n",
       "      <th>no-lang</th>\n",
       "      <td>32.0</td>\n",
       "      <td></td>\n",
       "    </tr>\n",
       "    <tr>\n",
       "      <th>target-lang</th>\n",
       "      <td>44.8</td>\n",
       "      <td></td>\n",
       "    </tr>\n",
       "    <tr>\n",
       "      <th>low-dttr\\nFinnish</th>\n",
       "      <td>13.8</td>\n",
       "      <td>Finnish</td>\n",
       "    </tr>\n",
       "    <tr>\n",
       "      <th>high-dttr\\nVietnamese</th>\n",
       "      <td>36.4</td>\n",
       "      <td>Vietnamese</td>\n",
       "    </tr>\n",
       "    <tr>\n",
       "      <th>low-dmattr\\nRussian</th>\n",
       "      <td>19.7</td>\n",
       "      <td>Russian</td>\n",
       "    </tr>\n",
       "    <tr>\n",
       "      <th>high-dmattr\\nEnglish</th>\n",
       "      <td>37.3</td>\n",
       "      <td>English</td>\n",
       "    </tr>\n",
       "  </tbody>\n",
       "</table>\n",
       "</div>"
      ],
      "text/plain": [
       "                       scores   languages\n",
       "no-lang                  32.0            \n",
       "target-lang              44.8            \n",
       "low-dttr\\nFinnish        13.8     Finnish\n",
       "high-dttr\\nVietnamese    36.4  Vietnamese\n",
       "low-dmattr\\nRussian      19.7     Russian\n",
       "high-dmattr\\nEnglish     37.3     English"
      ]
     },
     "execution_count": 59,
     "metadata": {},
     "output_type": "execute_result"
    }
   ],
   "source": [
    "languages = [\"\", \"\", \"Finnish\", \"Vietnamese\", \"Russian\", \"English\"]\n",
    "hun_df = pd.DataFrame({\"scores\": hun, \"languages\": languages})\n",
    "hun_df"
   ]
  }
 ],
 "metadata": {
  "kernelspec": {
   "display_name": "Python 3 (ipykernel)",
   "language": "python",
   "name": "python3"
  },
  "language_info": {
   "codemirror_mode": {
    "name": "ipython",
    "version": 3
   },
   "file_extension": ".py",
   "mimetype": "text/x-python",
   "name": "python",
   "nbconvert_exporter": "python",
   "pygments_lexer": "ipython3",
   "version": "3.9.7"
  }
 },
 "nbformat": 4,
 "nbformat_minor": 5
}
