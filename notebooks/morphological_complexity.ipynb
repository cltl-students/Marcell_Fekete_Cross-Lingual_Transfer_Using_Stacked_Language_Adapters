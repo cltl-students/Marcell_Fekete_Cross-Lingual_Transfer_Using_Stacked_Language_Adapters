{
 "cells": [
  {
   "cell_type": "markdown",
   "id": "e310cea0",
   "metadata": {},
   "source": [
    "# Calculate morphological complexity"
   ]
  },
  {
   "cell_type": "markdown",
   "id": "eb5e3abc",
   "metadata": {},
   "source": [
    "The code in this notebook calculates type-token ratio (**ttr**) and moving average type-token ratio (**mattr**) directly from texts."
   ]
  },
  {
   "cell_type": "code",
   "execution_count": 11,
   "id": "0d74dfd5",
   "metadata": {},
   "outputs": [],
   "source": [
    "import os\n",
    "from lexicalrichness import LexicalRichness\n",
    "from statistics import mean, variance"
   ]
  },
  {
   "cell_type": "code",
   "execution_count": 27,
   "id": "b85a9ebf",
   "metadata": {},
   "outputs": [],
   "source": [
    "def count_content_lines(lines):\n",
    "    \"\"\"\n",
    "    Quantifies how many non-empty lines\n",
    "    are there in a given text.\n",
    "\n",
    "    :param lines: a list of lines\n",
    "    :return: a list containing line numbers that are not empty\n",
    "    \"\"\"\n",
    "    content_lines = []\n",
    "\n",
    "    for idx, line in enumerate(lines):\n",
    "\n",
    "        # filter out a line if it is only a newline or if it is empty\n",
    "        if line != '\\n' and line:\n",
    "            content_lines.append(idx)\n",
    "\n",
    "    return content_lines\n",
    "\n",
    "\n",
    "def calculate_measure(filepath,\n",
    "                      start_line=None,\n",
    "                      measure='ttr',\n",
    "                      save_folder=None,\n",
    "                      rounding=5):\n",
    "    \"\"\"\n",
    "    Provided a filepath to a text, it calculates a measure\n",
    "    specified in the measure argument.\n",
    "\n",
    "    If a start_line number is provided, it starts calculating\n",
    "    from the relevant line.\n",
    "\n",
    "    :param filepath: filepath to input file\n",
    "    :param start_line: None or an integer for a starting point\n",
    "    :param measure: 'ttr' or 'mattr'\n",
    "    :param save_folder: if provided, content is saved in a separate file in the given folder\n",
    "    :param rounding: the number of digits the value of the measure will be rounded to\n",
    "    :return: a dictionary containing score, length, first and last lines\n",
    "    \"\"\"\n",
    "    # read in the input file\n",
    "    with open(filepath, 'r') as infile:\n",
    "        lines = infile.readlines()\n",
    "\n",
    "    # remove empty lines\n",
    "    lines = [line.strip('\\n') for line in lines\n",
    "             if line != '\\n' and line]\n",
    "\n",
    "    if start_line:\n",
    "        lines = lines[start_line:]\n",
    "\n",
    "    if save_folder:\n",
    "        output_path = os.path.join(save_folder,\n",
    "                                   os.path.basename(filepath))\n",
    "\n",
    "        with open(output_path, 'w') as outfile:\n",
    "            for idx, line in enumerate(lines):\n",
    "                outfile.write('{}\\t{}\\n'.format(idx, line))\n",
    "\n",
    "    joint_lines = ' '.join(lines)\n",
    "\n",
    "    lex = LexicalRichness(joint_lines)\n",
    "\n",
    "    if measure == 'ttr':\n",
    "        score = lex.ttr\n",
    "    elif measure == 'mattr':\n",
    "        score = lex.mattr(window_size=500)\n",
    "    else:\n",
    "        raise ValueError(\"Value for measure should be 'ttr' or 'mattr'.\")\n",
    "\n",
    "    # to verify the content covers the same material for all languages\n",
    "    lines_to_check = (lines[0], lines[-1])\n",
    "\n",
    "    length = len(count_content_lines(lines))\n",
    "    score = round(score, rounding)\n",
    "\n",
    "    return {\n",
    "        measure: score,\n",
    "        \"line_count\": length,\n",
    "        \"first_line\": lines_to_check[0],\n",
    "        \"last_line\": lines_to_check[1]\n",
    "    }\n",
    "\n",
    "\n",
    "def calculate_morph_scores(filepath, start_line=None, save_folder=None):\n",
    "    \"\"\"\n",
    "    Given a filepath, it calculates both TTR and MATTR,\n",
    "    also providing the relevant first and last lines and text length.\n",
    "\n",
    "    :param filepath: input filepath\n",
    "    :param start_line: None or an integer for a starting point\n",
    "    :param save_folder: if provided, content is saved in a separate file in the given folder\n",
    "    :return: a dictionary of ttr, mattr and length\n",
    "    \"\"\"\n",
    "    morph_score_dict = dict()\n",
    "    text_name = os.path.basename(filepath)\n",
    "\n",
    "    ttr_dict = calculate_measure(filepath,\n",
    "                                 start_line=start_line,\n",
    "                                 measure='ttr')\n",
    "    mattr_dict = calculate_measure(filepath,\n",
    "                                   start_line=start_line,\n",
    "                                   measure='mattr',\n",
    "                                   save_folder=save_folder)\n",
    "\n",
    "    if (ttr_dict[\"line_count\"] == mattr_dict[\"line_count\"]\n",
    "            and ttr_dict[\"first_line\"] == mattr_dict[\"first_line\"]\n",
    "            and ttr_dict[\"last_line\"] == mattr_dict[\"last_line\"]):\n",
    "\n",
    "        # add values to an output dictionary\n",
    "        morph_score_dict[\"ttr\"] = ttr_dict[\"ttr\"]\n",
    "        morph_score_dict[\"mattr\"] = mattr_dict[\"mattr\"]\n",
    "        morph_score_dict[\"length\"] = ttr_dict[\"line_count\"]\n",
    "        morph_score_dict[\"text_name\"] = text_name\n",
    "        morph_score_dict[\"first_line\"] = ttr_dict[\"first_line\"]\n",
    "        morph_score_dict[\"last_line\"] = ttr_dict[\"last_line\"]\n",
    "\n",
    "    else:\n",
    "        raise ValueError('Something does not match up.')\n",
    "\n",
    "    return morph_score_dict\n",
    "\n",
    "\n",
    "def aggregate_scores_for_language(filepaths, start_lines=None, save_folder=None):\n",
    "    \"\"\"\n",
    "    Calculates average ttr and mattr scores for texts in the\n",
    "    same language.\n",
    "\n",
    "    :param filepaths: a list of filepaths\n",
    "    :param start_lines: a list of starting points, or None if all texts start at 0\n",
    "    :param save_folder: if provided, content is saved in a separate file in the given folder\n",
    "    :return: a dictionary of average ttr, average mattr, average length, and variances\n",
    "    \"\"\"\n",
    "    # lists to allow averaging\n",
    "    ttrs = []\n",
    "    mattrs = []\n",
    "    lengths = []\n",
    "\n",
    "    for idx, filepath in enumerate(filepaths):\n",
    "        if start_lines:\n",
    "            score_dict = calculate_morph_scores(filepath,\n",
    "                                                start_line=start_lines[idx],\n",
    "                                                save_folder=save_folder)\n",
    "        else:\n",
    "            score_dict = calculate_morph_scores(filepath,\n",
    "                                                save_folder=save_folder)\n",
    "\n",
    "        # append scores to lists\n",
    "        ttrs.append(score_dict['ttr'])\n",
    "        mattrs.append(score_dict['mattr'])\n",
    "        lengths.append(score_dict['length'])\n",
    "\n",
    "        # print out a report\n",
    "        print(idx+1)\n",
    "        print('Bible: {}'.format(score_dict['text_name']))\n",
    "        print('First line: | {}'.format(score_dict['first_line']))\n",
    "        print('Last line: | {}'.format(score_dict['last_line']))\n",
    "        print(score_dict['length'])\n",
    "        print('-' * 15)\n",
    "        print()\n",
    "\n",
    "    # calculate averages\n",
    "    mean_ttr = round(mean(ttrs), 3)\n",
    "    mean_mattr = round(mean(mattrs), 3)\n",
    "    mean_lengths = int(mean(lengths))\n",
    "\n",
    "    if len(filepaths) > 1:\n",
    "        var_ttr = round(variance(ttrs), 5)\n",
    "        var_mattr = round(variance(mattrs), 5)\n",
    "    else:\n",
    "        var_ttr = 0\n",
    "        var_mattr = 0\n",
    "\n",
    "    return {\n",
    "        \"mean_ttr\": mean_ttr,\n",
    "        \"mean_mattr\": mean_mattr,\n",
    "        \"avg_line_count\": mean_lengths,\n",
    "        \"ttr_variance\": var_ttr,\n",
    "        \"mattr_variance\": var_mattr\n",
    "    }\n",
    "\n",
    "\n",
    "def find_start(filepath, line_count):\n",
    "    \"\"\"\n",
    "    Helper function to retrieve the first line of Bibles.\n",
    "    \"\"\"\n",
    "    content_lines = []\n",
    "    with open(filepath, 'r') as infile:\n",
    "        lines = infile.readlines()\n",
    "    for line in lines:\n",
    "        if line != '\\n' and line:\n",
    "            content_lines.append(line.strip('\\n'))\n",
    "    return content_lines[line_count]"
   ]
  },
  {
   "cell_type": "markdown",
   "id": "d6d50453",
   "metadata": {},
   "source": [
    "## Define the generic path to the Parallel Bible Corpus"
   ]
  },
  {
   "cell_type": "code",
   "execution_count": 13,
   "id": "0cb4ee10",
   "metadata": {},
   "outputs": [],
   "source": [
    "generic_path = '../resources/parallel_bible_corpus/'"
   ]
  },
  {
   "cell_type": "code",
   "execution_count": 14,
   "id": "06675e78",
   "metadata": {},
   "outputs": [],
   "source": [
    "amharic = 'amh-x-bible-amh-v1.txt'\n",
    "arabic = 'arb-x-bible-arb-v1.txt'\n",
    "bangla1 = 'ben-x-bible-holybible-v1.txt'\n",
    "bangla2 = 'ben-x-bible-common-v1.txt'\n",
    "bangla3 = 'ben-x-bible-easy-v1.txt'\n",
    "bangla4 = 'ben-x-bible-mussolmani-v1.txt'\n",
    "bangla5 = 'ben-x-bible-old-v1.txt'\n",
    "burmese1 = 'mya-x-bible-common-v1.txt'\n",
    "burmese2 = 'mya-x-bible-mya-v1.txt'\n",
    "eastern_armenian = 'hye-x-bible-eastern-v1.txt'\n",
    "western_armenian = 'hye-x-bible-western-v1.txt'\n",
    "basque1 = 'eus-x-bible-navarrolabourdin-v1.txt'\n",
    "basque2 = 'eus-x-bible-batua-v1.txt'\n",
    "buryat = 'bxr-x-bible-bxr-v1.txt'\n",
    "czech1 = 'ces-x-bible-living-v1.txt'\n",
    "czech2 = 'ces-x-bible-bible21-v1.txt'\n",
    "czech3 = 'ces-x-bible-ekumenicky-v1.txt'\n",
    "czech4 = 'ces-x-bible-kralicka-v1.txt'\n",
    "czech5 = 'ces-x-bible-novakarlica-v1.txt'\n",
    "czech6 = 'ces-x-bible-preklad-v1.txt'\n",
    "english = 'eng-x-bible-common-v1.txt'\n",
    "estonian = 'est-x-bible-portions-v1.txt'\n",
    "finnish = 'fin-x-bible-1992-v1.txt'\n",
    "french = 'fra-x-bible-courant1997-v1.txt'\n",
    "georgian = 'kat-x-bible-kat-v1.txt'\n",
    "german = 'deu-x-bible-schlachter2000-v1.txt'\n",
    "greek = 'ell-x-bible-hellenic1-v1.txt'\n",
    "haitian = 'hat-x-bible-1999-v1.txt'\n",
    "hindi = 'hin-x-bible-hin-v1.txt'  # possibly not actually hindi\n",
    "hungarian = 'hun-x-bible-2012-v1.txt'\n",
    "icelandic = 'isl-x-bible-isl-v1.txt'\n",
    "ilocano = 'ilo-x-bible-ilo-v1.txt'\n",
    "indonesian = 'ind-x-bible-kabarbaik-v1.txt'\n",
    "italian = 'ita-x-bible-vita1997-v1.txt'\n",
    "javanese = 'jav-x-bible-jav-v1.txt'\n",
    "korean = 'kor-x-bible-kor-v1.txt'\n",
    "latin = 'lat-x-bible-novavulgata-v1.txt'\n",
    "latvian = 'lav-x-bible-1997-v1.txt'\n",
    "mari = 'mhr-x-bible-mhr-v1.txt'\n",
    "erzya = 'myv-x-bible-myv-v1.txt'\n",
    "maori = 'mri-x-bible-mri-v1.txt'\n",
    "sami = 'sme-x-bible-sme-v1.txt'\n",
    "persian = 'fas-x-bible-newmillennium2011-v1.txt'\n",
    "portuguese = 'por-x-bible-linguagemdehoje-v1.txt'\n",
    "quechua = 'qub-x-bible-2009-v1.txt'\n",
    "russian = 'rus-x-bible-modern2011-v1.txt'\n",
    "spanish = 'spa-x-bible-blph-youversion-v1.txt'\n",
    "swahili = 'swh-x-bible-swh-v1.txt'\n",
    "tamil = 'tam-x-bible-tam-v1.txt'\n",
    "turkish = 'tur-x-bible-tur-v1.txt'\n",
    "vietnamese = 'vie-x-bible-revised2010-v1.txt'\n",
    "wolof = 'wol-x-bible-wol-v1.txt'"
   ]
  },
  {
   "cell_type": "code",
   "execution_count": 30,
   "id": "fb5236ac",
   "metadata": {},
   "outputs": [
    {
     "name": "stdout",
     "output_type": "stream",
     "text": [
      "1\n",
      "Bible: eus-x-bible-navarrolabourdin-v1.txt\n",
      "First line: | IESVS CHRIST Dauid-en semearen , Abrahamen semearen generationeco Liburuä .\n",
      "Last line: | Iesus Christ gure Iaunaren gratia dela çuequin gucioquin . Amen .\n",
      "7958\n",
      "---------------\n",
      "\n",
      "2\n",
      "Bible: eus-x-bible-batua-v1.txt\n",
      "First line: | Abrahamen eta Daviden ondorengo den Jesus Mesiasen arbasoen zerrenda :\n",
      "Last line: | Jesus Jaunaren grazia guztiokin .\n",
      "7644\n",
      "---------------\n",
      "\n",
      "3\n",
      "Bible: eus-x-bible-Hautin1571-v1.txt\n",
      "First line: | SVS CHRIST Dauid-en semearen , Abrahamen semearen generationeco Liburuä .\n",
      "Last line: | Iesus Christ gure Iaunaren gratia dela çuequin gucioquin . Amen .\n",
      "7958\n",
      "---------------\n",
      "\n"
     ]
    },
    {
     "data": {
      "text/plain": [
       "{'mean_ttr': 0.124,\n",
       " 'mean_mattr': 0.627,\n",
       " 'avg_line_count': 7853,\n",
       " 'ttr_variance': 9e-05,\n",
       " 'mattr_variance': 2e-05}"
      ]
     },
     "execution_count": 30,
     "metadata": {},
     "output_type": "execute_result"
    }
   ],
   "source": [
    "aggregate_scores_for_language([\n",
    "    os.path.join(generic_path, basque1),\n",
    "    os.path.join(generic_path, basque2),\n",
    "    os.path.join(generic_path, 'eus-x-bible-Hautin1571-v1.txt')\n",
    "]\n",
    "#     , language='eu', save_folder=os.path.join(generic_path, \"contents/basque\"),\n",
    ")"
   ]
  },
  {
   "cell_type": "code",
   "execution_count": 31,
   "id": "c0f29bab",
   "metadata": {},
   "outputs": [
    {
     "name": "stdout",
     "output_type": "stream",
     "text": [
      "1\n",
      "Bible: ben-x-bible-holybible-v1.txt\n",
      "First line: | যীশু খ্রীষ্ট দায়ূদের বংশের এবং দায়ূদ অব্রাহামের বংশের লোক । যীশু খ্রীষ্টের বংশের তালিকা এই :\n",
      "Last line: | প্রভু যীশুর আশীর্বাদ ঈশ্বরের সব লোকদের সংগে থাকুক । আমেন ।\n",
      "7895\n",
      "---------------\n",
      "\n",
      "2\n",
      "Bible: ben-x-bible-common-v1.txt\n",
      "First line: | যীশু খ্রীষ্ট দায়ূদের বংশের এবং দায়ূদ অব্রাহামের বংশের লোক । যীশু খ্রীষ্টের বংশের তালিকা এই :\n",
      "Last line: | প্রভু যীশুর আশীর্বাদ ঈশ্বরের সব লোকদের সংগে থাকুক । আমেন ।\n",
      "7803\n",
      "---------------\n",
      "\n",
      "3\n",
      "Bible: ben-x-bible-easy-v1.txt\n",
      "First line: | এই হল যীশু খ্রীষ্টের বংশ তালিকা ৷ ইনি ছিলেন রাজা দায়ূদের বংশধর , দায়ূদ ছিলেন অব্রাহামের বংশধর ৷\n",
      "Last line: | প্রভু যীশুর অনুগ্রহ তাঁর সকল লোকের সহবর্তী হোক্ ৷\n",
      "7893\n",
      "---------------\n",
      "\n",
      "4\n",
      "Bible: ben-x-bible-mussolmani-v1.txt\n",
      "First line: | ঈসা মসীহ্‌ দাউদের বংশের এবং দাউদ ইব্রাহিমের বংশের লোক । ঈসা মসীহের বংশের তালিকা এই :\n",
      "Last line: | হযরত ঈসার রহমত আল্লাহ্‌র সব বান্দাদের উপর থাকুক । আমিন ।\n",
      "7812\n",
      "---------------\n",
      "\n",
      "5\n",
      "Bible: ben-x-bible-old-v1.txt\n",
      "First line: | ঈসা মসীহ্‌দাউদের বংশের এবং দাউদ ইব্রাহিমের বংশের লোক । ঈসা মসীহের বংশের তালিকা এই :\n",
      "Last line: | হযরত ঈসার রহমত আল্লাহ্‌র সব বান্দাদের উপর থাকুক । আমিন ।\n",
      "7958\n",
      "---------------\n",
      "\n"
     ]
    },
    {
     "data": {
      "text/plain": [
       "{'mean_ttr': 0.05,\n",
       " 'mean_mattr': 0.519,\n",
       " 'avg_line_count': 7872,\n",
       " 'ttr_variance': 5e-05,\n",
       " 'mattr_variance': 5e-05}"
      ]
     },
     "execution_count": 31,
     "metadata": {},
     "output_type": "execute_result"
    }
   ],
   "source": [
    "aggregate_scores_for_language([\n",
    "    os.path.join(generic_path, bangla1),\n",
    "    os.path.join(generic_path, bangla2),\n",
    "    os.path.join(generic_path, bangla3),\n",
    "    os.path.join(generic_path, bangla4),\n",
    "    os.path.join(generic_path, bangla5)\n",
    "],\n",
    "start_lines=[0, 22434, 0, 22443, 0])"
   ]
  },
  {
   "cell_type": "code",
   "execution_count": 45,
   "id": "dc5f1118",
   "metadata": {},
   "outputs": [
    {
     "name": "stdout",
     "output_type": "stream",
     "text": [
      "Bible: mya-x-bible-common-v1.txt\n",
      "First line: | အာ​ဗြ​ဟံ​နှင့်​ဒါ​ဝိဒ်​မှ​ဆင်း​သက်​တော်​မူ​သော သ​ခင်​ယေ​ရှု​ခ​ရစ်​၏​ဆွေ​တော်​စဉ်​မျိုး​တော်​ဆက် စာ​ရင်း​ကား​ဤ​သို့​တည်း ။\n",
      "Last line: | သ​ခင်​ယေ​ရှု​၏​ကျေး​ဇူး​တော်​ကို​လူ​တိုင်း ခံ​စား​ရ​ကြ​ပါ​စေ​သော ။ ဋ္ဌမ္မ​သစ်​ကျမ်း​တို့​တွင်​နောက်​ဆုံး​ကျမ်း​တည်း ဟူ​သော​ရှင်​ယော​ဟန်​စီ​ရင်​ရေး​ထား​သော​ဗျာ​ဒိတ် ကျမ်း​ပြီး​၏ ။\n",
      "7604\n",
      "---------------\n",
      "\n",
      "Bible: mya-x-bible-mya-v1.txt\n",
      "First line: | အာဗြဟံနှင့် ဒါဝိဒ်တို့မှဆင်းသက်တော်မူသော ယေရှုခရစ် ၏ ဆွေတော်စဉ်မျိုးတော်ဆက်စာရင်း ဟူမူကား ၊\n",
      "Last line: | ဤအရာများကို သက်သေခံသောသူ မိန့်တော် မူ ၏ အာမင် ၊ သခင်ယေရှုကြွလာတော်မူပါ ။ ငါတို့သခင် ယေရှုခရစ် ၏ ကျေးဇူးတော်သည် သန့်ရှင်းသူ အပေါင်း တို့ ၌ ရှိစေသတည်း ။\n",
      "7928\n",
      "---------------\n",
      "\n"
     ]
    },
    {
     "data": {
      "text/plain": [
       "{'mean_ttr': 0.458,\n",
       " 'mean_mattr': 0.644,\n",
       " 'avg_line_count': 7766,\n",
       " 'ttr_variance': 0.04078,\n",
       " 'mattr_variance': 0.01168}"
      ]
     },
     "execution_count": 45,
     "metadata": {},
     "output_type": "execute_result"
    }
   ],
   "source": [
    "aggregate_scores_for_language([\n",
    "    os.path.join(generic_path, burmese1),\n",
    "    os.path.join(generic_path, burmese2)\n",
    "],\n",
    "start_lines=[0, 23000])"
   ]
  },
  {
   "cell_type": "code",
   "execution_count": 61,
   "id": "c8106710",
   "metadata": {},
   "outputs": [
    {
     "name": "stdout",
     "output_type": "stream",
     "text": [
      "Bible: ces-x-bible-living-v1.txt\n",
      "First line: | Ježíšův rodokmen sahá přes Davida až k Abrahamovi . Od praotce Abrahama k Davidovi je to čtrnáct generací , dále čtrnáct generací od Davida po babylónské zajetí a od zajetí v Babylóně až ke Kristu také čtrnáct . Rodokmen uzavírá Josef , manžel Marie , které se narodil Ježíš - Boží Syn .\n",
      "Last line: | Vám všem , milí čtenáři , platí dosud nabídka Kristovy milosti !\n",
      "7957\n",
      "---------------\n",
      "\n",
      "Bible: ces-x-bible-bible21-v1.txt\n",
      "First line: | Kniha rodu Ježíše Krista , syna Davidova , syna Abrahamova :\n",
      "Last line: | Milost Pána Ježíše se všemi .\n",
      "7926\n",
      "---------------\n",
      "\n",
      "Bible: ces-x-bible-ekumenicky-v1.txt\n",
      "First line: | Listina rodu Ježíše Krista , syna Davidova , syna Abrahamova .\n",
      "Last line: | Milost Pána Ježíše se všemi .\n",
      "7959\n",
      "---------------\n",
      "\n",
      "Bible: ces-x-bible-kralicka-v1.txt\n",
      "First line: | Kniha ( o ) rodu Ježíše Krista syna Davidova , syna Abrahamova .\n",
      "Last line: | Milost Pána našeho Jezukrista se všemi vámi . Amen .\n",
      "7958\n",
      "---------------\n",
      "\n",
      "Bible: ces-x-bible-novakarlica-v1.txt\n",
      "First line: | Kniha rodu Ježíše Krista , syna Davidova , syna Abrahamova :\n",
      "Last line: | Milost našeho Pána Ježíše Krista s vámi všemi . Amen .\n",
      "7960\n",
      "---------------\n",
      "\n",
      "Bible: ces-x-bible-preklad-v1.txt\n",
      "First line: | Kniha původu Ježíše Krista , syna Davidova , syna Abrahamova .\n",
      "Last line: | Milost Pána Ježíše Krista se všemi svatými . Amen .\n",
      "7959\n",
      "---------------\n",
      "\n"
     ]
    },
    {
     "data": {
      "text/plain": [
       "{'mean_ttr': 0.121,\n",
       " 'mean_mattr': 0.602,\n",
       " 'avg_line_count': 7953,\n",
       " 'ttr_variance': 0.00012,\n",
       " 'mattr_variance': 0.00051}"
      ]
     },
     "execution_count": 61,
     "metadata": {},
     "output_type": "execute_result"
    }
   ],
   "source": [
    "aggregate_scores_for_language([\n",
    "    os.path.join(generic_path, czech1),\n",
    "    os.path.join(generic_path, czech2),\n",
    "    os.path.join(generic_path, czech3),\n",
    "    os.path.join(generic_path, czech4),\n",
    "    os.path.join(generic_path, czech5),\n",
    "    os.path.join(generic_path, czech6),\n",
    "],\n",
    "start_lines=[0, 0, 23313, 23234, 0, 0])"
   ]
  },
  {
   "cell_type": "code",
   "execution_count": 62,
   "id": "da6f1602",
   "metadata": {},
   "outputs": [
    {
     "data": {
      "text/plain": [
       "27"
      ]
     },
     "execution_count": 62,
     "metadata": {},
     "output_type": "execute_result"
    }
   ],
   "source": [
    "english = [\n",
    "    'eng-x-bible-literal-v1.txt',\n",
    "'eng-x-bible-livingoracles-v1.txt',\n",
    "'eng-x-bible-majority-v1.txt',\n",
    "'eng-x-bible-montgomery-v1.txt',\n",
    "'eng-x-bible-new2007-v1.txt',\n",
    "'eng-x-bible-newcentury-v1.txt',\n",
    "'eng-x-bible-newinternational-v1.txt',\n",
    "'eng-x-bible-newliving-v1.txt',\n",
    "'eng-x-bible-newsimplified-v1.txt',\n",
    "'eng-x-bible-newreaders-v1.txt',\n",
    "'eng-x-bible-scriptures-v1.txt',\n",
    "'eng-x-bible-treeoflife-v1.txt',\n",
    "'eng-x-bible-worldwide-v1.txt',\n",
    "'eng-x-bible-lexham-v1.txt',\n",
    "'eng-x-bible-kingjames-v1.txt',\n",
    "'eng-x-bible-internationalstandard-v1.txt',\n",
    "'eng-x-bible-goodnews-v1.txt',\n",
    "'eng-x-bible-godsword-v1.txt',\n",
    "'eng-x-bible-etheridge-v1.txt',\n",
    "'eng-x-bible-easytoread-v1.txt',\n",
    "'eng-x-bible-diaglot-v1.txt',\n",
    "'eng-x-bible-darby-v1.txt',\n",
    "'eng-x-bible-contemporary-v1.txt',\n",
    "'eng-x-bible-common-v1.txt',\n",
    "'eng-x-bible-clontz-v1.txt',\n",
    "'eng-x-bible-books-v1.txt',\n",
    "'eng-x-bible-amplified-v1.txt'\n",
    "]\n",
    "\n",
    "len(english)"
   ]
  },
  {
   "cell_type": "code",
   "execution_count": 101,
   "id": "bc399af9",
   "metadata": {},
   "outputs": [
    {
     "data": {
      "text/plain": [
       "'The book of the generation of Jesus Christ , the son of David , the son of Abraham .'"
      ]
     },
     "execution_count": 101,
     "metadata": {},
     "output_type": "execute_result"
    }
   ],
   "source": [
    "find_start(os.path.join(generic_path, 'eng-x-bible-kingjames-v1.txt'), 23144)"
   ]
  },
  {
   "cell_type": "code",
   "execution_count": 102,
   "id": "dc0c9451",
   "metadata": {},
   "outputs": [
    {
     "name": "stdout",
     "output_type": "stream",
     "text": [
      "Bible: eng-x-bible-literal-v1.txt\n",
      "First line: | The Book of the genealogy of Jesus Christ the son of David , the son of Abraham :\n",
      "Last line: | The grace of our Lord Jesus Christ be with all of you . Amen .\n",
      "7957\n",
      "---------------\n",
      "\n",
      "Bible: eng-x-bible-livingoracles-v1.txt\n",
      "First line: | The History of Jesus Christ , Son of David , Son of Abraham .\n",
      "Last line: | May the favor of the Lord Jesus Christ be with all the saints !\n",
      "7957\n",
      "---------------\n",
      "\n",
      "Bible: eng-x-bible-majority-v1.txt\n",
      "First line: | The book of the genealogy of Jesus Christ , the Son of David , the Son of Abraham :\n",
      "Last line: | The grace of the Lord Jesus Christ [ be ] with all the saints . Amen .\n",
      "7957\n",
      "---------------\n",
      "\n",
      "Bible: eng-x-bible-montgomery-v1.txt\n",
      "First line: | The book of the generation of Jesus Christ , the son of David , the son of Abraham .\n",
      "Last line: | The grace of the Lord Jesus Christ be with the saints !\n",
      "7935\n",
      "---------------\n",
      "\n",
      "Bible: eng-x-bible-new2007-v1.txt\n",
      "First line: | This is the record of the genealogy of Jesus Christ , the son of David , the son of Abraham .\n",
      "Last line: | The grace of the Lord Jesus be with all .\n",
      "7931\n",
      "---------------\n",
      "\n",
      "Bible: eng-x-bible-newcentury-v1.txt\n",
      "First line: | This is the family history of Jesus Christ . He came from the family of David , and David came from the family of Abraham .\n",
      "Last line: | The grace of the Lord Jesus be with all . Amen .\n",
      "7915\n",
      "---------------\n",
      "\n",
      "Bible: eng-x-bible-newinternational-v1.txt\n",
      "First line: | This is the genealogy of Jesus the Messiah the son of David , the son of Abraham :\n",
      "Last line: | The grace of the Lord Jesus be with God’s people . Amen .\n",
      "7728\n",
      "---------------\n",
      "\n",
      "Bible: eng-x-bible-newliving-v1.txt\n",
      "First line: | This is a record of the ancestors of Jesus the Messiah , a descendant of David and of Abraham :\n",
      "Last line: | May the grace of the Lord Jesus be with God’s holy people .\n",
      "7901\n",
      "---------------\n",
      "\n",
      "Bible: eng-x-bible-newsimplified-v1.txt\n",
      "First line: | The list of ancestors of Jesus Christ , descendant of David and Abraham :\n",
      "Last line: | The grace of our Lord Jesus Christ be with you all . Amen .\n",
      "7957\n",
      "---------------\n",
      "\n",
      "Bible: eng-x-bible-newreaders-v1.txt\n",
      "First line: | This is a record of the family line of Jesus Christ . He is the son of David . He is also the son of Abraham .\n",
      "Last line: | May the grace of the Lord Jesus be with God's people . Amen .\n",
      "7925\n",
      "---------------\n",
      "\n",
      "Bible: eng-x-bible-scriptures-v1.txt\n",
      "First line: | The book of the genealogy of יהושע Messiah , Son of Dawiḏ , Son of Aḇraham :\n",
      "Last line: | The favour of our Master יהושע Messiah be with the set-apart ones . Amĕn .\n",
      "7818\n",
      "---------------\n",
      "\n",
      "Bible: eng-x-bible-treeoflife-v1.txt\n",
      "First line: | The book of the genealogy of Yeshua ha-Mashiach , Ben-David , Ben-Avraham :\n",
      "Last line: | May the grace of the Lord Yeshua be with all !\n",
      "7889\n",
      "---------------\n",
      "\n",
      "Bible: eng-x-bible-worldwide-v1.txt\n",
      "First line: | Here are the names of the people in the family line from which Jesus Christ came . He came from Davids family . He came from Abrahams family .\n",
      "Last line: | May the love and mercy of the Lord Jesus bless you all . Amen .\n",
      "7884\n",
      "---------------\n",
      "\n",
      "Bible: eng-x-bible-lexham-v1.txt\n",
      "First line: | The book of the genealogy of Jesus Christ , the son of David , the son of Abraham .\n",
      "Last line: | The grace of the Lord Jesus be with all .\n",
      "7939\n",
      "---------------\n",
      "\n",
      "Bible: eng-x-bible-kingjames-v1.txt\n",
      "First line: | The book of the generation of Jesus Christ , the son of David , the son of Abraham .\n",
      "Last line: | For thou art the God , even the God of them that repent ; and in me thou wilt shew all thy goodness : for thou wilt save me , that am unworthy , according to thy great mercy . Therefore I will praise thee for ever all the days of my life : for all the powers of the heavens do praise thee , and thine is the glory for ever and ever . Amen . .\n",
      "12810\n",
      "---------------\n",
      "\n",
      "Bible: eng-x-bible-internationalstandard-v1.txt\n",
      "First line: | This is a record of the birth of Jesus Christ , the son of David , the son of Abraham .\n",
      "Last line: | May the grace of the Lord Jesus be with all the saints . Amen .\n",
      "7947\n",
      "---------------\n",
      "\n",
      "Bible: eng-x-bible-goodnews-v1.txt\n",
      "First line: | This is the list of the ancestors of Jesus Christ , a descendant of David , who was a descendant of Abraham .\n",
      "Last line: | May the grace of the Lord Jesus be with everyone .\n",
      "7769\n",
      "---------------\n",
      "\n",
      "Bible: eng-x-bible-godsword-v1.txt\n",
      "First line: | This is the list of ancestors of Jesus Christ , descendant of David and Abraham .\n",
      "Last line: | The good will of the Lord Jesus be with all of you . Amen !\n",
      "7939\n",
      "---------------\n",
      "\n",
      "Bible: eng-x-bible-etheridge-v1.txt\n",
      "First line: | THE RECORD of the generation of Jeshu the Meshicha , the son of David , son of Abraham .\n",
      "Last line: | The grace of our Lord Jeshu Meshiha be with all the saints . Amen .\n",
      "7940\n",
      "---------------\n",
      "\n",
      "Bible: eng-x-bible-easytoread-v1.txt\n",
      "First line: | This is the family history of Jesus the Messiah . He came from the family of David , who was from the family of Abraham .\n",
      "Last line: | The grace of the Lord Jesus be with all people .\n",
      "7681\n",
      "---------------\n",
      "\n",
      "Bible: eng-x-bible-diaglot-v1.txt\n",
      "First line: | A record of descent of Jesus Anointed , son of David , son of Abraham .\n",
      "Last line: | The favor of the Lord Jesus Anointed , with all of the holy ones .\n",
      "7951\n",
      "---------------\n",
      "\n",
      "Bible: eng-x-bible-darby-v1.txt\n",
      "First line: | Book of the generation of Jesus Christ , Son of David , Son of Abraham .\n",
      "Last line: | The grace of the Lord Jesus Christ [ be ] with all the saints .\n",
      "7955\n",
      "---------------\n",
      "\n",
      "Bible: eng-x-bible-contemporary-v1.txt\n",
      "First line: | Jesus Christ came from the family of King David and also from the family of Abraham . And this is a list of his ancestors .\n",
      "Last line: | I pray that the Lord Jesus will be kind to all of you .\n",
      "6180\n",
      "---------------\n",
      "\n",
      "Bible: eng-x-bible-common-v1.txt\n",
      "First line: | A record of the ancestors of Jesus Christ , son of David , son of Abraham :\n",
      "Last line: | The grace of the Lord Jesus be with all .\n",
      "7922\n",
      "---------------\n",
      "\n",
      "Bible: eng-x-bible-clontz-v1.txt\n",
      "First line: | The book of the genealogy of Jesus Christ , the son of David , the son of Abraham :\n",
      "Last line: | The grace of the Lord Jesus be with all . Amen .\n",
      "7958\n",
      "---------------\n",
      "\n",
      "Bible: eng-x-bible-books-v1.txt\n",
      "First line: | This is the genealogy of Jesus the Messiah the son of David , the son of Abraham :\n",
      "Last line: | The grace of the Lord Jesus be with God's people . Amen .\n",
      "5724\n",
      "---------------\n",
      "\n",
      "Bible: eng-x-bible-amplified-v1.txt\n",
      "First line: | THE BOOK of the ancestry ( genealogy ) of Jesus Christ ( the Messiah , the Anointed ) , the son ( descendant ) of David , the son ( descendant ) of Abraham .\n",
      "Last line: | The grace ( blessing and favor ) of the Lord Jesus Christ ( the Messiah ) be with all the saints ( God’s holy people , those set apart for God , to be , as it were , exclusively His ) . Amen ( so let it be ) !\n",
      "7956\n",
      "---------------\n",
      "\n"
     ]
    },
    {
     "data": {
      "text/plain": [
       "{'mean_ttr': 0.034,\n",
       " 'mean_mattr': 0.41,\n",
       " 'avg_line_count': 7941,\n",
       " 'ttr_variance': 6e-05,\n",
       " 'mattr_variance': 0.00036}"
      ]
     },
     "execution_count": 102,
     "metadata": {},
     "output_type": "execute_result"
    }
   ],
   "source": [
    "aggregate_scores_for_language([os.path.join(generic_path, bib) for bib in english],\n",
    "                             start_lines=[23145, 0, 0, 0, 0, 0, 0, 0,\n",
    "                                         23145, 0, 0, 0, 0, 0,\n",
    "                                            23144, 0, 0, 0, 0, 0, 0,\n",
    "                                         23145, 0, 0, 0, 0, 0])"
   ]
  },
  {
   "cell_type": "code",
   "execution_count": 104,
   "id": "ae14cb9f",
   "metadata": {},
   "outputs": [],
   "source": [
    "finnish = ['fin-x-bible-1766-v1.txt',\n",
    "'fin-x-bible-1933-v1.txt',\n",
    "'fin-x-bible-1992-v1.txt']"
   ]
  },
  {
   "cell_type": "code",
   "execution_count": 107,
   "id": "09413a37",
   "metadata": {},
   "outputs": [
    {
     "name": "stdout",
     "output_type": "stream",
     "text": [
      "Bible: fin-x-bible-1766-v1.txt\n",
      "First line: | Jesuksen Kristuksen syntymäkirja , Davidin pojan , Abrahamin pojan .\n",
      "Last line: | Meidän Herran Jesuksen Kristuksen armo olkoon teidän kaikkein kanssanne . Amen !\n",
      "7957\n",
      "---------------\n",
      "\n",
      "Bible: fin-x-bible-1933-v1.txt\n",
      "First line: | Jeesuksen Kristuksen , Daavidin pojan , Aabrahamin pojan , syntykirja .\n",
      "Last line: | Herran Jeesuksen armo olkoon kaikkien kanssa . Amen .\n",
      "7943\n",
      "---------------\n",
      "\n",
      "Bible: fin-x-bible-1992-v1.txt\n",
      "First line: | Jeesuksen Kristuksen , Daavidin pojan ja Abrahamin pojan , sukuluettelo :\n",
      "Last line: | Herran Jeesuksen armo olkoon kaikkien kanssa .\n",
      "7957\n",
      "---------------\n",
      "\n"
     ]
    },
    {
     "data": {
      "text/plain": [
       "{'mean_ttr': 0.136,\n",
       " 'mean_mattr': 0.596,\n",
       " 'avg_line_count': 7952,\n",
       " 'ttr_variance': 0.00035,\n",
       " 'mattr_variance': 0.00184}"
      ]
     },
     "execution_count": 107,
     "metadata": {},
     "output_type": "execute_result"
    }
   ],
   "source": [
    "aggregate_scores_for_language([os.path.join(generic_path, bib) for bib in finnish],\n",
    "                             start_lines=[23145, 23144, 23145])"
   ]
  },
  {
   "cell_type": "code",
   "execution_count": 225,
   "id": "529dae22",
   "metadata": {},
   "outputs": [
    {
     "data": {
      "text/plain": [
       "16"
      ]
     },
     "execution_count": 225,
     "metadata": {},
     "output_type": "execute_result"
    }
   ],
   "source": [
    "french = [\n",
    "#     'fra-x-bible-zadockahn-v1.txt',\n",
    "'fra-x-bible-semeur-v1.txt',\n",
    "'fra-x-bible-segond21-v1.txt',\n",
    "'fra-x-bible-pirotclamer-v1.txt',\n",
    "'fra-x-bible-perret-v1.txt',\n",
    "'fra-x-bible-paroledevie-v1.txt',\n",
    "'fra-x-bible-ostervald1867-v1.txt',\n",
    "'fra-x-bible-nouvellesegond-v1.txt',\n",
    "'fra-x-bible-louissegond-v1.txt',\n",
    "'fra-x-bible-kingjames-v1.txt',\n",
    "'fra-x-bible-jerusalem2004-v1 2.txt',\n",
    "'fra-x-bible-geneve1669-v1.txt',\n",
    "'fra-x-bible-davidmartin-v1.txt',\n",
    "'fra-x-bible-darby-v1.txt',\n",
    "'fra-x-bible-crampon-v1.txt',\n",
    "'fra-x-bible-courant1997-v1 2.txt',\n",
    "'fra-x-bible-bonnet-v1.txt',\n",
    "# 'fra-x-bible-jerusalem2004-v1.txt'\n",
    "]\n",
    "len(french)"
   ]
  },
  {
   "cell_type": "code",
   "execution_count": 224,
   "id": "5c98ba99",
   "metadata": {},
   "outputs": [
    {
     "data": {
      "text/plain": [
       "'Généalogie de Jésus-Christ , fils de David , fils d`Abraham .'"
      ]
     },
     "execution_count": 224,
     "metadata": {},
     "output_type": "execute_result"
    }
   ],
   "source": [
    "find_start(os.path.join(generic_path, 'fra-x-bible-crampon-v1.txt'), 23271)"
   ]
  },
  {
   "cell_type": "code",
   "execution_count": 226,
   "id": "061345ae",
   "metadata": {
    "scrolled": true
   },
   "outputs": [
    {
     "name": "stdout",
     "output_type": "stream",
     "text": [
      "Bible: fra-x-bible-semeur-v1.txt\n",
      "First line: | Voici la généalogie de Jésus-Christ , de la descendance de * David et d’ * Abraham .\n",
      "Last line: | Que le Seigneur Jésus accorde sa grâce à tous .\n",
      "7921\n",
      "---------------\n",
      "\n",
      "Bible: fra-x-bible-segond21-v1.txt\n",
      "First line: | Voici la généalogie de Jésus-Christ , fils de David , fils d'Abraham .\n",
      "Last line: | Que la grâce du Seigneur Jésus [ -Christ ] soit avec tous les saints !\n",
      "7957\n",
      "---------------\n",
      "\n",
      "Bible: fra-x-bible-pirotclamer-v1.txt\n",
      "First line: | Généalogie de Jésus-Christ , fils de David , fils d'Abraham .\n",
      "Last line: | La grâce du Seigneur Jésus soit avec les saints .\n",
      "7957\n",
      "---------------\n",
      "\n",
      "Bible: fra-x-bible-perret-v1.txt\n",
      "First line: | Table généalogique de Jésus-Christ , fils de David , fils d'Abraham :\n",
      "Last line: | La grâce du Seigneur Jésus soit avec tous !\n",
      "7956\n",
      "---------------\n",
      "\n",
      "Bible: fra-x-bible-paroledevie-v1.txt\n",
      "First line: | Voici la liste des ancêtres de Jésus-Christ : David est l'ancêtre de Jésus-Christ , et Abraham est l'ancêtre de David .\n",
      "Last line: | Que le Seigneur Jésus vous bénisse tous !\n",
      "7910\n",
      "---------------\n",
      "\n",
      "Bible: fra-x-bible-ostervald1867-v1.txt\n",
      "First line: | Le Livre de la Généalogie de Jésus-Christ , fils de David , fils d'Abraham .\n",
      "Last line: | Que la grâce de notre Seigneur Jésus-Christ soit avec vous tous , Amen !\n",
      "7953\n",
      "---------------\n",
      "\n",
      "Bible: fra-x-bible-nouvellesegond-v1.txt\n",
      "First line: | Généalogie de Jésus-Christ , fils de David , fils d’Abraham .\n",
      "Last line: | Que la grâce du Seigneur Jésus soit avec tous !\n",
      "7674\n",
      "---------------\n",
      "\n",
      "Bible: fra-x-bible-louissegond-v1.txt\n",
      "First line: | Généalogie de Jésus-Christ , fils de David , fils d' Abraham .\n",
      "Last line: | Que la grâce du Seigneur Jésus soit avec tous !\n",
      "7957\n",
      "---------------\n",
      "\n",
      "Bible: fra-x-bible-kingjames-v1.txt\n",
      "First line: | Livre généalogique de JÉSUS-CHRIST , fils de David , fils d' Abraham .\n",
      "Last line: | La grâce de notre Seigneur Jésus-Christ soit avec vous tous ! Amen .\n",
      "7958\n",
      "---------------\n",
      "\n",
      "Bible: fra-x-bible-jerusalem2004-v1 2.txt\n",
      "First line: | Livre de la genèse de Jésus Christ , fils de David , fils d'Abraham :\n",
      "Last line: | Comme il est nuisible de boire seulement du vin ou seulement de l'eau , tandis que le vin mêlé à l'eau est agréable et produit une délicieuse jouissance , de même c'est l'art de disposer le récit qui charme l'entendement de ceux qui lisent le livre . C'est donc ici que j'y mettrai fin .\n",
      "11955\n",
      "---------------\n",
      "\n",
      "Bible: fra-x-bible-geneve1669-v1.txt\n",
      "First line: | Livre de la generation de Jesus Christ , fils de David , fils d'Abraham .\n",
      "Last line: | La grace de nostre Seigneur Jesus Christ soit avec vous tous . Amen .\n",
      "7957\n",
      "---------------\n",
      "\n",
      "Bible: fra-x-bible-davidmartin-v1.txt\n",
      "First line: | Le Livre de la Généalogie de Jésus-Christ , fils de David , fils d' Abraham .\n",
      "Last line: | Que la grâce de notre Seigneur Jésus-Christ soit avec vous tous , Amen !\n",
      "7958\n",
      "---------------\n",
      "\n",
      "Bible: fra-x-bible-darby-v1.txt\n",
      "First line: | Livre de la généalogie de Jésus Christ , fils de David , fils d'Abraham :\n",
      "Last line: | Que la grâce du Seigneur Jésus Christ soit avec tous les saints .\n",
      "7958\n",
      "---------------\n",
      "\n",
      "Bible: fra-x-bible-crampon-v1.txt\n",
      "First line: | Généalogie de Jésus-Christ , fils de David , fils d`Abraham .\n",
      "Last line: | Que la grâce du Seigneur Jésus [ Christ ] soit avec [ vous ] tous ! [ Amen ! ]\n",
      "7956\n",
      "---------------\n",
      "\n",
      "Bible: fra-x-bible-courant1997-v1 2.txt\n",
      "First line: | Voici la liste des ancêtres de Jésus-Christ , descendant de David , lui-même descendant d’Abraham .\n",
      "Last line: | Mais rien d’impur n’entrera dans cette ville , ni personne qui se livre à des pratiques abominables et au mensonge . Seuls entreront ceux dont le nom est inscrit dans le livre de vie , qui est celui de l’Agneau .\n",
      "7775\n",
      "---------------\n",
      "\n",
      "Bible: fra-x-bible-bonnet-v1.txt\n",
      "First line: | Livre de la généalogie de Jésus-Christ , fils de David , fils d'Abraham .\n",
      "Last line: | La grâce du Seigneur Jésus soit avec tous ! !\n",
      "7957\n",
      "---------------\n",
      "\n"
     ]
    },
    {
     "data": {
      "text/plain": [
       "{'mean_ttr': 0.055,\n",
       " 'mean_mattr': 0.453,\n",
       " 'avg_line_count': 8172,\n",
       " 'ttr_variance': 5e-05,\n",
       " 'mattr_variance': 0.00031}"
      ]
     },
     "execution_count": 226,
     "metadata": {},
     "output_type": "execute_result"
    }
   ],
   "source": [
    "aggregate_scores_for_language([os.path.join(generic_path, bib) for bib in french],\n",
    "                             start_lines=[\n",
    "                                0, 0,\n",
    "                                 23145,\n",
    "                                 23132,\n",
    "                                 22931,\n",
    "                                 23145, 0,\n",
    "                                 23145,\n",
    "                                 23214,\n",
    "                                 23241, 0,\n",
    "                                 23145,\n",
    "                                 23145,\n",
    "                                 23271, 0,\n",
    "                                 23145,\n",
    "#                                  23145\n",
    "                             ]\n",
    "                             )"
   ]
  },
  {
   "cell_type": "code",
   "execution_count": 281,
   "id": "8088f991",
   "metadata": {},
   "outputs": [
    {
     "data": {
      "text/plain": [
       "'Welchen Propheten haben eure Väter nicht verfolgt , und getötet die , so die Zukunft des Gerechten verkündeten , dessen Verräter und Mörder ihr nunmehr geworden seid .'"
      ]
     },
     "execution_count": 281,
     "metadata": {},
     "output_type": "execute_result"
    }
   ],
   "source": [
    "find_start(os.path.join(generic_path, 'deu-x-bible-tafelbibel-v1.txt'), 22210)"
   ]
  },
  {
   "cell_type": "code",
   "execution_count": 298,
   "id": "b95a04c5",
   "metadata": {},
   "outputs": [
    {
     "data": {
      "text/plain": [
       "22"
      ]
     },
     "execution_count": 298,
     "metadata": {},
     "output_type": "execute_result"
    }
   ],
   "source": [
    "german = [\n",
    "    'deu-x-bible-zuercher-v1.txt',\n",
    "# 'deu-x-bible-v1.txt',\n",
    "'deu-x-bible-textbibel-v1.txt',\n",
    "'deu-x-bible-tafelbibel-v1.txt',\n",
    "'deu-x-bible-schlachter2000-v1.txt',\n",
    "'deu-x-bible-schlachter-v1.txt',\n",
    "'deu-x-bible-reinhardt1910-v1.txt',\n",
    "'deu-x-bible-pattloch-v1.txt',\n",
    "'deu-x-bible-neue-v1.txt',\n",
    "'deu-x-bible-meister-v1.txt',\n",
    "'deu-x-bible-luther1912-v1.txt',\n",
    "'deu-x-bible-luther1545letztehand-v1.txt',\n",
    "'deu-x-bible-luther1545-v1.txt',\n",
    "'deu-x-bible-konkordant-v1.txt',\n",
    "'deu-x-bible-interlinear-v1.txt',\n",
    "'deu-x-bible-hoffnung-v1.txt',\n",
    "'deu-x-bible-gruenewalder-v1.txt',\n",
    "'deu-x-bible-greber-v1.txt',\n",
    "'deu-x-bible-freebible-v1.txt',\n",
    "'deu-x-bible-erben-v1.txt',\n",
    "'deu-x-bible-elberfelder1905-v1.txt',\n",
    "'deu-x-bible-elberfelder1871-v1.txt',\n",
    "'deu-x-bible-albrecht-v1.txt'\n",
    "]\n",
    "len(german)"
   ]
  },
  {
   "cell_type": "code",
   "execution_count": 300,
   "id": "106ed40b",
   "metadata": {},
   "outputs": [
    {
     "name": "stdout",
     "output_type": "stream",
     "text": [
      "1\n",
      "Bible: deu-x-bible-zuercher-v1.txt\n",
      "First line: | DAS Buch der Abstammung Jesu Christi , des Sohnes Davids , des Sohnes Abrahams .\n",
      "Last line: | Die Gnade des Herrn Jesus sei mit allen !\n",
      "7957\n",
      "---------------\n",
      "\n",
      "2\n",
      "Bible: deu-x-bible-textbibel-v1.txt\n",
      "First line: | Stammbaum Jesus Christus' , des Sohnes Davids , des Sohnes Abrahams :\n",
      "Last line: | Die Gnade des Herrn Jesus mit allen .\n",
      "7957\n",
      "---------------\n",
      "\n",
      "3\n",
      "Bible: deu-x-bible-tafelbibel-v1.txt\n",
      "First line: | Das Buch von der Geburt Jesu Christi , des Sohnes Davids , des Sohnes Abrahams .\n",
      "Last line: | Die Gnade unseres Herrn Jesus Christus sei mit euch allen ! Amen .\n",
      "7957\n",
      "---------------\n",
      "\n",
      "4\n",
      "Bible: deu-x-bible-schlachter2000-v1.txt\n",
      "First line: | Geschlechtsregister Jesu Christi , des Sohnes Davids , des Sohnes Abrahams .\n",
      "Last line: | Die Gnade unseres Herrn Jesus Christus sei mit euch allen ! Amen .\n",
      "7958\n",
      "---------------\n",
      "\n",
      "5\n",
      "Bible: deu-x-bible-schlachter-v1.txt\n",
      "First line: | Geschlechtsregister Jesu Christi , des Sohnes Davids , des Sohnes Abrahams .\n",
      "Last line: | Die Gnade des Herrn Jesus sei mit allen Heiligen !\n",
      "7957\n",
      "---------------\n",
      "\n",
      "6\n",
      "Bible: deu-x-bible-reinhardt1910-v1.txt\n",
      "First line: | Geschlechtsregister Jesu , des Messias , des Sohnes Davids , des Sohnes Abrahams .\n",
      "Last line: | Es sind aber auch noch viele andere Dinge , welche Jesus getan hat ; wenn diese eins nach dem andern geschrieben würden , so achte ich , daß sogar die Welt die Bücher nicht fassen würde , die geschrieben würden .\n",
      "3778\n",
      "---------------\n",
      "\n",
      "7\n",
      "Bible: deu-x-bible-pattloch-v1.txt\n",
      "First line: | Buch der Abstammung Jesu Christi , des Sohnes Davids , des Sohnes Abrahams :\n",
      "Last line: | Es bekommt nämlich nicht gut , nur Wein oder reines Wasser für sich allein zu trinken ; Wein aber , mit Wasser gemischt , mundet köstlich und erzeugt angenehmen Wohlgeschmack . Ebenso ist eine schön abgefaßte Erzählung ein Ohrenschmaus für die , welche den zusammengestellten Bericht vernehmen . Damit sei nun geschlossen .\n",
      "12012\n",
      "---------------\n",
      "\n",
      "8\n",
      "Bible: deu-x-bible-neue-v1.txt\n",
      "First line: | Buch des Ursprungs von Jesus Christus , dem Nachkommen von König David und dem Stammvater Abraham .\n",
      "Last line: | Die Gnade des Herrn Jesus sei mit allen !\n",
      "7939\n",
      "---------------\n",
      "\n",
      "9\n",
      "Bible: deu-x-bible-meister-v1.txt\n",
      "First line: | Buch der Abstammung Jesu Christi , des Sohnes Davids , des Sohnes Abrahams .\n",
      "Last line: | Die Gnade des Herrn Jesu Christi sei mit allen , Amen !\n",
      "7956\n",
      "---------------\n",
      "\n",
      "10\n",
      "Bible: deu-x-bible-luther1912-v1.txt\n",
      "First line: | Dies ist das Buch von der Geburt Jesu Christi , der da ist ein Sohn Davids , des Sohnes Abrahams .\n",
      "Last line: | Die Gnade unsers HERRN Jesu Christi sei mit euch allen ! Amen .\n",
      "7957\n",
      "---------------\n",
      "\n",
      "11\n",
      "Bible: deu-x-bible-luther1545letztehand-v1.txt\n",
      "First line: | Djs ist das Buch von der geburt Jhesu Christi / Der da ist ein son Dauids / des sons Abraham Abraham vnd Dauid werden fürnemlich angezogen / Darumb / Das den selbigen Christus sonderlich verheissen ist . . Luc . 3 .\n",
      "Last line: | Sondern woltest mir vnwirdigem helffen / nach deiner grossen Barmhertzigkeit / So wil ich mein Leben lang dich loben .\n",
      "12023\n",
      "---------------\n",
      "\n",
      "12\n",
      "Bible: deu-x-bible-luther1545-v1.txt\n",
      "First line: | Dies ist das Buch von der Geburt Jesu Christi , der da ist ein Sohn Davids , des Sohnes Abrahams .\n",
      "Last line: | Die Gnade unsers HERRN Jesu Christi sei mit euch allen ! Amen . Ende des Neuen Testaments\n",
      "7957\n",
      "---------------\n",
      "\n",
      "13\n",
      "Bible: deu-x-bible-konkordant-v1.txt\n",
      "First line: |  Rolle [ der ] Abstammung Jesu Christi , [ des ] Sohnes Davids , [ des ] Sohnes Abrahams .\n",
      "Last line: | Die Gnade des Herr Jesus [ sei ] mit allen Heiligen ! Amen !\n",
      "7957\n",
      "---------------\n",
      "\n",
      "14\n",
      "Bible: deu-x-bible-interlinear-v1.txt\n",
      "First line: | Buch Abstammung Jesu Christi , Sohnes Davids , Sohnes Abrahams .\n",
      "Last line: | Die Gnade des Herrn Jesus mit allen !\n",
      "7957\n",
      "---------------\n",
      "\n",
      "15\n",
      "Bible: deu-x-bible-hoffnung-v1.txt\n",
      "First line: | Dieses Buch berichtet die Geschichte von Jesus Christus . Er ist Davids und Abrahams Nachkomme .\n",
      "Last line: | Möge unser Herr Jesus euch allen seine Gnade schenken !\n",
      "7791\n",
      "---------------\n",
      "\n",
      "16\n",
      "Bible: deu-x-bible-gruenewalder-v1.txt\n",
      "First line: | Stammbaum Jesu Christi , des Sohnes Davids , des Sohnes Abrahams .\n",
      "Last line: | Wie Wein allein zu trinken und ebenso Wasser allein unangenehm ist , während Wein mit Wasser gemischt angenehm mundet und köstlichen Genuß gewährt , also dient auch eine mannigfaltige Anordnung des geschichtlichen Stoffes zur Ergötzung derer , die diese Darstellung vernehmen . Das sei das Ende !\n",
      "11993\n",
      "---------------\n",
      "\n",
      "17\n",
      "Bible: deu-x-bible-greber-v1.txt\n",
      "First line: | Folgendes ist der Stammbaum Jesu ; - des Messias , zum Beweis , dass er ein Nachkomme Davids und Abrahams ist .\n",
      "Last line: | Die Gnade des Herrn Jesus Christus sei mit allen Gottestreuen ! Amen !\n",
      "7955\n",
      "---------------\n",
      "\n",
      "18\n",
      "Bible: deu-x-bible-freebible-v1.txt\n",
      "First line: | Buch des Geschlechts Jesu Christi , des Sohnes Davids , des Sohnes Abrahams .\n",
      "Last line: | Die Gnade des Herrn Jesus Christus sei mit allen Heiligen !\n",
      "7958\n",
      "---------------\n",
      "\n",
      "19\n",
      "Bible: deu-x-bible-erben-v1.txt\n",
      "First line: | Geschlechtsregister Jesu Christi , des Sohnes Davids , des Sohnes Abrahams .\n",
      "Last line: | Die Gnade des Herrn Jesu ( sei ) mit allen ! Deine Gnade , Herr Jesu , sei mit allen !\n",
      "7957\n",
      "---------------\n",
      "\n",
      "20\n",
      "Bible: deu-x-bible-elberfelder1905-v1.txt\n",
      "First line: | Buch des Geschlechts Jesu Christi , des Sohnes Davids , des Sohnes Abrahams .\n",
      "Last line: | Die Gnade des Herrn Jesus Christus sei mit allen Heiligen !\n",
      "7957\n",
      "---------------\n",
      "\n",
      "21\n",
      "Bible: deu-x-bible-elberfelder1871-v1.txt\n",
      "First line: | Buch des Geschlechts Jesu Christi , des Sohnes Davids , des Sohnes Abrahams .\n",
      "Last line: | Die Gnade des Herrn Jesu Christi sei mit allen Heiligen !\n",
      "7957\n",
      "---------------\n",
      "\n",
      "22\n",
      "Bible: deu-x-bible-albrecht-v1.txt\n",
      "First line: | Dies ist das Buch der Geschichte Jesu Christi , des Sohnes Davids , des Sohnes Abrahams .\n",
      "Last line: | Die Gnade des Herrn Jesus Christus sei mit allen Heiligen ! Amen .\n",
      "7930\n",
      "---------------\n",
      "\n"
     ]
    },
    {
     "data": {
      "text/plain": [
       "{'mean_ttr': 0.061,\n",
       " 'mean_mattr': 0.484,\n",
       " 'avg_line_count': 8310,\n",
       " 'ttr_variance': 4e-05,\n",
       " 'mattr_variance': 0.00053}"
      ]
     },
     "execution_count": 300,
     "metadata": {},
     "output_type": "execute_result"
    }
   ],
   "source": [
    "aggregate_scores_for_language([os.path.join(generic_path, bib) for bib in german],\n",
    "                              save_folder=os.path.join(generic_path, \"contents\"),\n",
    "                             start_lines=[\n",
    "                                 23212,  # 1\n",
    "                                 23216,  # 2\n",
    "                                 18187,  # 3\n",
    "                                 0,  # 4\n",
    "                                 23145,  # 5\n",
    "                                 0,  # 6\n",
    "                                 24192,  # 7\n",
    "                                 23012,  # 8\n",
    "                                 0,  # 9\n",
    "                                 23145,  # 10\n",
    "                                 23215, # 11\n",
    "                                 23145,  # 12\n",
    "                                 0,  # 13\n",
    "                                 0,  # 14\n",
    "                                 0,  # 15\n",
    "                                 23477,  # 16\n",
    "                                 0,  # 17\n",
    "                                 23213,  # 18\n",
    "                                 0,  # 19\n",
    "                                 23145,  # 20\n",
    "                                 23145,  # 21\n",
    "                                 0  # 22\n",
    "                             ])"
   ]
  },
  {
   "cell_type": "code",
   "execution_count": 301,
   "id": "a5368239",
   "metadata": {},
   "outputs": [],
   "source": [
    "greek = [\n",
    "    'ell-x-bible-hellenic1-v1.txt',\n",
    "'ell-x-bible-koine1894-v1.txt',\n",
    "'ell-x-bible-modern2009-v1.txt'\n",
    "]"
   ]
  },
  {
   "cell_type": "code",
   "execution_count": 303,
   "id": "b0b051a8",
   "metadata": {},
   "outputs": [
    {
     "name": "stdout",
     "output_type": "stream",
     "text": [
      "1\n",
      "Bible: ell-x-bible-hellenic1-v1.txt\n",
      "First line: | Βιβλίον τῆς ἱστορίας τοῦ Ἰησοῦ Χριστοῦ , τοῦ υἱοῦ τοῦ Δαυΐδ , τοῦ υἱοῦ τοῦ Ἀβραάμ .\n",
      "Last line: | Ἡ χάρις τοῦ Κυρίου Ἰησοῦ Χριστοῦ νὰ εἶναι μαζὶ μὲ ὅλους τοὺς ἁγίους . Ἀμήν .\n",
      "7914\n",
      "---------------\n",
      "\n",
      "2\n",
      "Bible: ell-x-bible-koine1894-v1.txt\n",
      "First line: | Βίβλος γενέσεως Ἰησοῦ Χριστοῦ , υἱοῦ Δαβὶδ , υἱοῦ Ἀβραάμ .\n",
      "Last line: | Ἡ χάρις τοῦ Κυρίου ημῶν Ἰησοῦ Χριστοῦ μετὰ πάντων ὑμῶν . ἀμήν .\n",
      "7957\n",
      "---------------\n",
      "\n",
      "3\n",
      "Bible: ell-x-bible-modern2009-v1.txt\n",
      "First line: | Βιβλος της γενεαλογιας του Ιησου Χριστου , υιου του Δαβιδ , υιου του Αβρααμ .\n",
      "Last line: | Η χαρις του Κυριου ημων Ιησου Χριστου ειη μετα παντων υμων ? αμην .\n",
      "7957\n",
      "---------------\n",
      "\n"
     ]
    },
    {
     "data": {
      "text/plain": [
       "{'mean_ttr': 0.108,\n",
       " 'mean_mattr': 0.51,\n",
       " 'avg_line_count': 7942,\n",
       " 'ttr_variance': 0.00049,\n",
       " 'mattr_variance': 0.00094}"
      ]
     },
     "execution_count": 303,
     "metadata": {},
     "output_type": "execute_result"
    }
   ],
   "source": [
    "aggregate_scores_for_language([os.path.join(generic_path, bib) for bib in greek],\n",
    "                              save_folder=os.path.join(generic_path, \"contents/greek\"),\n",
    "                             start_lines=[0, 0, 23145])"
   ]
  },
  {
   "cell_type": "code",
   "execution_count": 304,
   "id": "df8e5014",
   "metadata": {},
   "outputs": [],
   "source": [
    "haitian = [\n",
    "    'hat-x-bible-1985-v1.txt',\n",
    "'hat-x-bible-1999-v1.txt'\n",
    "]"
   ]
  },
  {
   "cell_type": "code",
   "execution_count": 307,
   "id": "9d573802",
   "metadata": {},
   "outputs": [
    {
     "name": "stdout",
     "output_type": "stream",
     "text": [
      "1\n",
      "Bible: hat-x-bible-1985-v1.txt\n",
      "First line: | Men non zansèt Jezikri ki te pitit pitit David , pitit pitit Abraram .\n",
      "Last line: | Se pou benediksyon Seyè Jezi a rete toujou la ak tout moun .\n",
      "7958\n",
      "---------------\n",
      "\n",
      "2\n",
      "Bible: hat-x-bible-1999-v1.txt\n",
      "First line: | Men non zansèt Jezikri ki te pitit pitit David , pitit pitit Abraram .\n",
      "Last line: | Se pou benediksyon Senyè Jezi a rete toujou la ak tout moun .\n",
      "7949\n",
      "---------------\n",
      "\n"
     ]
    },
    {
     "data": {
      "text/plain": [
       "{'mean_ttr': 0.014,\n",
       " 'mean_mattr': 0.328,\n",
       " 'avg_line_count': 7953,\n",
       " 'ttr_variance': 0.0,\n",
       " 'mattr_variance': 0.0}"
      ]
     },
     "execution_count": 307,
     "metadata": {},
     "output_type": "execute_result"
    }
   ],
   "source": [
    "aggregate_scores_for_language([os.path.join(generic_path, bib) for bib in haitian],\n",
    "                             save_folder=os.path.join(generic_path, \"contents/haitian\"),\n",
    "                             start_lines=[23139,23051])"
   ]
  },
  {
   "cell_type": "code",
   "execution_count": 311,
   "id": "f25a9638",
   "metadata": {},
   "outputs": [],
   "source": [
    "hungarian = ['hun-x-bible-2003-v1.txt',\n",
    "'hun-x-bible-2005-v1.txt',\n",
    "'hun-x-bible-2012-v1.txt',\n",
    "'hun-x-bible-karoli-v1.txt',\n",
    "'hun-x-bible-revised-v1.txt']"
   ]
  },
  {
   "cell_type": "code",
   "execution_count": 313,
   "id": "27a9ef72",
   "metadata": {},
   "outputs": [
    {
     "name": "stdout",
     "output_type": "stream",
     "text": [
      "1\n",
      "Bible: hun-x-bible-2003-v1.txt\n",
      "First line: | Jézus Krisztusnak , Dávid fiának , Ábrahám fiának nemzetségéről szóló könyv .\n",
      "Last line: | A mi Urunknak , Jézus Krisztusnak kegyelme legyen mindnyájatokkal ! Ámen .\n",
      "7953\n",
      "---------------\n",
      "\n",
      "2\n",
      "Bible: hun-x-bible-2005-v1.txt\n",
      "First line: | Jézus Krisztusnak , a Dávid fiának , az Ábrahám fiának nemzetségkönyve .\n",
      "Last line: | Az Úr Jézus kegyelme legyen mindnyájatokkal ! Ámen .\n",
      "7957\n",
      "---------------\n",
      "\n",
      "3\n",
      "Bible: hun-x-bible-2012-v1.txt\n",
      "First line: | Ez Jézus Krisztus családfája . Jézus Dávid családjából származik , Dávid pedig Ábrahám családjából .\n",
      "Last line: | Az Úr Jézus kegyelme legyen veletek !\n",
      "7826\n",
      "---------------\n",
      "\n",
      "4\n",
      "Bible: hun-x-bible-karoli-v1.txt\n",
      "First line: | Jézus Krisztusnak , Dávid fiának , Ábrahám fiának nemzetségérõl való könyv .\n",
      "Last line: | A mi Urunk Jézus Krisztusnak kegyelme [ legyen ] mindnyájan ti veletek . Ámen .\n",
      "7959\n",
      "---------------\n",
      "\n",
      "5\n",
      "Bible: hun-x-bible-revised-v1.txt\n",
      "First line: | Jézus Krisztusnak , a Dávid fiának , az Ábrahám fiának nemzetségkönyve .\n",
      "Last line: | Az Úr Jézus kegyelme legyen mindnyájatokkal ! Ámen .\n",
      "7957\n",
      "---------------\n",
      "\n"
     ]
    },
    {
     "data": {
      "text/plain": [
       "{'mean_ttr': 0.144,\n",
       " 'mean_mattr': 0.567,\n",
       " 'avg_line_count': 7930,\n",
       " 'ttr_variance': 0.00017,\n",
       " 'mattr_variance': 0.00031}"
      ]
     },
     "execution_count": 313,
     "metadata": {},
     "output_type": "execute_result"
    }
   ],
   "source": [
    "aggregate_scores_for_language([os.path.join(generic_path, bib) for bib in hungarian],\n",
    "                              save_folder=os.path.join(generic_path, \"contents/hungarian\"),\n",
    "                             start_lines=[0, 23127, 0, 23240, 0])"
   ]
  },
  {
   "cell_type": "code",
   "execution_count": 314,
   "id": "0a0291a0",
   "metadata": {},
   "outputs": [],
   "source": [
    "indonesian = [\n",
    "    'ind-x-bible-suciinjil-v1.txt',\n",
    "'ind-x-bible-easy2005-v1.txt',\n",
    "'ind-x-bible-kabarbaik-v1.txt',\n",
    "'ind-x-bible-terjemahanbaru-v1.txt',\n",
    "'ind-x-bible-terjemahanlama-v1.txt'\n",
    "]"
   ]
  },
  {
   "cell_type": "code",
   "execution_count": 316,
   "id": "a5898c0b",
   "metadata": {},
   "outputs": [
    {
     "name": "stdout",
     "output_type": "stream",
     "text": [
      "1\n",
      "Bible: ind-x-bible-suciinjil-v1.txt\n",
      "First line: | Inilah silsilah Isa Al-Masih , anak Daud , anak Ibrahim :\n",
      "Last line: | Rahmat Isa , Junjungan Yang Ilahi , menyertai semua orang saleh . Amin .\n",
      "7957\n",
      "---------------\n",
      "\n",
      "2\n",
      "Bible: ind-x-bible-easy2005-v1.txt\n",
      "First line: | Inilah silsilah Yesus Kristus . Ia berasal dari keturunan Daud , keturunan Abraham .\n",
      "Last line: | Semoga Tuhan Yesus memberikan berkat dan menyertai semua orang . Amin .\n",
      "7849\n",
      "---------------\n",
      "\n",
      "3\n",
      "Bible: ind-x-bible-kabarbaik-v1.txt\n",
      "First line: | Inilah daftar nenek moyang Yesus Kristus , keturunan Daud , keturunan Abraham . Dari Abraham sampai Daud , nama-nama nenek moyang Yesus sebagai berikut :\n",
      "Last line: | Semoga Tuhan Yesus memberi berkat-Nya kepada semua umat Allah !\n",
      "7958\n",
      "---------------\n",
      "\n",
      "4\n",
      "Bible: ind-x-bible-terjemahanbaru-v1.txt\n",
      "First line: | Inilah silsilah Yesus Kristus , anak Daud , anak Abraham .\n",
      "Last line: | Kasih karunia Tuhan Yesus menyertai kamu sekalian ! Amin .\n",
      "7958\n",
      "---------------\n",
      "\n",
      "5\n",
      "Bible: ind-x-bible-terjemahanlama-v1.txt\n",
      "First line: | Bahwa inilah silsilah Yesus Kristus , yaitu anak Daud , anak Ibrahim .\n",
      "Last line: | Adalah kiranya anugerah Tuhan Yesus menyertai orang sekalian . Amin .\n",
      "7958\n",
      "---------------\n",
      "\n"
     ]
    },
    {
     "data": {
      "text/plain": [
       "{'mean_ttr': 0.042,\n",
       " 'mean_mattr': 0.445,\n",
       " 'avg_line_count': 7936,\n",
       " 'ttr_variance': 1e-05,\n",
       " 'mattr_variance': 0.00017}"
      ]
     },
     "execution_count": 316,
     "metadata": {},
     "output_type": "execute_result"
    }
   ],
   "source": [
    "aggregate_scores_for_language([os.path.join(generic_path, bib) for bib in indonesian],\n",
    "                              save_folder=os.path.join(generic_path, \"contents/indonesian\"),\n",
    "                             start_lines=[23211, 0, 0, 23214, 0])"
   ]
  },
  {
   "cell_type": "code",
   "execution_count": 317,
   "id": "e0c03e28",
   "metadata": {},
   "outputs": [],
   "source": [
    "javanese = ['jav-x-bible-1981-v1.txt',\n",
    "'jav-x-bible-jav-v1.txt']"
   ]
  },
  {
   "cell_type": "code",
   "execution_count": 318,
   "id": "18631bc6",
   "metadata": {},
   "outputs": [
    {
     "name": "stdout",
     "output_type": "stream",
     "text": [
      "1\n",
      "Bible: jav-x-bible-1981-v1.txt\n",
      "First line: | Iki sarasilahe Gusti Yesus Kritus , tedhake Sang Prabu Dawud , tedhake Rama Abraham .\n",
      "Last line: | Sih-rahmate Gusti kita Yesus Kristus nunggila ing kowe kabeh ! Amin .\n",
      "7618\n",
      "---------------\n",
      "\n",
      "2\n",
      "Bible: jav-x-bible-jav-v1.txt\n",
      "First line: | Iki sarasilahé Yésus Kristus , tedhaké Daud , tedhaké Abraham .\n",
      "Last line: | Sih-rahmaté Gusti Yésus nunggila ing kowé kabèh ! Amin .\n",
      "7959\n",
      "---------------\n",
      "\n"
     ]
    },
    {
     "data": {
      "text/plain": [
       "{'mean_ttr': 0.066,\n",
       " 'mean_mattr': 0.467,\n",
       " 'avg_line_count': 7788,\n",
       " 'ttr_variance': 0.0,\n",
       " 'mattr_variance': 0.0}"
      ]
     },
     "execution_count": 318,
     "metadata": {},
     "output_type": "execute_result"
    }
   ],
   "source": [
    "aggregate_scores_for_language([os.path.join(generic_path, bib) for bib in javanese],)"
   ]
  },
  {
   "cell_type": "code",
   "execution_count": 319,
   "id": "304144cc",
   "metadata": {},
   "outputs": [],
   "source": [
    "korean = [\n",
    "    'kor-x-bible-revised-v1.txt',\n",
    "'kor-x-bible-1985-v1.txt',\n",
    "'kor-x-bible-kor-v1.txt',\n",
    "'kor-x-bible-latinscript-v1.txt'\n",
    "]"
   ]
  },
  {
   "cell_type": "code",
   "execution_count": 321,
   "id": "508cb94c",
   "metadata": {},
   "outputs": [
    {
     "name": "stdout",
     "output_type": "stream",
     "text": [
      "1\n",
      "Bible: kor-x-bible-revised-v1.txt\n",
      "First line: | 아브라함과 다윗의 자손 예수 그리스도의 세계라\n",
      "Last line: | 주 예수의 은혜가 모든 자들에게 있을지어다 ! 아멘\n",
      "7960\n",
      "---------------\n",
      "\n",
      "2\n",
      "Bible: kor-x-bible-1985-v1.txt\n",
      "First line: | 이것은 아브라함과 다윗의 후손 예수 그리스도의 족보이다:\n",
      "Last line: | 주 예수님의 은혜가 모든 성도들과 함께하기를 기도합니다 . 아멘 .\n",
      "7911\n",
      "---------------\n",
      "\n",
      "3\n",
      "Bible: kor-x-bible-kor-v1.txt\n",
      "First line: | 아브라함 의 자손이요 다윗 의 자손인 예수 그리스도 의 계보는 이러하다 .\n",
      "Last line: | 주 예수 의 은혜가 모든 사람에게 있기를 빕니다 . 아멘 .\n",
      "7611\n",
      "---------------\n",
      "\n",
      "4\n",
      "Bible: kor-x-bible-latinscript-v1.txt\n",
      "First line: | apurahamkwa tawisuy cason yeyswu kurisutouy seykyeyra\n",
      "Last line: | cwu yeyswuuy unhyeyka motun catureykey issurcieta ! ameyn\n",
      "7920\n",
      "---------------\n",
      "\n"
     ]
    },
    {
     "data": {
      "text/plain": [
       "{'mean_ttr': 0.18,\n",
       " 'mean_mattr': 0.696,\n",
       " 'avg_line_count': 7850,\n",
       " 'ttr_variance': 0.00028,\n",
       " 'mattr_variance': 0.00059}"
      ]
     },
     "execution_count": 321,
     "metadata": {},
     "output_type": "execute_result"
    }
   ],
   "source": [
    "aggregate_scores_for_language([os.path.join(generic_path, bib) for bib in korean],\n",
    "                             save_folder=os.path.join(generic_path, \"contents/korean\"),\n",
    "                             start_lines=[22773, 0, 0, 0])"
   ]
  },
  {
   "cell_type": "code",
   "execution_count": 322,
   "id": "790c3d5d",
   "metadata": {},
   "outputs": [],
   "source": [
    "latin = [\n",
    "    'lat-x-bible-vulgataclementina-v1.txt',\n",
    "'lat-x-bible-novavulgata-v1.txt'\n",
    "]"
   ]
  },
  {
   "cell_type": "code",
   "execution_count": 326,
   "id": "85de5103",
   "metadata": {},
   "outputs": [
    {
     "name": "stdout",
     "output_type": "stream",
     "text": [
      "1\n",
      "Bible: lat-x-bible-vulgataclementina-v1.txt\n",
      "First line: | Liber generationis Jesu Christi filii David , filii Abraham .\n",
      "Last line: | Sicut enim vinum semper bibere , aut semper aquam , contrarium est ; alternis autem uti , delectabile : ita legentibus si semper exactus sit sermo , non erit gratus . Hic ergo erit consummatus .\n",
      "12602\n",
      "---------------\n",
      "\n",
      "2\n",
      "Bible: lat-x-bible-novavulgata-v1.txt\n",
      "First line: | Liber generationis Iesu Christi filii David filii Abraham .\n",
      "Last line: | Sicut enim vinum solummodo bibere , similiter autem rursus et aquam , contrarium est , quemadmodum autem vinum aquae contemperatum iam et delectabilem gratiam perficit , huiusmodi etiam structura sermonis delectat aures eorum , quibus contingat compositionem legere . Hic autem erit finis .\n",
      "12417\n",
      "---------------\n",
      "\n"
     ]
    },
    {
     "data": {
      "text/plain": [
       "{'mean_ttr': 0.119,\n",
       " 'mean_mattr': 0.581,\n",
       " 'avg_line_count': 12509,\n",
       " 'ttr_variance': 0.0,\n",
       " 'mattr_variance': 4e-05}"
      ]
     },
     "execution_count": 326,
     "metadata": {},
     "output_type": "execute_result"
    }
   ],
   "source": [
    "aggregate_scores_for_language([os.path.join(generic_path, bib) for bib in latin],\n",
    "                              start_lines=[23376, 23379])"
   ]
  },
  {
   "cell_type": "code",
   "execution_count": 327,
   "id": "6c366c00",
   "metadata": {},
   "outputs": [],
   "source": [
    "latvian = ['lav-x-bible-ljd-youversion-v1.txt',\n",
    "'lav-x-bible-1997-v1.txt']"
   ]
  },
  {
   "cell_type": "code",
   "execution_count": 328,
   "id": "8df9b936",
   "metadata": {},
   "outputs": [
    {
     "name": "stdout",
     "output_type": "stream",
     "text": [
      "1\n",
      "Bible: lav-x-bible-ljd-youversion-v1.txt\n",
      "First line: | Jēzus Kristus , Dāvida dēla , Ābrahama dēla , cilts grāmata .\n",
      "Last line: | Nāc , Kungs Jēzu ! Mūsu Kunga Jēzus Kristus žēlastība lai ir ar jums visiem ! Amen .\n",
      "7949\n",
      "---------------\n",
      "\n",
      "2\n",
      "Bible: lav-x-bible-1997-v1.txt\n",
      "First line: | Jēzus Kristus , Dāvida dēla , Ābrahāma dēla , cilts grāmata .\n",
      "Last line: | Mūsu Kunga Jēzus žēlastība lai ir ar visiem ! Āmen !\n",
      "7954\n",
      "---------------\n",
      "\n"
     ]
    },
    {
     "data": {
      "text/plain": [
       "{'mean_ttr': 0.114,\n",
       " 'mean_mattr': 0.552,\n",
       " 'avg_line_count': 7951,\n",
       " 'ttr_variance': 2e-05,\n",
       " 'mattr_variance': 0.0}"
      ]
     },
     "execution_count": 328,
     "metadata": {},
     "output_type": "execute_result"
    }
   ],
   "source": [
    "aggregate_scores_for_language([os.path.join(generic_path, bib) for bib in latvian],)"
   ]
  },
  {
   "cell_type": "code",
   "execution_count": 329,
   "id": "9ec8668f",
   "metadata": {},
   "outputs": [],
   "source": [
    "persian = [\n",
    "    'fas-x-bible-1995-v1.txt',\n",
    "'fas-x-bible-2007-v1.txt',\n",
    "'fas-x-bible-newmillennium2011-v1.txt'\n",
    "]"
   ]
  },
  {
   "cell_type": "code",
   "execution_count": 330,
   "id": "3144bab3",
   "metadata": {},
   "outputs": [
    {
     "name": "stdout",
     "output_type": "stream",
     "text": [
      "1\n",
      "Bible: fas-x-bible-1995-v1.txt\n",
      "First line: | کتاب نسب نامه عیسی مسیح بن داود بن ابراهیم :\n",
      "Last line: | او که بر این امور شاهد است ، میگوید : « بلی ، به زودی میآیم ! » آمین . بیا ، ای خداوند عیسی !\n",
      "7905\n",
      "---------------\n",
      "\n",
      "2\n",
      "Bible: fas-x-bible-2007-v1.txt\n",
      "First line: | شجره‌نامهٔ عیسی مسیح ، پسر داوود ، پسر ابراهیم :\n",
      "Last line: | فیض عیسی خداوند با همهٔ شما باد ، آمین !\n",
      "7866\n",
      "---------------\n",
      "\n",
      "3\n",
      "Bible: fas-x-bible-newmillennium2011-v1.txt\n",
      "First line: | شجره‌نامۀ عیسی مسیح ، پسر داوود ، پسر ابراهیم :\n",
      "Last line: | فیض خداوندْ عیسی با همۀ شما باد . آمین .\n",
      "7931\n",
      "---------------\n",
      "\n"
     ]
    },
    {
     "data": {
      "text/plain": [
       "{'mean_ttr': 0.067,\n",
       " 'mean_mattr': 0.481,\n",
       " 'avg_line_count': 7900,\n",
       " 'ttr_variance': 0.00016,\n",
       " 'mattr_variance': 9e-05}"
      ]
     },
     "execution_count": 330,
     "metadata": {},
     "output_type": "execute_result"
    }
   ],
   "source": [
    "aggregate_scores_for_language([os.path.join(generic_path, bib) for bib in persian],)"
   ]
  },
  {
   "cell_type": "code",
   "execution_count": 331,
   "id": "1a465e5b",
   "metadata": {},
   "outputs": [],
   "source": [
    "portuguese = [\n",
    "    'por-x-bible-almeidarevista-v1.txt',\n",
    "'por-x-bible-paratodos-v1.txt',\n",
    "'por-x-bible-almeidaatualizada-v1.txt',\n",
    "'por-x-bible-linguagemdehoje-v1.txt',\n",
    "'por-x-bible-versaofacil-v1.txt',\n",
    "'por-x-bible-versaointernacional-v1.txt'\n",
    "]"
   ]
  },
  {
   "cell_type": "code",
   "execution_count": 333,
   "id": "66baa345",
   "metadata": {},
   "outputs": [
    {
     "name": "stdout",
     "output_type": "stream",
     "text": [
      "1\n",
      "Bible: por-x-bible-almeidarevista-v1.txt\n",
      "First line: | Livro da geração de Jesus Cristo , Filho de Davi , Filho de Abraão .\n",
      "Last line: | A graça de nosso Senhor Jesus Cristo seja com todos vós . Amém !\n",
      "7957\n",
      "---------------\n",
      "\n",
      "2\n",
      "Bible: por-x-bible-paratodos-v1.txt\n",
      "First line: | Esta é a lista dos antepassados de Jesus Cristo , filho de David , filho de Abraão .\n",
      "Last line: | Que as bênçãos do Senhor Jesus estejam com todos vós .\n",
      "7958\n",
      "---------------\n",
      "\n",
      "3\n",
      "Bible: por-x-bible-almeidaatualizada-v1.txt\n",
      "First line: | Livro da genealogia de Jesus Cristo , filho de Davi , filho de Abraão .\n",
      "Last line: | A graça do Senhor Jesus seja com todos .\n",
      "7959\n",
      "---------------\n",
      "\n",
      "4\n",
      "Bible: por-x-bible-linguagemdehoje-v1.txt\n",
      "First line: | Esta é a lista dos antepassados de Jesus Cristo , descendente de Davi , que era descendente de Abraão .\n",
      "Last line: | E que a graça do Senhor Jesus esteja com todos .\n",
      "7954\n",
      "---------------\n",
      "\n",
      "5\n",
      "Bible: por-x-bible-versaofacil-v1.txt\n",
      "First line: | Esta é a lista dos antepassados de Jesus Cristo , descendente de Davi , que era descendente de Abraão .\n",
      "Last line: | Que a graça do Senhor Jesus esteja com todos vocês .\n",
      "7907\n",
      "---------------\n",
      "\n",
      "6\n",
      "Bible: por-x-bible-versaointernacional-v1.txt\n",
      "First line: | Registro da genealogia de Jesus Cristo , filho de Davi , filho de Abraão :\n",
      "Last line: | A graça do Senhor Jesus seja com todos . Amém .\n",
      "7778\n",
      "---------------\n",
      "\n"
     ]
    },
    {
     "data": {
      "text/plain": [
       "{'mean_ttr': 0.064,\n",
       " 'mean_mattr': 0.479,\n",
       " 'avg_line_count': 7918,\n",
       " 'ttr_variance': 0.00016,\n",
       " 'mattr_variance': 0.00015}"
      ]
     },
     "execution_count": 333,
     "metadata": {},
     "output_type": "execute_result"
    }
   ],
   "source": [
    "aggregate_scores_for_language([os.path.join(generic_path, bib) for bib in portuguese],\n",
    "                             save_folder=os.path.join(generic_path, \"contents/portuguese\"),\n",
    "                             start_lines=[23148, 23209, 23147, 0, 0, 0])"
   ]
  },
  {
   "cell_type": "code",
   "execution_count": null,
   "id": "e89d6e18",
   "metadata": {},
   "outputs": [],
   "source": [
    "qub, quf, qug, quh, qul, qup, quy"
   ]
  },
  {
   "cell_type": "code",
   "execution_count": 334,
   "id": "f1036a71",
   "metadata": {},
   "outputs": [],
   "source": [
    "russian = [\n",
    "    'rus-x-bible-churchslavonic-v1.txt',\n",
    "'rus-x-bible-kulakov-v1.txt',\n",
    "'rus-x-bible-modern2011-v1.txt',\n",
    "'rus-x-bible-centralasian-v1.txt',\n",
    "'rus-x-bible-slovozhizny2006-v1.txt',\n",
    "'rus-x-bible-synodal-v1.txt'\n",
    "]"
   ]
  },
  {
   "cell_type": "code",
   "execution_count": 336,
   "id": "b6c68ed8",
   "metadata": {},
   "outputs": [
    {
     "name": "stdout",
     "output_type": "stream",
     "text": [
      "1\n",
      "Bible: rus-x-bible-churchslavonic-v1.txt\n",
      "First line: | Книга родства Иисуса Христа , сына давидова , сына авраамля .\n",
      "Last line: | Благодать Господа нашего Иисуса Христа со всеми вами . Аминь .\n",
      "7956\n",
      "---------------\n",
      "\n",
      "2\n",
      "Bible: rus-x-bible-kulakov-v1.txt\n",
      "First line: | Вот родословие Иисуса Христа , потомка Давида и Авраама :\n",
      "Last line: | Благодать Господа Иисуса да будет со всеми !\n",
      "7940\n",
      "---------------\n",
      "\n",
      "3\n",
      "Bible: rus-x-bible-modern2011-v1.txt\n",
      "First line: | Вот родословная Иисуса Христа , происходящего из рода Давида , рожденного в роде Авраама :\n",
      "Last line: | Да будет благодать Господа Иисуса со всеми вами !\n",
      "7867\n",
      "---------------\n",
      "\n",
      "4\n",
      "Bible: rus-x-bible-centralasian-v1.txt\n",
      "First line: | Вот родословие Исы Масиха , потомка Давуда , потомка Ибрахима .\n",
      "Last line: | Пусть благодать Повелителя Исы будет со всеми . Аминь .\n",
      "7913\n",
      "---------------\n",
      "\n",
      "5\n",
      "Bible: rus-x-bible-slovozhizny2006-v1.txt\n",
      "First line: | Всего от Авраама до Давида было четырнадцать поколений , от Давида до переселения в Вавилон – тоже четырнадцать и четырнадцать поколений от переселения в Вавилон до Христа .\n",
      "Last line: | Пусть благодать Господа Иисуса будет со всеми . Аминь .\n",
      "7807\n",
      "---------------\n",
      "\n",
      "6\n",
      "Bible: rus-x-bible-synodal-v1.txt\n",
      "First line: | Родословие Иисуса Христа , Сына Давидова , Сына Авраамова .\n",
      "Last line: | Благодать Господа нашего Иисуса Христа со всеми вами . Аминь .\n",
      "7958\n",
      "---------------\n",
      "\n"
     ]
    },
    {
     "data": {
      "text/plain": [
       "{'mean_ttr': 0.123,\n",
       " 'mean_mattr': 0.58,\n",
       " 'avg_line_count': 7906,\n",
       " 'ttr_variance': 0.0001,\n",
       " 'mattr_variance': 4e-05}"
      ]
     },
     "execution_count": 336,
     "metadata": {},
     "output_type": "execute_result"
    }
   ],
   "source": [
    "aggregate_scores_for_language([os.path.join(generic_path, bib) for bib in russian],\n",
    "                             save_folder=os.path.join(generic_path, \"contents/russian\"),\n",
    "                             start_lines=[0, 0, 0, 0, 0, 23146])"
   ]
  },
  {
   "cell_type": "code",
   "execution_count": 337,
   "id": "3358ad38",
   "metadata": {},
   "outputs": [],
   "source": [
    "spanish = [\n",
    "    'spa-x-bible-dhhe-v1.txt',\n",
    "'spa-x-bible-dioshablahoy-v1.txt',\n",
    "'spa-x-bible-reinavalera1960-v1.txt',\n",
    "'spa-x-bible-blph-youversion-v1.txt',\n",
    "'spa-x-bible-rvr95-youversion-v1.txt',\n",
    "'spa-x-bible-tla-v1.txt'\n",
    "]"
   ]
  },
  {
   "cell_type": "code",
   "execution_count": 339,
   "id": "8f84ed04",
   "metadata": {},
   "outputs": [
    {
     "name": "stdout",
     "output_type": "stream",
     "text": [
      "1\n",
      "Bible: spa-x-bible-dhhe-v1.txt\n",
      "First line: | La lista de los antepasados de Jesucristo , descendiente de David y de Abraham :\n",
      "Last line: | Que el Señor Jesús derrame su gracia sobre todos .\n",
      "7734\n",
      "---------------\n",
      "\n",
      "2\n",
      "Bible: spa-x-bible-dioshablahoy-v1.txt\n",
      "First line: | Ésta es una lista de los antepasados de Jesucristo , que fue descendiente de David y de Abraham :\n",
      "Last line: | Que el Señor Jesús derrame su gracia sobre todos .\n",
      "7785\n",
      "---------------\n",
      "\n",
      "3\n",
      "Bible: spa-x-bible-reinavalera1960-v1.txt\n",
      "First line: | Libro de la genealogía de Jesucristo , hijo de David , hijo de Abraham .\n",
      "Last line: | La gracia del Señor Jesús sea con todos . Amén .\n",
      "7945\n",
      "---------------\n",
      "\n",
      "4\n",
      "Bible: spa-x-bible-blph-youversion-v1.txt\n",
      "First line: | Esta es la lista de los antepasados * de Jesucristo , descendiente de David y de Abrahán :\n",
      "Last line: | Que la gracia de Jesús , el Señor , esté con todos . Amén .\n",
      "7766\n",
      "---------------\n",
      "\n",
      "5\n",
      "Bible: spa-x-bible-rvr95-youversion-v1.txt\n",
      "First line: | Libro de la genealogía de Jesucristo , hijo de David , hijo de Abraham :\n",
      "Last line: | La gracia de nuestro Señor Jesucristo sea con todos vosotros . Amén .\n",
      "7958\n",
      "---------------\n",
      "\n",
      "6\n",
      "Bible: spa-x-bible-tla-v1.txt\n",
      "First line: | Jesús era descendiente de David y de Abraham . Ésta es la lista de todos sus familiares que vivieron antes de él :\n",
      "Last line: | Que el amor del Señor Jesús los acompañe siempre .\n",
      "7337\n",
      "---------------\n",
      "\n"
     ]
    },
    {
     "data": {
      "text/plain": [
       "{'mean_ttr': 0.061,\n",
       " 'mean_mattr': 0.458,\n",
       " 'avg_line_count': 7754,\n",
       " 'ttr_variance': 0.0001,\n",
       " 'mattr_variance': 0.00013}"
      ]
     },
     "execution_count": 339,
     "metadata": {},
     "output_type": "execute_result"
    }
   ],
   "source": [
    "aggregate_scores_for_language([os.path.join(generic_path, bib) for bib in spanish],)"
   ]
  },
  {
   "cell_type": "code",
   "execution_count": 340,
   "id": "e7b91d58",
   "metadata": {},
   "outputs": [],
   "source": [
    "swahili = [\n",
    "    'swh-x-bible-habarinjema-v1.txt',\n",
    "'swh-x-bible-swh-v1.txt',\n",
    "'swh-x-bible-union-v1.txt'\n",
    "]"
   ]
  },
  {
   "cell_type": "code",
   "execution_count": 341,
   "id": "279ce2da",
   "metadata": {},
   "outputs": [
    {
     "name": "stdout",
     "output_type": "stream",
     "text": [
      "1\n",
      "Bible: swh-x-bible-habarinjema-v1.txt\n",
      "First line: | Yesu Kristo alikuwa wa ukoo wa Daudi , wa ukoo wa Abrahamu . Hii ndiyo orodha ya ukoo wake : Isaka alimzaa Yakobo , Yakobo alimzaa Yuda na ndugu zake , Peresi alimzaa Hesroni , Hesroni alimzaa Rami , Aminadabu alimzaa Nashoni , Nashoni alimzaa Salmoni , Boazi na Ruthu walikuwa wazazi wa Obedi , Obedi alimzaa Yese , Daudi alimzaa Solomoni ( mama yake Solomoni alikuwa Bath-Sheba mke wa Uria ) . Rehoboamu alimzaa Abiya , Abiya alimzaa Asa , Yehoshafati alimzaa Yoramu , Yoramu alimzaa Uzia , Yothamu alimzaa Ahazi , Ahazi alimzaa Hezekia , Manase alimzaa Amoni , Amoni alimzaa Yosia , Huo ulikuwa wakati Wayahudi walipopelekwa uhamishoni Babuloni . Yekonia alimzaa Shealtieli , Shealtieli alimzaa Zerubabeli , Abiudi alimzaa Eliakimu , Eliakimu alimzaa Azori , Zadoki alimzaa Akimu , Akimu alimzaa Eliudi , Eleazari alimzaa Mathani , Mathani alimzaa Yakobo ,\n",
      "Last line: | Nawatakieni nyote neema ya Bwana Yesu . Amina .\n",
      "7689\n",
      "---------------\n",
      "\n",
      "2\n",
      "Bible: swh-x-bible-swh-v1.txt\n",
      "First line: | Yesu Kristo alikuwa mzawa wa Daudi , mzawa wa Abrahamu . Hii ndiyo orodha ya ukoo wake :\n",
      "Last line: | Nawatakieni nyote neema ya Bwana Yesu . Amen .\n",
      "7959\n",
      "---------------\n",
      "\n",
      "3\n",
      "Bible: swh-x-bible-union-v1.txt\n",
      "First line: | Kitabu cha ukoo wa Yesu Kristo , mwana wa Daudi , mwana wa Ibrahimu .\n",
      "Last line: | Neema ya Bwana Yesu na iwe pamoja nanyi nyote . Amina .\n",
      "7574\n",
      "---------------\n",
      "\n"
     ]
    },
    {
     "data": {
      "text/plain": [
       "{'mean_ttr': 0.12,\n",
       " 'mean_mattr': 0.55,\n",
       " 'avg_line_count': 7740,\n",
       " 'ttr_variance': 4e-05,\n",
       " 'mattr_variance': 2e-05}"
      ]
     },
     "execution_count": 341,
     "metadata": {},
     "output_type": "execute_result"
    }
   ],
   "source": [
    "aggregate_scores_for_language([os.path.join(generic_path, bib) for bib in swahili],)"
   ]
  },
  {
   "cell_type": "code",
   "execution_count": 342,
   "id": "76f97f4f",
   "metadata": {},
   "outputs": [],
   "source": [
    "turkish = ['tur-x-bible-2009-v1.txt',\n",
    "'tur-x-bible-southernazeri-v1.txt',\n",
    "'tur-x-bible-tur-v1.txt']"
   ]
  },
  {
   "cell_type": "code",
   "execution_count": 347,
   "id": "315781a5",
   "metadata": {},
   "outputs": [
    {
     "name": "stdout",
     "output_type": "stream",
     "text": [
      "1\n",
      "Bible: tur-x-bible-2009-v1.txt\n",
      "First line: | Ýbrahim oðlu , Davut oðlu Ýsa Mesih’in soyuyla ilgili kayýt þöyledir : Ýbrahim , Ýshak’ýn babasýydý . Ýshak , Yakub’un babasý ; Yakup da Yahuda ve onun kardeþlerinin babasýydý .\n",
      "Last line: | Rab Ýsa’nýn lütfu , kutsallarla birlikte olsun . Amin .\n",
      "7428\n",
      "---------------\n",
      "\n",
      "2\n",
      "Bible: tur-x-bible-southernazeri-v1.txt\n",
      "First line: | - 2 İbrahim oğlu , Davut oğlu İsa Mesihin soy kaydı şöyledir : İbrahim İshakın babasıydı , İshak Yakupun babasıydı , Yakup Yahuda ve kardeşlerinin babasıydı ,\n",
      "Last line: | Rab İsa'nın lütfu kutsallarla birlikte olsun ! Amin .\n",
      "7458\n",
      "---------------\n",
      "\n",
      "3\n",
      "Bible: tur-x-bible-tur-v1.txt\n",
      "First line: | İbrahim oğlu , Davut oğlu İsa Mesih'in soyuyla ilgili kayıt şöyledir : İbrahim , İshak'ın babasıydı . İshak , Yakup'un babası ; Yakup da Yahuda ve onun kardeşlerinin babasıydı .\n",
      "Last line: | Rab İsa'nın lütfu , kutsallarla birlikte olsun . Amin .\n",
      "7440\n",
      "---------------\n",
      "\n"
     ]
    },
    {
     "data": {
      "text/plain": [
       "{'mean_ttr': 0.169,\n",
       " 'mean_mattr': 0.662,\n",
       " 'avg_line_count': 7442,\n",
       " 'ttr_variance': 0.0001,\n",
       " 'mattr_variance': 0.00058}"
      ]
     },
     "execution_count": 347,
     "metadata": {},
     "output_type": "execute_result"
    }
   ],
   "source": [
    "aggregate_scores_for_language([os.path.join(generic_path, bib) for bib in turkish],\n",
    "                             save_folder=os.path.join(generic_path, \"contents/turkish\"),\n",
    "                             start_lines=[0,22724,0])"
   ]
  },
  {
   "cell_type": "code",
   "execution_count": 348,
   "id": "171469f9",
   "metadata": {},
   "outputs": [],
   "source": [
    "vietnamese = [\n",
    "    'vie-x-bible-1926compounds-v1.txt',\n",
    "'vie-x-bible-1926nocompounds-v1.txt',\n",
    "'vie-x-bible-2002-v1.txt',\n",
    "'vie-x-bible-banphothong-v1.txt',\n",
    "'vie-x-bible-bd2011-youversion-v1.txt',\n",
    "'vie-x-bible-revised2010-v1.txt'\n",
    "]"
   ]
  },
  {
   "cell_type": "code",
   "execution_count": 350,
   "id": "2cd7bffe",
   "metadata": {},
   "outputs": [
    {
     "name": "stdout",
     "output_type": "stream",
     "text": [
      "1\n",
      "Bible: vie-x-bible-1926compounds-v1.txt\n",
      "First line: | Gia-phổ Đức Chúa Jêsus-Christ , con cháu Đa-vít và con cháu Áp-ra-ham .\n",
      "Last line: | Nguyền xin ân-điển của Đức Chúa Jêsus ở với mọi người !\n",
      "7945\n",
      "---------------\n",
      "\n",
      "2\n",
      "Bible: vie-x-bible-1926nocompounds-v1.txt\n",
      "First line: | Gia phổ Đức Chúa Jêsus Christ , con cháu Đa-vít và con cháu Áp-ra-ham .\n",
      "Last line: | Nguyền xin ân điển của Đức Chúa Jêsus ở với mọi người !\n",
      "7960\n",
      "---------------\n",
      "\n",
      "3\n",
      "Bible: vie-x-bible-2002-v1.txt\n",
      "First line: | Gia phổ của Chúa Cứu Thế Giê-su , dòng dõi Đa-vít , con cháu Áp-ra-ham .\n",
      "Last line: | Đấng làm chứng cho những điều này phán : “ Phải , Ta đến mau chóng! ” A-men . Lạy Chúa Giê-su , xin Ngài đến!\n",
      "7952\n",
      "---------------\n",
      "\n",
      "4\n",
      "Bible: vie-x-bible-banphothong-v1.txt\n",
      "First line: | Đây là gia phổ của Chúa Cứu Thế Giê-xu . Ngài xuất thân từ dòng họ Đa-vít , Đa-vít xuất thân từ dòng họ Áp-ra-ham .\n",
      "Last line: | Nguyền xin ân phúc của Chúa Giê-xu ở với mọi người . A-men .\n",
      "7853\n",
      "---------------\n",
      "\n",
      "5\n",
      "Bible: vie-x-bible-bd2011-youversion-v1.txt\n",
      "First line: | Đây là gia phả của Đức Chúa Jesus Christ , con cháu Đa-vít , con cháu Áp-ra-ham .\n",
      "Last line: | Nguyện xin ân sủng của Chúa , Đức Chúa Jesus , ở với mọi người . A-men .\n",
      "7958\n",
      "---------------\n",
      "\n",
      "6\n",
      "Bible: vie-x-bible-revised2010-v1.txt\n",
      "First line: | Gia phả của Đức Chúa Jêsus Christ , con cháu Đa-vít , con cháu Áp-ra-ham .\n",
      "Last line: | Cầu xin ân điển của Chúa là Đức Chúa Jêsus ở với mọi người !\n",
      "7755\n",
      "---------------\n",
      "\n"
     ]
    },
    {
     "data": {
      "text/plain": [
       "{'mean_ttr': 0.017,\n",
       " 'mean_mattr': 0.422,\n",
       " 'avg_line_count': 7903,\n",
       " 'ttr_variance': 1e-05,\n",
       " 'mattr_variance': 0.00016}"
      ]
     },
     "execution_count": 350,
     "metadata": {},
     "output_type": "execute_result"
    }
   ],
   "source": [
    "aggregate_scores_for_language([os.path.join(generic_path, bib) for bib in vietnamese],\n",
    "                             save_folder=os.path.join(generic_path, \"contents/vietnamese\"),\n",
    "                             start_lines=[23114,23146,23144,0,0,0]\n",
    "                             )"
   ]
  }
 ],
 "metadata": {
  "kernelspec": {
   "display_name": "Python 3 (ipykernel)",
   "language": "python",
   "name": "python3"
  },
  "language_info": {
   "codemirror_mode": {
    "name": "ipython",
    "version": 3
   },
   "file_extension": ".py",
   "mimetype": "text/x-python",
   "name": "python",
   "nbconvert_exporter": "python",
   "pygments_lexer": "ipython3",
   "version": "3.9.7"
  }
 },
 "nbformat": 4,
 "nbformat_minor": 5
}
