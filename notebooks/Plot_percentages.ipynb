{
 "cells": [
  {
   "cell_type": "code",
   "execution_count": 1,
   "id": "7b255b6e",
   "metadata": {},
   "outputs": [],
   "source": [
    "import pandas as pd\n",
    "import matplotlib.pyplot as plt\n",
    "%matplotlib inline\n",
    "plt.style.use(\"seaborn\")"
   ]
  },
  {
   "cell_type": "code",
   "execution_count": 2,
   "id": "dcbf1f18",
   "metadata": {},
   "outputs": [],
   "source": [
    "def percentage_change(col1, col2):\n",
    "    return round(((col2 - col1)/ col1) * 100, 2)"
   ]
  },
  {
   "cell_type": "code",
   "execution_count": 3,
   "id": "02346a32",
   "metadata": {},
   "outputs": [],
   "source": [
    "language_dict = {\n",
    "    \"amh\": \"Amharic\", \"chm\": \"Meadow Mari\", \"fra\": \"French\", \"hun\": \"Hungarian\", \"ind\": \"Indonesian\",\n",
    "    \"isl\": \"Icelandic\", \"sme\": \"Northern\\nSami\", \"vie\": \"Vietnamese\"\n",
    "}"
   ]
  },
  {
   "cell_type": "code",
   "execution_count": 4,
   "id": "335d78c6",
   "metadata": {},
   "outputs": [],
   "source": [
    "path_to_scores = \"../results/tables/all_results/accuracy.csv\""
   ]
  },
  {
   "cell_type": "code",
   "execution_count": 5,
   "id": "df41a68f",
   "metadata": {},
   "outputs": [
    {
     "data": {
      "text/html": [
       "<div>\n",
       "<style scoped>\n",
       "    .dataframe tbody tr th:only-of-type {\n",
       "        vertical-align: middle;\n",
       "    }\n",
       "\n",
       "    .dataframe tbody tr th {\n",
       "        vertical-align: top;\n",
       "    }\n",
       "\n",
       "    .dataframe thead th {\n",
       "        text-align: right;\n",
       "    }\n",
       "</style>\n",
       "<table border=\"1\" class=\"dataframe\">\n",
       "  <thead>\n",
       "    <tr style=\"text-align: right;\">\n",
       "      <th></th>\n",
       "      <th>no-lang</th>\n",
       "      <th>target-lang</th>\n",
       "      <th>low-ttr</th>\n",
       "      <th>high-ttr</th>\n",
       "      <th>low-mattr</th>\n",
       "      <th>high-mattr</th>\n",
       "    </tr>\n",
       "  </thead>\n",
       "  <tbody>\n",
       "    <tr>\n",
       "      <th>Amharic</th>\n",
       "      <td>5.7</td>\n",
       "      <td>11.1</td>\n",
       "      <td>12.9</td>\n",
       "      <td>11.3</td>\n",
       "      <td>10.5</td>\n",
       "      <td>8.3</td>\n",
       "    </tr>\n",
       "    <tr>\n",
       "      <th>Meadow Mari</th>\n",
       "      <td>14.3</td>\n",
       "      <td>15.4</td>\n",
       "      <td>10.3</td>\n",
       "      <td>15.0</td>\n",
       "      <td>8.7</td>\n",
       "      <td>19.3</td>\n",
       "    </tr>\n",
       "    <tr>\n",
       "      <th>French</th>\n",
       "      <td>60.3</td>\n",
       "      <td>53.0</td>\n",
       "      <td>25.7</td>\n",
       "      <td>48.6</td>\n",
       "      <td>22.8</td>\n",
       "      <td>12.3</td>\n",
       "    </tr>\n",
       "    <tr>\n",
       "      <th>Hungarian</th>\n",
       "      <td>32.0</td>\n",
       "      <td>44.8</td>\n",
       "      <td>13.8</td>\n",
       "      <td>36.4</td>\n",
       "      <td>19.7</td>\n",
       "      <td>37.3</td>\n",
       "    </tr>\n",
       "    <tr>\n",
       "      <th>Indonesian</th>\n",
       "      <td>48.3</td>\n",
       "      <td>57.1</td>\n",
       "      <td>22.6</td>\n",
       "      <td>51.9</td>\n",
       "      <td>32.7</td>\n",
       "      <td>22.0</td>\n",
       "    </tr>\n",
       "    <tr>\n",
       "      <th>Icelandic</th>\n",
       "      <td>20.2</td>\n",
       "      <td>38.6</td>\n",
       "      <td>29.8</td>\n",
       "      <td>40.2</td>\n",
       "      <td>19.8</td>\n",
       "      <td>16.7</td>\n",
       "    </tr>\n",
       "    <tr>\n",
       "      <th>Northern\\nSami</th>\n",
       "      <td>15.1</td>\n",
       "      <td>19.1</td>\n",
       "      <td>14.6</td>\n",
       "      <td>19.6</td>\n",
       "      <td>19.0</td>\n",
       "      <td>22.3</td>\n",
       "    </tr>\n",
       "    <tr>\n",
       "      <th>Vietnamese</th>\n",
       "      <td>50.3</td>\n",
       "      <td>62.2</td>\n",
       "      <td>54.7</td>\n",
       "      <td>51.8</td>\n",
       "      <td>33.6</td>\n",
       "      <td>26.3</td>\n",
       "    </tr>\n",
       "  </tbody>\n",
       "</table>\n",
       "</div>"
      ],
      "text/plain": [
       "                no-lang  target-lang  low-ttr  high-ttr  low-mattr  high-mattr\n",
       "Amharic             5.7         11.1     12.9      11.3       10.5         8.3\n",
       "Meadow Mari        14.3         15.4     10.3      15.0        8.7        19.3\n",
       "French             60.3         53.0     25.7      48.6       22.8        12.3\n",
       "Hungarian          32.0         44.8     13.8      36.4       19.7        37.3\n",
       "Indonesian         48.3         57.1     22.6      51.9       32.7        22.0\n",
       "Icelandic          20.2         38.6     29.8      40.2       19.8        16.7\n",
       "Northern\\nSami     15.1         19.1     14.6      19.6       19.0        22.3\n",
       "Vietnamese         50.3         62.2     54.7      51.8       33.6        26.3"
      ]
     },
     "execution_count": 5,
     "metadata": {},
     "output_type": "execute_result"
    }
   ],
   "source": [
    "scores_df = pd.read_csv(path_to_scores, sep=\";\", index_col=0)\n",
    "scores_df.rename(index=language_dict, inplace=True)\n",
    "scores_df"
   ]
  },
  {
   "cell_type": "code",
   "execution_count": 6,
   "id": "b312e408",
   "metadata": {},
   "outputs": [],
   "source": [
    "scores_df[\"low_ttr_percentage\"] = percentage_change(scores_df[\"target-lang\"], scores_df[\"low-ttr\"])\n",
    "scores_df[\"high_ttr_percentage\"] = percentage_change(scores_df[\"target-lang\"], scores_df[\"high-ttr\"])\n",
    "scores_df[\"low_mattr_percentage\"] = percentage_change(scores_df[\"target-lang\"], scores_df[\"low-mattr\"])\n",
    "scores_df[\"high_mattr_percentage\"] = percentage_change(scores_df[\"target-lang\"], scores_df[\"high-mattr\"])\n",
    "# scores_df[\"no_lang_percentage\"] = percentage_change(scores_df[\"target-lang\"], scores_df[\"no-lang\"])\n",
    "\n",
    "# scores_df[\"target-lang-improvement-on-no-lang\"] = percentage_change(scores_df[\"no-lang\"], scores_df[\"target-lang\"])"
   ]
  },
  {
   "cell_type": "code",
   "execution_count": 7,
   "id": "ae66ee9d",
   "metadata": {},
   "outputs": [
    {
     "data": {
      "text/html": [
       "<div>\n",
       "<style scoped>\n",
       "    .dataframe tbody tr th:only-of-type {\n",
       "        vertical-align: middle;\n",
       "    }\n",
       "\n",
       "    .dataframe tbody tr th {\n",
       "        vertical-align: top;\n",
       "    }\n",
       "\n",
       "    .dataframe thead th {\n",
       "        text-align: right;\n",
       "    }\n",
       "</style>\n",
       "<table border=\"1\" class=\"dataframe\">\n",
       "  <thead>\n",
       "    <tr style=\"text-align: right;\">\n",
       "      <th></th>\n",
       "      <th>no-lang</th>\n",
       "      <th>target-lang</th>\n",
       "      <th>low-ttr</th>\n",
       "      <th>high-ttr</th>\n",
       "      <th>low-mattr</th>\n",
       "      <th>high-mattr</th>\n",
       "      <th>low_ttr_percentage</th>\n",
       "      <th>high_ttr_percentage</th>\n",
       "      <th>low_mattr_percentage</th>\n",
       "      <th>high_mattr_percentage</th>\n",
       "    </tr>\n",
       "  </thead>\n",
       "  <tbody>\n",
       "    <tr>\n",
       "      <th>Amharic</th>\n",
       "      <td>5.7</td>\n",
       "      <td>11.1</td>\n",
       "      <td>12.9</td>\n",
       "      <td>11.3</td>\n",
       "      <td>10.5</td>\n",
       "      <td>8.3</td>\n",
       "      <td>16.22</td>\n",
       "      <td>1.80</td>\n",
       "      <td>-5.41</td>\n",
       "      <td>-25.23</td>\n",
       "    </tr>\n",
       "    <tr>\n",
       "      <th>Meadow Mari</th>\n",
       "      <td>14.3</td>\n",
       "      <td>15.4</td>\n",
       "      <td>10.3</td>\n",
       "      <td>15.0</td>\n",
       "      <td>8.7</td>\n",
       "      <td>19.3</td>\n",
       "      <td>-33.12</td>\n",
       "      <td>-2.60</td>\n",
       "      <td>-43.51</td>\n",
       "      <td>25.32</td>\n",
       "    </tr>\n",
       "    <tr>\n",
       "      <th>French</th>\n",
       "      <td>60.3</td>\n",
       "      <td>53.0</td>\n",
       "      <td>25.7</td>\n",
       "      <td>48.6</td>\n",
       "      <td>22.8</td>\n",
       "      <td>12.3</td>\n",
       "      <td>-51.51</td>\n",
       "      <td>-8.30</td>\n",
       "      <td>-56.98</td>\n",
       "      <td>-76.79</td>\n",
       "    </tr>\n",
       "    <tr>\n",
       "      <th>Hungarian</th>\n",
       "      <td>32.0</td>\n",
       "      <td>44.8</td>\n",
       "      <td>13.8</td>\n",
       "      <td>36.4</td>\n",
       "      <td>19.7</td>\n",
       "      <td>37.3</td>\n",
       "      <td>-69.20</td>\n",
       "      <td>-18.75</td>\n",
       "      <td>-56.03</td>\n",
       "      <td>-16.74</td>\n",
       "    </tr>\n",
       "    <tr>\n",
       "      <th>Indonesian</th>\n",
       "      <td>48.3</td>\n",
       "      <td>57.1</td>\n",
       "      <td>22.6</td>\n",
       "      <td>51.9</td>\n",
       "      <td>32.7</td>\n",
       "      <td>22.0</td>\n",
       "      <td>-60.42</td>\n",
       "      <td>-9.11</td>\n",
       "      <td>-42.73</td>\n",
       "      <td>-61.47</td>\n",
       "    </tr>\n",
       "    <tr>\n",
       "      <th>Icelandic</th>\n",
       "      <td>20.2</td>\n",
       "      <td>38.6</td>\n",
       "      <td>29.8</td>\n",
       "      <td>40.2</td>\n",
       "      <td>19.8</td>\n",
       "      <td>16.7</td>\n",
       "      <td>-22.80</td>\n",
       "      <td>4.15</td>\n",
       "      <td>-48.70</td>\n",
       "      <td>-56.74</td>\n",
       "    </tr>\n",
       "    <tr>\n",
       "      <th>Northern\\nSami</th>\n",
       "      <td>15.1</td>\n",
       "      <td>19.1</td>\n",
       "      <td>14.6</td>\n",
       "      <td>19.6</td>\n",
       "      <td>19.0</td>\n",
       "      <td>22.3</td>\n",
       "      <td>-23.56</td>\n",
       "      <td>2.62</td>\n",
       "      <td>-0.52</td>\n",
       "      <td>16.75</td>\n",
       "    </tr>\n",
       "    <tr>\n",
       "      <th>Vietnamese</th>\n",
       "      <td>50.3</td>\n",
       "      <td>62.2</td>\n",
       "      <td>54.7</td>\n",
       "      <td>51.8</td>\n",
       "      <td>33.6</td>\n",
       "      <td>26.3</td>\n",
       "      <td>-12.06</td>\n",
       "      <td>-16.72</td>\n",
       "      <td>-45.98</td>\n",
       "      <td>-57.72</td>\n",
       "    </tr>\n",
       "  </tbody>\n",
       "</table>\n",
       "</div>"
      ],
      "text/plain": [
       "                no-lang  target-lang  low-ttr  high-ttr  low-mattr  \\\n",
       "Amharic             5.7         11.1     12.9      11.3       10.5   \n",
       "Meadow Mari        14.3         15.4     10.3      15.0        8.7   \n",
       "French             60.3         53.0     25.7      48.6       22.8   \n",
       "Hungarian          32.0         44.8     13.8      36.4       19.7   \n",
       "Indonesian         48.3         57.1     22.6      51.9       32.7   \n",
       "Icelandic          20.2         38.6     29.8      40.2       19.8   \n",
       "Northern\\nSami     15.1         19.1     14.6      19.6       19.0   \n",
       "Vietnamese         50.3         62.2     54.7      51.8       33.6   \n",
       "\n",
       "                high-mattr  low_ttr_percentage  high_ttr_percentage  \\\n",
       "Amharic                8.3               16.22                 1.80   \n",
       "Meadow Mari           19.3              -33.12                -2.60   \n",
       "French                12.3              -51.51                -8.30   \n",
       "Hungarian             37.3              -69.20               -18.75   \n",
       "Indonesian            22.0              -60.42                -9.11   \n",
       "Icelandic             16.7              -22.80                 4.15   \n",
       "Northern\\nSami        22.3              -23.56                 2.62   \n",
       "Vietnamese            26.3              -12.06               -16.72   \n",
       "\n",
       "                low_mattr_percentage  high_mattr_percentage  \n",
       "Amharic                        -5.41                 -25.23  \n",
       "Meadow Mari                   -43.51                  25.32  \n",
       "French                        -56.98                 -76.79  \n",
       "Hungarian                     -56.03                 -16.74  \n",
       "Indonesian                    -42.73                 -61.47  \n",
       "Icelandic                     -48.70                 -56.74  \n",
       "Northern\\nSami                 -0.52                  16.75  \n",
       "Vietnamese                    -45.98                 -57.72  "
      ]
     },
     "execution_count": 7,
     "metadata": {},
     "output_type": "execute_result"
    }
   ],
   "source": [
    "scores_df"
   ]
  },
  {
   "cell_type": "code",
   "execution_count": 8,
   "id": "9992930f",
   "metadata": {},
   "outputs": [],
   "source": [
    "scores_df.filter(items=[\"low_ttr_percentage\", \"high_ttr_percentage\",\n",
    "                       \"low_mattr_percentage\", \"high_mattr_percentage\"]).to_csv(\"/Users/marcellfekete/Downloads/percentages.csv\", sep=\";\")"
   ]
  },
  {
   "cell_type": "code",
   "execution_count": 9,
   "id": "aefe129e",
   "metadata": {},
   "outputs": [],
   "source": [
    "not_percents = scores_df.iloc[:, :6]"
   ]
  },
  {
   "cell_type": "code",
   "execution_count": 10,
   "id": "3738bd4e",
   "metadata": {},
   "outputs": [],
   "source": [
    "percents = scores_df.iloc[:, 6:].rename(columns={\"low_ttr_percentage\": \"low-dttr\",\n",
    "                                                \"high_ttr_percentage\": \"high-dttr\",\n",
    "                                                \"low_mattr_percentage\": \"low-dmattr\",\n",
    "                                                \"high_mattr_percentage\": \"high-dmattr\"})"
   ]
  },
  {
   "cell_type": "code",
   "execution_count": 11,
   "id": "e7edf3ab",
   "metadata": {},
   "outputs": [
    {
     "data": {
      "text/html": [
       "<div>\n",
       "<style scoped>\n",
       "    .dataframe tbody tr th:only-of-type {\n",
       "        vertical-align: middle;\n",
       "    }\n",
       "\n",
       "    .dataframe tbody tr th {\n",
       "        vertical-align: top;\n",
       "    }\n",
       "\n",
       "    .dataframe thead th {\n",
       "        text-align: right;\n",
       "    }\n",
       "</style>\n",
       "<table border=\"1\" class=\"dataframe\">\n",
       "  <thead>\n",
       "    <tr style=\"text-align: right;\">\n",
       "      <th></th>\n",
       "      <th>low-dttr</th>\n",
       "      <th>high-dttr</th>\n",
       "      <th>low-dmattr</th>\n",
       "      <th>high-dmattr</th>\n",
       "    </tr>\n",
       "  </thead>\n",
       "  <tbody>\n",
       "    <tr>\n",
       "      <th>Amharic</th>\n",
       "      <td>16.22</td>\n",
       "      <td>1.80</td>\n",
       "      <td>-5.41</td>\n",
       "      <td>-25.23</td>\n",
       "    </tr>\n",
       "    <tr>\n",
       "      <th>Meadow Mari</th>\n",
       "      <td>-33.12</td>\n",
       "      <td>-2.60</td>\n",
       "      <td>-43.51</td>\n",
       "      <td>25.32</td>\n",
       "    </tr>\n",
       "    <tr>\n",
       "      <th>French</th>\n",
       "      <td>-51.51</td>\n",
       "      <td>-8.30</td>\n",
       "      <td>-56.98</td>\n",
       "      <td>-76.79</td>\n",
       "    </tr>\n",
       "    <tr>\n",
       "      <th>Hungarian</th>\n",
       "      <td>-69.20</td>\n",
       "      <td>-18.75</td>\n",
       "      <td>-56.03</td>\n",
       "      <td>-16.74</td>\n",
       "    </tr>\n",
       "    <tr>\n",
       "      <th>Indonesian</th>\n",
       "      <td>-60.42</td>\n",
       "      <td>-9.11</td>\n",
       "      <td>-42.73</td>\n",
       "      <td>-61.47</td>\n",
       "    </tr>\n",
       "    <tr>\n",
       "      <th>Icelandic</th>\n",
       "      <td>-22.80</td>\n",
       "      <td>4.15</td>\n",
       "      <td>-48.70</td>\n",
       "      <td>-56.74</td>\n",
       "    </tr>\n",
       "    <tr>\n",
       "      <th>Northern\\nSami</th>\n",
       "      <td>-23.56</td>\n",
       "      <td>2.62</td>\n",
       "      <td>-0.52</td>\n",
       "      <td>16.75</td>\n",
       "    </tr>\n",
       "    <tr>\n",
       "      <th>Vietnamese</th>\n",
       "      <td>-12.06</td>\n",
       "      <td>-16.72</td>\n",
       "      <td>-45.98</td>\n",
       "      <td>-57.72</td>\n",
       "    </tr>\n",
       "  </tbody>\n",
       "</table>\n",
       "</div>"
      ],
      "text/plain": [
       "                low-dttr  high-dttr  low-dmattr  high-dmattr\n",
       "Amharic            16.22       1.80       -5.41       -25.23\n",
       "Meadow Mari       -33.12      -2.60      -43.51        25.32\n",
       "French            -51.51      -8.30      -56.98       -76.79\n",
       "Hungarian         -69.20     -18.75      -56.03       -16.74\n",
       "Indonesian        -60.42      -9.11      -42.73       -61.47\n",
       "Icelandic         -22.80       4.15      -48.70       -56.74\n",
       "Northern\\nSami    -23.56       2.62       -0.52        16.75\n",
       "Vietnamese        -12.06     -16.72      -45.98       -57.72"
      ]
     },
     "execution_count": 11,
     "metadata": {},
     "output_type": "execute_result"
    }
   ],
   "source": [
    "percents"
   ]
  },
  {
   "cell_type": "code",
   "execution_count": 12,
   "id": "bdd1a9e0",
   "metadata": {},
   "outputs": [],
   "source": [
    "# title = \"Change in accuracy compared to target language adapters.\"\n",
    "ylabel = \"Change in accuracy (in percentage)\"\n",
    "# ylabel = \"Target languages\""
   ]
  },
  {
   "cell_type": "code",
   "execution_count": 13,
   "id": "b3b6c1e6",
   "metadata": {},
   "outputs": [
    {
     "data": {
      "image/png": "[encoded data removed]",
      "text/plain": [
       "<Figure size 576x396 with 1 Axes>"
      ]
     },
     "metadata": {},
     "output_type": "display_data"
    }
   ],
   "source": [
    "ax = percents.plot.bar(\n",
    "#     title=title,\n",
    "                 ylabel=ylabel,\n",
    "#                  ylabel=ylabel,\n",
    "                 rot=0)\n"
   ]
  },
  {
   "cell_type": "code",
   "execution_count": 14,
   "id": "cf3244ce",
   "metadata": {},
   "outputs": [],
   "source": [
    "fig = ax.get_figure()\n",
    "fig.savefig('../results/figures/percentages/all_percentages.pdf')"
   ]
  },
  {
   "cell_type": "code",
   "execution_count": 15,
   "id": "c1ac3a97",
   "metadata": {},
   "outputs": [],
   "source": [
    "path_to_scores3 = \"../results/tables/all_results/k_3_accuracy.csv\""
   ]
  },
  {
   "cell_type": "code",
   "execution_count": 16,
   "id": "9b4ccfd0",
   "metadata": {},
   "outputs": [],
   "source": [
    "scores_df3 = pd.read_csv(path_to_scores3, sep=\";\", index_col=0)"
   ]
  },
  {
   "cell_type": "code",
   "execution_count": 17,
   "id": "1cb98660",
   "metadata": {},
   "outputs": [],
   "source": [
    "scores_df3[\"low_ttr_percentage\"] = percentage_change(scores_df3[\"target-lang\"], scores_df3[\"low-ttr\"])\n",
    "scores_df3[\"high_ttr_percentage\"] = percentage_change(scores_df3[\"target-lang\"], scores_df3[\"high-ttr\"])\n",
    "scores_df3[\"low_mattr_percentage\"] = percentage_change(scores_df3[\"target-lang\"], scores_df3[\"low-mattr\"])\n",
    "scores_df3[\"high_mattr_percentage\"] = percentage_change(scores_df3[\"target-lang\"], scores_df3[\"high-mattr\"])\n",
    "# scores_df3[\"no_lang_percentage\"] = percentage_change(scores_df3[\"target-lang\"], scores_df3[\"no-lang\"])"
   ]
  },
  {
   "cell_type": "code",
   "execution_count": 18,
   "id": "37d7975c",
   "metadata": {},
   "outputs": [
    {
     "data": {
      "text/html": [
       "<div>\n",
       "<style scoped>\n",
       "    .dataframe tbody tr th:only-of-type {\n",
       "        vertical-align: middle;\n",
       "    }\n",
       "\n",
       "    .dataframe tbody tr th {\n",
       "        vertical-align: top;\n",
       "    }\n",
       "\n",
       "    .dataframe thead th {\n",
       "        text-align: right;\n",
       "    }\n",
       "</style>\n",
       "<table border=\"1\" class=\"dataframe\">\n",
       "  <thead>\n",
       "    <tr style=\"text-align: right;\">\n",
       "      <th></th>\n",
       "      <th>no-lang</th>\n",
       "      <th>target-lang</th>\n",
       "      <th>low-ttr</th>\n",
       "      <th>high-ttr</th>\n",
       "      <th>low-mattr</th>\n",
       "      <th>high-mattr</th>\n",
       "      <th>low_ttr_percentage</th>\n",
       "      <th>high_ttr_percentage</th>\n",
       "      <th>low_mattr_percentage</th>\n",
       "      <th>high_mattr_percentage</th>\n",
       "    </tr>\n",
       "  </thead>\n",
       "  <tbody>\n",
       "    <tr>\n",
       "      <th>amh</th>\n",
       "      <td>9.3</td>\n",
       "      <td>15.3</td>\n",
       "      <td>15.8</td>\n",
       "      <td>14.9</td>\n",
       "      <td>14.9</td>\n",
       "      <td>11.5</td>\n",
       "      <td>3.27</td>\n",
       "      <td>-2.61</td>\n",
       "      <td>-2.61</td>\n",
       "      <td>-24.84</td>\n",
       "    </tr>\n",
       "    <tr>\n",
       "      <th>chm</th>\n",
       "      <td>20.2</td>\n",
       "      <td>22.6</td>\n",
       "      <td>14.8</td>\n",
       "      <td>23.3</td>\n",
       "      <td>13.3</td>\n",
       "      <td>29.1</td>\n",
       "      <td>-34.51</td>\n",
       "      <td>3.10</td>\n",
       "      <td>-41.15</td>\n",
       "      <td>28.76</td>\n",
       "    </tr>\n",
       "    <tr>\n",
       "      <th>fra</th>\n",
       "      <td>70.5</td>\n",
       "      <td>64.6</td>\n",
       "      <td>38.7</td>\n",
       "      <td>60.2</td>\n",
       "      <td>34.5</td>\n",
       "      <td>21.1</td>\n",
       "      <td>-40.09</td>\n",
       "      <td>-6.81</td>\n",
       "      <td>-46.59</td>\n",
       "      <td>-67.34</td>\n",
       "    </tr>\n",
       "    <tr>\n",
       "      <th>hun</th>\n",
       "      <td>43.5</td>\n",
       "      <td>59.5</td>\n",
       "      <td>21.0</td>\n",
       "      <td>50.5</td>\n",
       "      <td>30.5</td>\n",
       "      <td>48.2</td>\n",
       "      <td>-64.71</td>\n",
       "      <td>-15.13</td>\n",
       "      <td>-48.74</td>\n",
       "      <td>-18.99</td>\n",
       "    </tr>\n",
       "    <tr>\n",
       "      <th>ind</th>\n",
       "      <td>61.6</td>\n",
       "      <td>71.1</td>\n",
       "      <td>31.0</td>\n",
       "      <td>64.6</td>\n",
       "      <td>44.3</td>\n",
       "      <td>32.3</td>\n",
       "      <td>-56.40</td>\n",
       "      <td>-9.14</td>\n",
       "      <td>-37.69</td>\n",
       "      <td>-54.57</td>\n",
       "    </tr>\n",
       "    <tr>\n",
       "      <th>isl</th>\n",
       "      <td>33.8</td>\n",
       "      <td>52.0</td>\n",
       "      <td>43.1</td>\n",
       "      <td>54.6</td>\n",
       "      <td>30.7</td>\n",
       "      <td>27.3</td>\n",
       "      <td>-17.12</td>\n",
       "      <td>5.00</td>\n",
       "      <td>-40.96</td>\n",
       "      <td>-47.50</td>\n",
       "    </tr>\n",
       "    <tr>\n",
       "      <th>sme</th>\n",
       "      <td>19.9</td>\n",
       "      <td>28.8</td>\n",
       "      <td>20.4</td>\n",
       "      <td>29.0</td>\n",
       "      <td>27.2</td>\n",
       "      <td>31.6</td>\n",
       "      <td>-29.17</td>\n",
       "      <td>0.69</td>\n",
       "      <td>-5.56</td>\n",
       "      <td>9.72</td>\n",
       "    </tr>\n",
       "    <tr>\n",
       "      <th>vie</th>\n",
       "      <td>62.6</td>\n",
       "      <td>74.6</td>\n",
       "      <td>68.4</td>\n",
       "      <td>64.8</td>\n",
       "      <td>44.3</td>\n",
       "      <td>36.9</td>\n",
       "      <td>-8.31</td>\n",
       "      <td>-13.14</td>\n",
       "      <td>-40.62</td>\n",
       "      <td>-50.54</td>\n",
       "    </tr>\n",
       "  </tbody>\n",
       "</table>\n",
       "</div>"
      ],
      "text/plain": [
       "     no-lang  target-lang  low-ttr  high-ttr  low-mattr  high-mattr  \\\n",
       "amh      9.3         15.3     15.8      14.9       14.9        11.5   \n",
       "chm     20.2         22.6     14.8      23.3       13.3        29.1   \n",
       "fra     70.5         64.6     38.7      60.2       34.5        21.1   \n",
       "hun     43.5         59.5     21.0      50.5       30.5        48.2   \n",
       "ind     61.6         71.1     31.0      64.6       44.3        32.3   \n",
       "isl     33.8         52.0     43.1      54.6       30.7        27.3   \n",
       "sme     19.9         28.8     20.4      29.0       27.2        31.6   \n",
       "vie     62.6         74.6     68.4      64.8       44.3        36.9   \n",
       "\n",
       "     low_ttr_percentage  high_ttr_percentage  low_mattr_percentage  \\\n",
       "amh                3.27                -2.61                 -2.61   \n",
       "chm              -34.51                 3.10                -41.15   \n",
       "fra              -40.09                -6.81                -46.59   \n",
       "hun              -64.71               -15.13                -48.74   \n",
       "ind              -56.40                -9.14                -37.69   \n",
       "isl              -17.12                 5.00                -40.96   \n",
       "sme              -29.17                 0.69                 -5.56   \n",
       "vie               -8.31               -13.14                -40.62   \n",
       "\n",
       "     high_mattr_percentage  \n",
       "amh                 -24.84  \n",
       "chm                  28.76  \n",
       "fra                 -67.34  \n",
       "hun                 -18.99  \n",
       "ind                 -54.57  \n",
       "isl                 -47.50  \n",
       "sme                   9.72  \n",
       "vie                 -50.54  "
      ]
     },
     "execution_count": 18,
     "metadata": {},
     "output_type": "execute_result"
    }
   ],
   "source": [
    "scores_df3"
   ]
  },
  {
   "cell_type": "code",
   "execution_count": 19,
   "id": "1e65ec1f",
   "metadata": {},
   "outputs": [],
   "source": [
    "not_percents3 = scores_df3.iloc[:, :6]"
   ]
  },
  {
   "cell_type": "code",
   "execution_count": 20,
   "id": "44bce767",
   "metadata": {},
   "outputs": [],
   "source": [
    "percents3 = scores_df3.iloc[:, 6:].rename(columns={\"low_ttr_percentage\": \"Low TTR\",\n",
    "                                                \"high_ttr_percentage\": \"High TTR\",\n",
    "                                                \"low_mattr_percentage\": \"Low MATTR\",\n",
    "                                                \"high_mattr_percentage\": \"High MATTR\"})"
   ]
  },
  {
   "cell_type": "code",
   "execution_count": 21,
   "id": "a7625d78",
   "metadata": {},
   "outputs": [],
   "source": [
    "title3 = \"Change in k=3 accuracy compared to target language adapters.\"\n",
    "xlabel3 = \"Change in k=3 accuracy (in percentage)\"\n",
    "ylabel3 = \"Target languages\""
   ]
  },
  {
   "cell_type": "code",
   "execution_count": 22,
   "id": "82584d4d",
   "metadata": {},
   "outputs": [
    {
     "data": {
      "text/html": [
       "<div>\n",
       "<style scoped>\n",
       "    .dataframe tbody tr th:only-of-type {\n",
       "        vertical-align: middle;\n",
       "    }\n",
       "\n",
       "    .dataframe tbody tr th {\n",
       "        vertical-align: top;\n",
       "    }\n",
       "\n",
       "    .dataframe thead th {\n",
       "        text-align: right;\n",
       "    }\n",
       "</style>\n",
       "<table border=\"1\" class=\"dataframe\">\n",
       "  <thead>\n",
       "    <tr style=\"text-align: right;\">\n",
       "      <th></th>\n",
       "      <th>Low TTR</th>\n",
       "      <th>High TTR</th>\n",
       "      <th>Low MATTR</th>\n",
       "      <th>High MATTR</th>\n",
       "    </tr>\n",
       "  </thead>\n",
       "  <tbody>\n",
       "    <tr>\n",
       "      <th>amh</th>\n",
       "      <td>3.27</td>\n",
       "      <td>-2.61</td>\n",
       "      <td>-2.61</td>\n",
       "      <td>-24.84</td>\n",
       "    </tr>\n",
       "    <tr>\n",
       "      <th>chm</th>\n",
       "      <td>-34.51</td>\n",
       "      <td>3.10</td>\n",
       "      <td>-41.15</td>\n",
       "      <td>28.76</td>\n",
       "    </tr>\n",
       "    <tr>\n",
       "      <th>fra</th>\n",
       "      <td>-40.09</td>\n",
       "      <td>-6.81</td>\n",
       "      <td>-46.59</td>\n",
       "      <td>-67.34</td>\n",
       "    </tr>\n",
       "    <tr>\n",
       "      <th>hun</th>\n",
       "      <td>-64.71</td>\n",
       "      <td>-15.13</td>\n",
       "      <td>-48.74</td>\n",
       "      <td>-18.99</td>\n",
       "    </tr>\n",
       "    <tr>\n",
       "      <th>ind</th>\n",
       "      <td>-56.40</td>\n",
       "      <td>-9.14</td>\n",
       "      <td>-37.69</td>\n",
       "      <td>-54.57</td>\n",
       "    </tr>\n",
       "    <tr>\n",
       "      <th>isl</th>\n",
       "      <td>-17.12</td>\n",
       "      <td>5.00</td>\n",
       "      <td>-40.96</td>\n",
       "      <td>-47.50</td>\n",
       "    </tr>\n",
       "    <tr>\n",
       "      <th>sme</th>\n",
       "      <td>-29.17</td>\n",
       "      <td>0.69</td>\n",
       "      <td>-5.56</td>\n",
       "      <td>9.72</td>\n",
       "    </tr>\n",
       "    <tr>\n",
       "      <th>vie</th>\n",
       "      <td>-8.31</td>\n",
       "      <td>-13.14</td>\n",
       "      <td>-40.62</td>\n",
       "      <td>-50.54</td>\n",
       "    </tr>\n",
       "  </tbody>\n",
       "</table>\n",
       "</div>"
      ],
      "text/plain": [
       "     Low TTR  High TTR  Low MATTR  High MATTR\n",
       "amh     3.27     -2.61      -2.61      -24.84\n",
       "chm   -34.51      3.10     -41.15       28.76\n",
       "fra   -40.09     -6.81     -46.59      -67.34\n",
       "hun   -64.71    -15.13     -48.74      -18.99\n",
       "ind   -56.40     -9.14     -37.69      -54.57\n",
       "isl   -17.12      5.00     -40.96      -47.50\n",
       "sme   -29.17      0.69      -5.56        9.72\n",
       "vie    -8.31    -13.14     -40.62      -50.54"
      ]
     },
     "execution_count": 22,
     "metadata": {},
     "output_type": "execute_result"
    }
   ],
   "source": [
    "percents3"
   ]
  },
  {
   "cell_type": "code",
   "execution_count": 23,
   "id": "baf70dba",
   "metadata": {},
   "outputs": [
    {
     "data": {
      "image/png": "[encoded data removed]",
      "text/plain": [
       "<Figure size 576x396 with 1 Axes>"
      ]
     },
     "metadata": {},
     "output_type": "display_data"
    }
   ],
   "source": [
    "ax = percents3.plot.bar(title=title3,\n",
    "                 ylabel=xlabel3,\n",
    "                 xlabel=ylabel3,\n",
    "                 rot=0)"
   ]
  },
  {
   "cell_type": "code",
   "execution_count": 24,
   "id": "f52bf645",
   "metadata": {},
   "outputs": [],
   "source": [
    "fig = ax.get_figure()\n",
    "fig.savefig('../results/figures/percentages/all_percentages3.pdf')"
   ]
  },
  {
   "cell_type": "code",
   "execution_count": 28,
   "id": "b29b390b",
   "metadata": {},
   "outputs": [],
   "source": [
    "lr_percents = percents.drop(index=[\"French\", \"Hungarian\", \"Indonesian\", \"Vietnamese\"])\n",
    "# lr_percents.rename(index={\"amh\": \"Amharic\", \"chm\": \"Meadow Mari\", \"isl\": \"Icelandic\", \"sme\": \"Northern Sami\"},\n",
    "#                   inplace=True)"
   ]
  },
  {
   "cell_type": "code",
   "execution_count": 29,
   "id": "72f2c611",
   "metadata": {},
   "outputs": [
    {
     "data": {
      "text/html": [
       "<div>\n",
       "<style scoped>\n",
       "    .dataframe tbody tr th:only-of-type {\n",
       "        vertical-align: middle;\n",
       "    }\n",
       "\n",
       "    .dataframe tbody tr th {\n",
       "        vertical-align: top;\n",
       "    }\n",
       "\n",
       "    .dataframe thead th {\n",
       "        text-align: right;\n",
       "    }\n",
       "</style>\n",
       "<table border=\"1\" class=\"dataframe\">\n",
       "  <thead>\n",
       "    <tr style=\"text-align: right;\">\n",
       "      <th></th>\n",
       "      <th>low-dttr</th>\n",
       "      <th>high-dttr</th>\n",
       "      <th>low-dmattr</th>\n",
       "      <th>high-dmattr</th>\n",
       "    </tr>\n",
       "  </thead>\n",
       "  <tbody>\n",
       "    <tr>\n",
       "      <th>Amharic</th>\n",
       "      <td>16.22</td>\n",
       "      <td>1.80</td>\n",
       "      <td>-5.41</td>\n",
       "      <td>-25.23</td>\n",
       "    </tr>\n",
       "    <tr>\n",
       "      <th>Meadow Mari</th>\n",
       "      <td>-33.12</td>\n",
       "      <td>-2.60</td>\n",
       "      <td>-43.51</td>\n",
       "      <td>25.32</td>\n",
       "    </tr>\n",
       "    <tr>\n",
       "      <th>Icelandic</th>\n",
       "      <td>-22.80</td>\n",
       "      <td>4.15</td>\n",
       "      <td>-48.70</td>\n",
       "      <td>-56.74</td>\n",
       "    </tr>\n",
       "    <tr>\n",
       "      <th>Northern\\nSami</th>\n",
       "      <td>-23.56</td>\n",
       "      <td>2.62</td>\n",
       "      <td>-0.52</td>\n",
       "      <td>16.75</td>\n",
       "    </tr>\n",
       "  </tbody>\n",
       "</table>\n",
       "</div>"
      ],
      "text/plain": [
       "                low-dttr  high-dttr  low-dmattr  high-dmattr\n",
       "Amharic            16.22       1.80       -5.41       -25.23\n",
       "Meadow Mari       -33.12      -2.60      -43.51        25.32\n",
       "Icelandic         -22.80       4.15      -48.70       -56.74\n",
       "Northern\\nSami    -23.56       2.62       -0.52        16.75"
      ]
     },
     "execution_count": 29,
     "metadata": {},
     "output_type": "execute_result"
    }
   ],
   "source": [
    "lr_percents"
   ]
  },
  {
   "cell_type": "code",
   "execution_count": 33,
   "id": "425cf1e8",
   "metadata": {},
   "outputs": [
    {
     "data": {
      "text/plain": [
       "Text(0.5, 0, 'Change in accuracy scores (in percentages)')"
      ]
     },
     "execution_count": 33,
     "metadata": {},
     "output_type": "execute_result"
    },
    {
     "data": {
      "image/png": "[encoded data removed]",
      "text/plain": [
       "<Figure size 576x396 with 4 Axes>"
      ]
     },
     "metadata": {},
     "output_type": "display_data"
    }
   ],
   "source": [
    "axes = lr_percents.plot.barh(subplots=True, legend=False, yticks=range(-60, 40, 10), rot=0,\n",
    "                      color=[\"tab:green\", \"tab:red\", \"tab:purple\", \"tab:gray\"])\n",
    "\n",
    "plt.xlabel(\"Change in accuracy scores (in percentages)\")\n",
    "\n",
    "# for ax in axes:\n",
    "#     ax2 = ax.twinx()\n",
    "#     ax2.yaxis.set_ticks(range(4))\n",
    "#     ax2.yaxis.set_ticklabels([\"English\", \"English\", \"English\", \"English\"])"
   ]
  },
  {
   "cell_type": "code",
   "execution_count": 35,
   "id": "08f8f524",
   "metadata": {},
   "outputs": [],
   "source": [
    "fig = axes[0].get_figure()\n",
    "fig.savefig('../results/figures/percentages/trends_low_resource.pdf')"
   ]
  },
  {
   "cell_type": "code",
   "execution_count": 37,
   "id": "4ae37306",
   "metadata": {},
   "outputs": [
    {
     "data": {
      "text/html": [
       "<div>\n",
       "<style scoped>\n",
       "    .dataframe tbody tr th:only-of-type {\n",
       "        vertical-align: middle;\n",
       "    }\n",
       "\n",
       "    .dataframe tbody tr th {\n",
       "        vertical-align: top;\n",
       "    }\n",
       "\n",
       "    .dataframe thead th {\n",
       "        text-align: right;\n",
       "    }\n",
       "</style>\n",
       "<table border=\"1\" class=\"dataframe\">\n",
       "  <thead>\n",
       "    <tr style=\"text-align: right;\">\n",
       "      <th></th>\n",
       "      <th>no-lang</th>\n",
       "      <th>target-lang</th>\n",
       "      <th>low-ttr</th>\n",
       "      <th>high-ttr</th>\n",
       "      <th>low-mattr</th>\n",
       "      <th>high-mattr</th>\n",
       "    </tr>\n",
       "  </thead>\n",
       "  <tbody>\n",
       "    <tr>\n",
       "      <th>Amharic</th>\n",
       "      <td>5.7</td>\n",
       "      <td>11.1</td>\n",
       "      <td>12.9</td>\n",
       "      <td>11.3</td>\n",
       "      <td>10.5</td>\n",
       "      <td>8.3</td>\n",
       "    </tr>\n",
       "    <tr>\n",
       "      <th>Meadow Mari</th>\n",
       "      <td>14.3</td>\n",
       "      <td>15.4</td>\n",
       "      <td>10.3</td>\n",
       "      <td>15.0</td>\n",
       "      <td>8.7</td>\n",
       "      <td>19.3</td>\n",
       "    </tr>\n",
       "    <tr>\n",
       "      <th>French</th>\n",
       "      <td>60.3</td>\n",
       "      <td>53.0</td>\n",
       "      <td>25.7</td>\n",
       "      <td>48.6</td>\n",
       "      <td>22.8</td>\n",
       "      <td>12.3</td>\n",
       "    </tr>\n",
       "    <tr>\n",
       "      <th>Hungarian</th>\n",
       "      <td>32.0</td>\n",
       "      <td>44.8</td>\n",
       "      <td>13.8</td>\n",
       "      <td>36.4</td>\n",
       "      <td>19.7</td>\n",
       "      <td>37.3</td>\n",
       "    </tr>\n",
       "    <tr>\n",
       "      <th>Indonesian</th>\n",
       "      <td>48.3</td>\n",
       "      <td>57.1</td>\n",
       "      <td>22.6</td>\n",
       "      <td>51.9</td>\n",
       "      <td>32.7</td>\n",
       "      <td>22.0</td>\n",
       "    </tr>\n",
       "    <tr>\n",
       "      <th>Icelandic</th>\n",
       "      <td>20.2</td>\n",
       "      <td>38.6</td>\n",
       "      <td>29.8</td>\n",
       "      <td>40.2</td>\n",
       "      <td>19.8</td>\n",
       "      <td>16.7</td>\n",
       "    </tr>\n",
       "    <tr>\n",
       "      <th>Northern\\nSami</th>\n",
       "      <td>15.1</td>\n",
       "      <td>19.1</td>\n",
       "      <td>14.6</td>\n",
       "      <td>19.6</td>\n",
       "      <td>19.0</td>\n",
       "      <td>22.3</td>\n",
       "    </tr>\n",
       "    <tr>\n",
       "      <th>Vietnamese</th>\n",
       "      <td>50.3</td>\n",
       "      <td>62.2</td>\n",
       "      <td>54.7</td>\n",
       "      <td>51.8</td>\n",
       "      <td>33.6</td>\n",
       "      <td>26.3</td>\n",
       "    </tr>\n",
       "  </tbody>\n",
       "</table>\n",
       "</div>"
      ],
      "text/plain": [
       "                no-lang  target-lang  low-ttr  high-ttr  low-mattr  high-mattr\n",
       "Amharic             5.7         11.1     12.9      11.3       10.5         8.3\n",
       "Meadow Mari        14.3         15.4     10.3      15.0        8.7        19.3\n",
       "French             60.3         53.0     25.7      48.6       22.8        12.3\n",
       "Hungarian          32.0         44.8     13.8      36.4       19.7        37.3\n",
       "Indonesian         48.3         57.1     22.6      51.9       32.7        22.0\n",
       "Icelandic          20.2         38.6     29.8      40.2       19.8        16.7\n",
       "Northern\\nSami     15.1         19.1     14.6      19.6       19.0        22.3\n",
       "Vietnamese         50.3         62.2     54.7      51.8       33.6        26.3"
      ]
     },
     "execution_count": 37,
     "metadata": {},
     "output_type": "execute_result"
    }
   ],
   "source": [
    "not_percents"
   ]
  },
  {
   "cell_type": "code",
   "execution_count": 38,
   "id": "817f3689",
   "metadata": {},
   "outputs": [
    {
     "data": {
      "image/png": "[encoded data removed]",
      "text/plain": [
       "<Figure size 576x396 with 1 Axes>"
      ]
     },
     "metadata": {},
     "output_type": "display_data"
    }
   ],
   "source": [
    "ax = not_percents.plot.bar(rot=0,\n",
    "                          ylabel=\"Accuracy scores out of 100\")"
   ]
  },
  {
   "cell_type": "code",
   "execution_count": 39,
   "id": "9de7ca02",
   "metadata": {},
   "outputs": [],
   "source": [
    "fig = ax.get_figure()\n",
    "fig.savefig('../results/figures/percentages/all_results_graph.pdf')"
   ]
  },
  {
   "cell_type": "code",
   "execution_count": 40,
   "id": "21558f69",
   "metadata": {},
   "outputs": [
    {
     "data": {
      "text/plain": [
       "Amharic             9.850000\n",
       "Meadow Mari         5.496667\n",
       "French            223.033333\n",
       "Hungarian         171.396667\n",
       "Indonesian        235.555833\n",
       "Icelandic          84.906667\n",
       "Northern\\nSami      6.833333\n",
       "Vietnamese         28.003333\n",
       "dtype: float64"
      ]
     },
     "execution_count": 40,
     "metadata": {},
     "output_type": "execute_result"
    }
   ],
   "source": [
    "# ttr variance per language\n",
    "ttr_variance = not_percents.loc[:, [\"no-lang\", \"target-lang\", \"low-ttr\", \"high-ttr\"]].var(axis=1)\n",
    "ttr_variance"
   ]
  },
  {
   "cell_type": "code",
   "execution_count": 41,
   "id": "b68ed789",
   "metadata": {},
   "outputs": [
    {
     "data": {
      "text/plain": [
       "Amharic             6.000000\n",
       "Meadow Mari        19.169167\n",
       "French            536.860000\n",
       "Hungarian         111.603333\n",
       "Indonesian        246.195833\n",
       "Icelandic          99.469167\n",
       "Northern\\nSami      8.682500\n",
       "Vietnamese        263.046667\n",
       "dtype: float64"
      ]
     },
     "execution_count": 41,
     "metadata": {},
     "output_type": "execute_result"
    }
   ],
   "source": [
    "# mattr variance per language\n",
    "mattr_variance = not_percents.loc[:, [\"no-lang\", \"target-lang\", \"low-mattr\", \"high-mattr\"]].var(axis=1)\n",
    "mattr_variance"
   ]
  },
  {
   "cell_type": "code",
   "execution_count": 42,
   "id": "ab0b0737",
   "metadata": {},
   "outputs": [],
   "source": [
    "variance = pd.DataFrame([ttr_variance, mattr_variance], index=[\"TTR\", \"MATTR\"]).T"
   ]
  },
  {
   "cell_type": "code",
   "execution_count": 43,
   "id": "5e26cf86",
   "metadata": {},
   "outputs": [
    {
     "data": {
      "image/png": "[encoded data removed]",
      "text/plain": [
       "<Figure size 576x396 with 1 Axes>"
      ]
     },
     "metadata": {},
     "output_type": "display_data"
    }
   ],
   "source": [
    "ax = variance.plot.bar(title=\"Variance per language measured in accuracy (k=1) in different setups.\",\n",
    "                 ylabel=\"Variance between accuracy scores\",\n",
    "                 xlabel=\"Target languages\",\n",
    "                      rot=0)"
   ]
  },
  {
   "cell_type": "code",
   "execution_count": 44,
   "id": "1195bf90",
   "metadata": {},
   "outputs": [],
   "source": [
    "fig = ax.get_figure()\n",
    "fig.savefig('../results/figures/percentages/variance.pdf')"
   ]
  },
  {
   "cell_type": "code",
   "execution_count": 45,
   "id": "b06233ab",
   "metadata": {},
   "outputs": [
    {
     "data": {
      "text/plain": [
       "Amharic            3.138471\n",
       "Meadow Mari        2.344497\n",
       "French            14.934301\n",
       "Hungarian         13.091855\n",
       "Indonesian        15.347828\n",
       "Icelandic          9.214481\n",
       "Northern\\nSami     2.614065\n",
       "Vietnamese         5.291818\n",
       "dtype: float64"
      ]
     },
     "execution_count": 45,
     "metadata": {},
     "output_type": "execute_result"
    }
   ],
   "source": [
    "# ttr standard deviation per language\n",
    "ttr_std = not_percents.loc[:, [\"no-lang\", \"target-lang\", \"low-ttr\", \"high-ttr\"]].std(axis=1)\n",
    "ttr_std"
   ]
  },
  {
   "cell_type": "code",
   "execution_count": 46,
   "id": "d2062215",
   "metadata": {},
   "outputs": [
    {
     "data": {
      "text/plain": [
       "Amharic            2.449490\n",
       "Meadow Mari        4.378261\n",
       "French            23.170240\n",
       "Hungarian         10.564248\n",
       "Indonesian        15.690629\n",
       "Icelandic          9.973423\n",
       "Northern\\nSami     2.946608\n",
       "Vietnamese        16.218713\n",
       "dtype: float64"
      ]
     },
     "execution_count": 46,
     "metadata": {},
     "output_type": "execute_result"
    }
   ],
   "source": [
    "# mattr standard deviation per language\n",
    "mattr_std = not_percents.loc[:, [\"no-lang\", \"target-lang\", \"low-mattr\", \"high-mattr\"]].std(axis=1)\n",
    "mattr_std"
   ]
  },
  {
   "cell_type": "code",
   "execution_count": 47,
   "id": "67349def",
   "metadata": {},
   "outputs": [],
   "source": [
    "std = pd.DataFrame([ttr_std, mattr_std], index=[\"TTR\", \"MATTR\"]).T"
   ]
  },
  {
   "cell_type": "code",
   "execution_count": 48,
   "id": "2667e743",
   "metadata": {},
   "outputs": [
    {
     "data": {
      "image/png": "[encoded data removed]",
      "text/plain": [
       "<Figure size 576x396 with 1 Axes>"
      ]
     },
     "metadata": {},
     "output_type": "display_data"
    }
   ],
   "source": [
    "ax = std.plot.bar(title=\"Stand. deviation per language measured in accuracy (k=1) in different setups.\",\n",
    "            ylabel=\"Standard deviation between accuracy scores\",\n",
    "                 xlabel=\"Target languages\", rot=0)"
   ]
  },
  {
   "cell_type": "code",
   "execution_count": 49,
   "id": "b0b909a8",
   "metadata": {},
   "outputs": [],
   "source": [
    "fig = ax.get_figure()\n",
    "fig.savefig('../results/figures/percentages/std.pdf')"
   ]
  },
  {
   "cell_type": "code",
   "execution_count": 50,
   "id": "351c0d48",
   "metadata": {},
   "outputs": [
    {
     "data": {
      "text/plain": [
       "Amharic            9.966667\n",
       "Meadow Mari       13.833333\n",
       "French            37.116667\n",
       "Hungarian         30.666667\n",
       "Indonesian        39.100000\n",
       "Icelandic         27.550000\n",
       "Northern\\nSami    18.283333\n",
       "Vietnamese        46.483333\n",
       "dtype: float64"
      ]
     },
     "execution_count": 50,
     "metadata": {},
     "output_type": "execute_result"
    }
   ],
   "source": [
    "# mean value per language\n",
    "not_percents.mean(axis=1)"
   ]
  },
  {
   "cell_type": "code",
   "execution_count": 51,
   "id": "2eb36f31",
   "metadata": {},
   "outputs": [
    {
     "data": {
      "text/plain": [
       "<AxesSubplot:>"
      ]
     },
     "execution_count": 51,
     "metadata": {},
     "output_type": "execute_result"
    },
    {
     "data": {
      "image/png": "[encoded data removed]",
      "text/plain": [
       "<Figure size 576x396 with 1 Axes>"
      ]
     },
     "metadata": {},
     "output_type": "display_data"
    }
   ],
   "source": [
    "not_percents.mean(axis=1).plot.bar()"
   ]
  }
 ],
 "metadata": {
  "kernelspec": {
   "display_name": "Python 3 (ipykernel)",
   "language": "python",
   "name": "python3"
  },
  "language_info": {
   "codemirror_mode": {
    "name": "ipython",
    "version": 3
   },
   "file_extension": ".py",
   "mimetype": "text/x-python",
   "name": "python",
   "nbconvert_exporter": "python",
   "pygments_lexer": "ipython3",
   "version": "3.9.7"
  }
 },
 "nbformat": 4,
 "nbformat_minor": 5
}
